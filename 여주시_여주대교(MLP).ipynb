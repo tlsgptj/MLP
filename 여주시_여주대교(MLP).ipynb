{
  "nbformat": 4,
  "nbformat_minor": 0,
  "metadata": {
    "colab": {
      "private_outputs": true,
      "provenance": [],
      "authorship_tag": "ABX9TyM2nS9zme5gSO8L9OYfqcYF",
      "include_colab_link": true
    },
    "kernelspec": {
      "name": "python3",
      "display_name": "Python 3"
    },
    "language_info": {
      "name": "python"
    }
  },
  "cells": [
    {
      "cell_type": "markdown",
      "metadata": {
        "id": "view-in-github",
        "colab_type": "text"
      },
      "source": [
        "<a href=\"https://colab.research.google.com/github/tlsgptj/MLP/blob/MLP4/%EC%97%AC%EC%A3%BC%EC%8B%9C_%EC%97%AC%EC%A3%BC%EB%8C%80%EA%B5%90(MLP).ipynb\" target=\"_parent\"><img src=\"https://colab.research.google.com/assets/colab-badge.svg\" alt=\"Open In Colab\"/></a>"
      ]
    },
    {
      "cell_type": "code",
      "execution_count": null,
      "metadata": {
        "id": "C7Nu06eiTPBW"
      },
      "outputs": [],
      "source": [
        "import pandas as pd"
      ]
    },
    {
      "cell_type": "code",
      "source": [
        "df = pd.read_csv(\"/content/04. 여주시_여주대교.csv\", encoding=\"cp949\")"
      ],
      "metadata": {
        "id": "172WAJGfTSvR"
      },
      "execution_count": null,
      "outputs": []
    },
    {
      "cell_type": "code",
      "source": [
        "df.head(20)"
      ],
      "metadata": {
        "id": "QcgkKbWQTYfj"
      },
      "execution_count": null,
      "outputs": []
    },
    {
      "cell_type": "code",
      "source": [
        "df.info()"
      ],
      "metadata": {
        "id": "D1h51gHWTdKP"
      },
      "execution_count": null,
      "outputs": []
    },
    {
      "cell_type": "code",
      "source": [
        "import matplotlib.pyplot as plt\n",
        "import seaborn as sns"
      ],
      "metadata": {
        "id": "ClD0ErjcQbG9"
      },
      "execution_count": null,
      "outputs": []
    },
    {
      "cell_type": "code",
      "source": [
        "df = df.drop(columns=[\"측정소명\"])"
      ],
      "metadata": {
        "id": "PN0e95vBQko0"
      },
      "execution_count": null,
      "outputs": []
    },
    {
      "cell_type": "code",
      "source": [
        "plt.scatter(df[\"평균 상대습도(%)\"], df[\"유량(㎥/s)\"])\n",
        "plt.xlabel(\"평균 상대습도(%)\")\n",
        "plt.ylabel(\"유량(㎥/s)\")\n",
        "plt.title(\"습도, 유량 그래프\")\n",
        "plt.show()"
      ],
      "metadata": {
        "id": "VS1DSl9xQtcP"
      },
      "execution_count": null,
      "outputs": []
    },
    {
      "cell_type": "code",
      "source": [
        "#유량 및 평균상대습도 정규화\n",
        "df[\"평균 상대습도(%)\"] = df[\"평균 상대습도(%)\"].astype(float)/abs(df[\"평균 상대습도(%)\"].astype(float).max())\n",
        "df[\"평균 상대습도(%)\"].head()"
      ],
      "metadata": {
        "id": "y-LyytoRQ-3K"
      },
      "execution_count": null,
      "outputs": []
    },
    {
      "cell_type": "code",
      "source": [
        "df[\"유량(㎥/s)\"] = df[\"유량(㎥/s)\"].astype(float)/abs(df[\"유량(㎥/s)\"].astype(float).max())\n",
        "df[\"유량(㎥/s)\"].head()"
      ],
      "metadata": {
        "id": "U_AM4cyHRgTf"
      },
      "execution_count": null,
      "outputs": []
    },
    {
      "cell_type": "code",
      "source": [
        "df[\"평균기온(°C)\"] = df[\"평균기온(°C)\"].astype(float)/abs(df[\"평균기온(°C)\"].astype(float).max())\n",
        "df[\"평균기온(°C)\"].head()"
      ],
      "metadata": {
        "id": "kJ3K5Ih7ULPv"
      },
      "execution_count": null,
      "outputs": []
    },
    {
      "cell_type": "code",
      "source": [
        "df"
      ],
      "metadata": {
        "id": "xxxTIQOwRqIo"
      },
      "execution_count": null,
      "outputs": []
    },
    {
      "cell_type": "code",
      "source": [
        "plt.scatter(df[\"평균기온(°C)\"], df[\"유량(㎥/s)\"])\n",
        "plt.xlabel(\"평균기온(°C)\")\n",
        "plt.ylabel(\"유량(㎥/s)\")\n",
        "plt.title(\"기온에 따른 유량 그래프\")\n",
        "plt.show()"
      ],
      "metadata": {
        "id": "UG8FA8_zR_9C"
      },
      "execution_count": null,
      "outputs": []
    },
    {
      "cell_type": "code",
      "source": [
        "plt.scatter(df[\"유량(㎥/s)\"], df[\"일강수량(mm)\"])\n",
        "plt.xlabel(\"일강수량(mm)\")\n",
        "plt.ylabel(\"유량(㎥/s)\")\n",
        "plt.title(\"강수량에 따른 유량 그래프\")\n",
        "plt.show()"
      ],
      "metadata": {
        "id": "hrYIEESIVPMf"
      },
      "execution_count": null,
      "outputs": []
    },
    {
      "cell_type": "code",
      "source": [
        "plt.scatter(df[\"평균기온(°C)\"], df[\"일강수량(mm)\"])\n",
        "plt.xlabel(\"평균기온(°C)\")\n",
        "plt.ylabel(\"일강수량(mm)\")\n",
        "plt.title(\"기온에 따른 강수량 그래프\")\n",
        "plt.show()"
      ],
      "metadata": {
        "id": "rHEU0fEuUxEV"
      },
      "execution_count": null,
      "outputs": []
    },
    {
      "cell_type": "code",
      "source": [
        "df[\"일강수량(mm)\"] = df[\"일강수량(mm)\"].astype(float)/abs(df[\"일강수량(mm)\"].astype(float).max())\n",
        "df[\"일강수량(mm)\"].head()"
      ],
      "metadata": {
        "id": "awdsZDhdXWnA"
      },
      "execution_count": null,
      "outputs": []
    },
    {
      "cell_type": "code",
      "source": [
        "# 데이터 설정\n",
        "x = df[\"평균기온(°C)\"]\n",
        "y1 = df[\"일강수량(mm)\"]\n",
        "y2 = df[\"유량(㎥/s)\"]\n",
        "\n",
        "# 그래프 그리기\n",
        "plt.scatter(x, y1, label='일강수량')\n",
        "plt.scatter(x, y2, label='유량')\n",
        "\n",
        "# 그래프 제목, 축 레이블 설정\n",
        "plt.title('기온에 따른 강수량/유량비교')\n",
        "plt.xlabel('X-axis')\n",
        "plt.ylabel('Y-axis')\n",
        "\n",
        "# 범례(legend) 표시\n",
        "plt.legend()\n",
        "\n",
        "# 그래프 보이기\n",
        "plt.show()\n",
        "#그래프를 통해 강수량과 유량은 서로 연관성이 있음을 파악할 수 있음\n",
        "#또한 그래프에서 0.8의 지점에서 강수량과 유량이 갑자기 증가하는 것을 보아 여름 장마철이라는 것을 알 수 있음"
      ],
      "metadata": {
        "id": "rgZRJy_JVLy5"
      },
      "execution_count": null,
      "outputs": []
    },
    {
      "cell_type": "code",
      "source": [
        "# 데이터 설정\n",
        "x = df[\"유량(㎥/s)\"]\n",
        "y1 = df[\"일강수량(mm)\"]\n",
        "y2 = df[\"평균 상대습도(%)\"]\n",
        "\n",
        "# 그래프 그리기\n",
        "plt.scatter(x, y1, label='일강수량')\n",
        "plt.scatter(x, y2, label='평균 상대습도')\n",
        "\n",
        "# 그래프 제목, 축 레이블 설정\n",
        "plt.title('일강수량과 평균 상대습도 비교')\n",
        "plt.xlabel('X-axis')\n",
        "plt.ylabel('Y-axis')\n",
        "\n",
        "# 범례(legend) 표시\n",
        "plt.legend()\n",
        "\n",
        "# 그래프 보이기\n",
        "plt.show()\n",
        "#습도와 강수량은 서로 매칭되지 않음, 그래프를 통해 강수량이 적을수록 습도가 높아지는 것을 알 수 있음\n",
        "#강수량과 습도는 서로 비례관계를 나타낼 것이라고 생각했지만 오산이었다...."
      ],
      "metadata": {
        "id": "tJHM2PSTXARh"
      },
      "execution_count": null,
      "outputs": []
    },
    {
      "cell_type": "code",
      "source": [
        "# 데이터 설정\n",
        "x = df[\"년/월/일\"]\n",
        "y1 = df[\"평균기온(°C)\"]\n",
        "y2 = df[\"유량(㎥/s)\"]\n",
        "\n",
        "# 그래프 그리기\n",
        "plt.plot(x, y1, label='평균기온')\n",
        "plt.plot(x, y2, label='유량')\n",
        "\n",
        "# 그래프 제목, 축 레이블 설정\n",
        "plt.title('일강수량과 평균 상대습도 비교')\n",
        "plt.xlabel('X-axis')\n",
        "plt.ylabel('Y-axis')\n",
        "\n",
        "# 범례(legend) 표시\n",
        "plt.legend()\n",
        "\n",
        "# 그래프 보이기\n",
        "plt.show()\n",
        "#2011년과 2020년의 유량 증가율이 가장 높았다."
      ],
      "metadata": {
        "id": "UGFAJEdRX6qi"
      },
      "execution_count": null,
      "outputs": []
    },
    {
      "cell_type": "code",
      "source": [
        "#MLP를 이용해 유량을 예측해본다.\n",
        "from sklearn.preprocessing import PolynomialFeatures\n",
        "from sklearn.model_selection import train_test_split\n",
        "from sklearn.linear_model import LinearRegression\n",
        "from sklearn.metrics import mean_squared_error"
      ],
      "metadata": {
        "id": "2n23iNJxa2OH"
      },
      "execution_count": null,
      "outputs": []
    },
    {
      "cell_type": "code",
      "source": [
        "#강수량에 따른 유량을 예측해보는 프로그램을 생성해보았다.\n",
        "data = df[\"일강수량(mm)\"]\n",
        "target = df[\"유량(㎥/s)\"]"
      ],
      "metadata": {
        "id": "ibfEick_h4fz"
      },
      "execution_count": null,
      "outputs": []
    },
    {
      "cell_type": "code",
      "source": [
        "df_1 = pd.DataFrame({'data': data, 'target': target})"
      ],
      "metadata": {
        "id": "aZe2L_ZaiJJp"
      },
      "execution_count": null,
      "outputs": []
    },
    {
      "cell_type": "code",
      "source": [
        "# 데이터 전처리\n",
        "import numpy as np\n",
        "window_size = 10  # 입력 시퀀스의 길이\n",
        "x = []\n",
        "y = []\n",
        "for i in range(len(df) - window_size):\n",
        "    x.append(df_1['data'].iloc[i:i+window_size].values)\n",
        "    y.append(df_1['target'].iloc[i+window_size])\n",
        "x = np.array(x)\n",
        "y = np.array(y)"
      ],
      "metadata": {
        "id": "uhsQ8SvYiPbR"
      },
      "execution_count": null,
      "outputs": []
    },
    {
      "cell_type": "code",
      "source": [
        "import numpy as np\n",
        "import pandas as pd\n",
        "import tensorflow as tf\n",
        "from tensorflow import keras\n",
        "train_size = int(len(x) * 0.8)\n",
        "x_train, x_test = x[:train_size], x[train_size:]\n",
        "y_train, y_test = y[:train_size], y[train_size:]\n",
        "\n",
        "# MLP 모델 구축\n",
        "model = keras.Sequential([\n",
        "    keras.layers.Dense(32, activation='relu', input_shape=(window_size,)),\n",
        "    keras.layers.Dense(16, activation='relu'),\n",
        "    keras.layers.Dense(1)\n",
        "])\n",
        "\n",
        "# 모델 컴파일\n",
        "model.compile(optimizer='adam', loss='mean_squared_error')"
      ],
      "metadata": {
        "id": "FUWz3Dq9iTnj"
      },
      "execution_count": null,
      "outputs": []
    },
    {
      "cell_type": "code",
      "source": [
        "model.fit(x_train, y_train, epochs=150, batch_size=64)\n",
        "\n",
        "# 모델 평가\n",
        "test_loss = model.evaluate(x_test, y_test)\n",
        "print('Test loss:', test_loss)\n",
        "\n",
        "# 다음 값을 예측\n",
        "last_window = df_1['data'].iloc[-window_size:].values\n",
        "next_value = model.predict(np.expand_dims(last_window, axis=0))\n",
        "print('Next value prediction:', next_value)"
      ],
      "metadata": {
        "id": "x34UR82niXnu"
      },
      "execution_count": null,
      "outputs": []
    },
    {
      "cell_type": "code",
      "source": [
        "#adam\n",
        "#Test loss: 0.0025083599612116814\n",
        "#1/1 [==============================] - 0s 67ms/step\n",
        "#Next value prediction: [[0.01919698]]"
      ],
      "metadata": {
        "id": "mW25k-rcOiJl"
      },
      "execution_count": null,
      "outputs": []
    },
    {
      "cell_type": "code",
      "source": [
        "data = df[\"일강수량(mm)\"]\n",
        "target = df[\"유량(㎥/s)\"]"
      ],
      "metadata": {
        "id": "LqtbLENeOsJW"
      },
      "execution_count": null,
      "outputs": []
    },
    {
      "cell_type": "code",
      "source": [
        "df_1 = pd.DataFrame({'data': data, 'target': target})"
      ],
      "metadata": {
        "id": "RPftX3B7Oud3"
      },
      "execution_count": null,
      "outputs": []
    },
    {
      "cell_type": "code",
      "source": [
        "# 데이터 전처리\n",
        "import numpy as np\n",
        "window_size = 10  # 입력 시퀀스의 길이\n",
        "x = []\n",
        "y = []\n",
        "for i in range(len(df) - window_size):\n",
        "    x.append(df_1['data'].iloc[i:i+window_size].values)\n",
        "    y.append(df_1['target'].iloc[i+window_size])\n",
        "x = np.array(x)\n",
        "y = np.array(y)"
      ],
      "metadata": {
        "id": "cUkpYIRoOwsC"
      },
      "execution_count": null,
      "outputs": []
    },
    {
      "cell_type": "code",
      "source": [
        "import numpy as np\n",
        "import pandas as pd\n",
        "import tensorflow as tf\n",
        "from tensorflow import keras\n",
        "train_size = int(len(x) * 0.8)\n",
        "x_train, x_test = x[:train_size], x[train_size:]\n",
        "y_train, y_test = y[:train_size], y[train_size:]\n",
        "\n",
        "# MLP 모델 구축\n",
        "model = keras.Sequential([\n",
        "    keras.layers.Dense(32, activation='relu', input_shape=(window_size,)),\n",
        "    keras.layers.Dense(16, activation='relu'),\n",
        "    keras.layers.Dense(1)\n",
        "])\n",
        "\n",
        "# 모델 컴파일\n",
        "model.compile(optimizer='Nadam', loss='mean_squared_error')"
      ],
      "metadata": {
        "id": "dljzRyE2Oy-L"
      },
      "execution_count": null,
      "outputs": []
    },
    {
      "cell_type": "code",
      "source": [
        "model.fit(x_train, y_train, epochs=150, batch_size=64)\n",
        "\n",
        "# 모델 평가\n",
        "test_loss = model.evaluate(x_test, y_test)\n",
        "print('Test loss:', test_loss)\n",
        "\n",
        "# 다음 값을 예측\n",
        "last_window = df_1['data'].iloc[-window_size:].values\n",
        "next_value = model.predict(np.expand_dims(last_window, axis=0))\n",
        "print('Next value prediction:', next_value)"
      ],
      "metadata": {
        "id": "p7su-qhJO2ig"
      },
      "execution_count": null,
      "outputs": []
    },
    {
      "cell_type": "code",
      "source": [
        "#NADAM\n",
        "#Test loss: 0.002967906417325139\n",
        "#1/1 [==============================] - 0s 47ms/step\n",
        "#Next value prediction: [[0.02090745]]"
      ],
      "metadata": {
        "id": "wPzdsuk3O6KZ"
      },
      "execution_count": null,
      "outputs": []
    },
    {
      "cell_type": "code",
      "source": [
        "data = df[\"일강수량(mm)\"]\n",
        "target = df[\"유량(㎥/s)\"]"
      ],
      "metadata": {
        "id": "5R2-Ih1aPEg-"
      },
      "execution_count": null,
      "outputs": []
    },
    {
      "cell_type": "code",
      "source": [
        "df_1 = pd.DataFrame({'data': data, 'target': target})"
      ],
      "metadata": {
        "id": "bYppmYJxPHSs"
      },
      "execution_count": null,
      "outputs": []
    },
    {
      "cell_type": "code",
      "source": [
        "# 데이터 전처리\n",
        "import numpy as np\n",
        "window_size = 10  # 입력 시퀀스의 길이\n",
        "x = []\n",
        "y = []\n",
        "for i in range(len(df) - window_size):\n",
        "    x.append(df_1['data'].iloc[i:i+window_size].values)\n",
        "    y.append(df_1['target'].iloc[i+window_size])\n",
        "x = np.array(x)\n",
        "y = np.array(y)"
      ],
      "metadata": {
        "id": "ZhlqH93OPJcH"
      },
      "execution_count": null,
      "outputs": []
    },
    {
      "cell_type": "code",
      "source": [
        "import numpy as np\n",
        "import pandas as pd\n",
        "import tensorflow as tf\n",
        "from tensorflow import keras\n",
        "train_size = int(len(x) * 0.8)\n",
        "x_train, x_test = x[:train_size], x[train_size:]\n",
        "y_train, y_test = y[:train_size], y[train_size:]\n",
        "\n",
        "# MLP 모델 구축\n",
        "model = keras.Sequential([\n",
        "    keras.layers.Dense(32, activation='relu', input_shape=(window_size,)),\n",
        "    keras.layers.Dense(16, activation='relu'),\n",
        "    keras.layers.Dense(1)\n",
        "])\n",
        "\n",
        "# 모델 컴파일\n",
        "model.compile(optimizer='SGD', loss='mean_squared_error')"
      ],
      "metadata": {
        "id": "bHCHpi9qPMCO"
      },
      "execution_count": null,
      "outputs": []
    },
    {
      "cell_type": "code",
      "source": [
        "model.fit(x_train, y_train, epochs=150, batch_size=64)\n",
        "\n",
        "# 모델 평가\n",
        "test_loss = model.evaluate(x_test, y_test)\n",
        "print('Test loss:', test_loss)\n",
        "\n",
        "# 다음 값을 예측\n",
        "last_window = df_1['data'].iloc[-window_size:].values\n",
        "next_value = model.predict(np.expand_dims(last_window, axis=0))\n",
        "print('Next value prediction:', next_value)"
      ],
      "metadata": {
        "id": "oPj2XNMMPP38"
      },
      "execution_count": null,
      "outputs": []
    },
    {
      "cell_type": "code",
      "source": [
        "#SGD\n",
        "#Test loss: 0.005419999826699495\n",
        "#1/1 [==============================] - 0s 39ms/step\n",
        "#Next value prediction: [[0.02205948]]"
      ],
      "metadata": {
        "id": "DhPCQVIkPSO5"
      },
      "execution_count": null,
      "outputs": []
    },
    {
      "cell_type": "code",
      "source": [
        "data = df[\"일강수량(mm)\"]\n",
        "target = df[\"유량(㎥/s)\"]"
      ],
      "metadata": {
        "id": "zY4SrggPPY5u"
      },
      "execution_count": null,
      "outputs": []
    },
    {
      "cell_type": "code",
      "source": [
        "df_1 = pd.DataFrame({'data': data, 'target': target})"
      ],
      "metadata": {
        "id": "znlcOWODPmiT"
      },
      "execution_count": null,
      "outputs": []
    },
    {
      "cell_type": "code",
      "source": [
        "# 데이터 전처리\n",
        "import numpy as np\n",
        "window_size = 10  # 입력 시퀀스의 길이\n",
        "x = []\n",
        "y = []\n",
        "for i in range(len(df) - window_size):\n",
        "    x.append(df_1['data'].iloc[i:i+window_size].values)\n",
        "    y.append(df_1['target'].iloc[i+window_size])\n",
        "x = np.array(x)\n",
        "y = np.array(y)"
      ],
      "metadata": {
        "id": "XlL1_pmAPov-"
      },
      "execution_count": null,
      "outputs": []
    },
    {
      "cell_type": "code",
      "source": [
        "import numpy as np\n",
        "import pandas as pd\n",
        "import tensorflow as tf\n",
        "from tensorflow import keras\n",
        "train_size = int(len(x) * 0.8)\n",
        "x_train, x_test = x[:train_size], x[train_size:]\n",
        "y_train, y_test = y[:train_size], y[train_size:]\n",
        "\n",
        "# MLP 모델 구축\n",
        "model = keras.Sequential([\n",
        "    keras.layers.Dense(32, activation='relu', input_shape=(window_size,)),\n",
        "    keras.layers.Dense(16, activation='relu'),\n",
        "    keras.layers.Dense(1)\n",
        "])\n",
        "\n",
        "# 모델 컴파일\n",
        "model.compile(optimizer='Adagrad', loss='mean_squared_error')"
      ],
      "metadata": {
        "id": "aypx5fMQPqvl"
      },
      "execution_count": null,
      "outputs": []
    },
    {
      "cell_type": "code",
      "source": [
        "model.fit(x_train, y_train, epochs=150, batch_size=64)\n",
        "\n",
        "# 모델 평가\n",
        "test_loss = model.evaluate(x_test, y_test)\n",
        "print('Test loss:', test_loss)\n",
        "\n",
        "# 다음 값을 예측\n",
        "last_window = df_1['data'].iloc[-window_size:].values\n",
        "next_value = model.predict(np.expand_dims(last_window, axis=0))\n",
        "print('Next value prediction:', next_value)"
      ],
      "metadata": {
        "id": "4gwlEFOHPvlA"
      },
      "execution_count": null,
      "outputs": []
    },
    {
      "cell_type": "code",
      "source": [
        "#Adagrad\n",
        "#Test loss: 0.005659674759954214\n",
        "#1/1 [==============================] - 0s 42ms/step\n",
        "#Next value prediction: [[0.01848376]]"
      ],
      "metadata": {
        "id": "HVNZFBZzPx6N"
      },
      "execution_count": null,
      "outputs": []
    },
    {
      "cell_type": "code",
      "source": [
        "data = df[\"일강수량(mm)\"]\n",
        "target = df[\"유량(㎥/s)\"]"
      ],
      "metadata": {
        "id": "ij6u7h3hP7nR"
      },
      "execution_count": null,
      "outputs": []
    },
    {
      "cell_type": "code",
      "source": [
        "df_1 = pd.DataFrame({'data': data, 'target': target})"
      ],
      "metadata": {
        "id": "5k1wGv9WP-JQ"
      },
      "execution_count": null,
      "outputs": []
    },
    {
      "cell_type": "code",
      "source": [
        "# 데이터 전처리\n",
        "import numpy as np\n",
        "window_size = 10  # 입력 시퀀스의 길이\n",
        "x = []\n",
        "y = []\n",
        "for i in range(len(df) - window_size):\n",
        "    x.append(df_1['data'].iloc[i:i+window_size].values)\n",
        "    y.append(df_1['target'].iloc[i+window_size])\n",
        "x = np.array(x)\n",
        "y = np.array(y)"
      ],
      "metadata": {
        "id": "xbrguSAUQCIc"
      },
      "execution_count": null,
      "outputs": []
    },
    {
      "cell_type": "code",
      "source": [
        "import numpy as np\n",
        "import pandas as pd\n",
        "import tensorflow as tf\n",
        "from tensorflow import keras\n",
        "train_size = int(len(x) * 0.8)\n",
        "x_train, x_test = x[:train_size], x[train_size:]\n",
        "y_train, y_test = y[:train_size], y[train_size:]\n",
        "\n",
        "# MLP 모델 구축\n",
        "model = keras.Sequential([\n",
        "    keras.layers.Dense(32, activation='relu', input_shape=(window_size,)),\n",
        "    keras.layers.Dense(16, activation='relu'),\n",
        "    keras.layers.Dense(1)\n",
        "])\n",
        "\n",
        "# 모델 컴파일\n",
        "model.compile(optimizer='Adadelta', loss='mean_squared_error')"
      ],
      "metadata": {
        "id": "cAAHL4WgQErD"
      },
      "execution_count": null,
      "outputs": []
    },
    {
      "cell_type": "code",
      "source": [
        "model.fit(x_train, y_train, epochs=150, batch_size=64)\n",
        "\n",
        "# 모델 평가\n",
        "test_loss = model.evaluate(x_test, y_test)\n",
        "print('Test loss:', test_loss)\n",
        "\n",
        "# 다음 값을 예측\n",
        "last_window = df_1['data'].iloc[-window_size:].values\n",
        "next_value = model.predict(np.expand_dims(last_window, axis=0))\n",
        "print('Next value prediction:', next_value)"
      ],
      "metadata": {
        "id": "J1Zzp4WNQIZA"
      },
      "execution_count": null,
      "outputs": []
    },
    {
      "cell_type": "code",
      "source": [
        "#Adadelta\n",
        "#Test loss: 0.008267509751021862\n",
        "#1/1 [==============================] - 0s 44ms/step\n",
        "#Next value prediction: [[0.03080308]]"
      ],
      "metadata": {
        "id": "wtkRc-v5QLse"
      },
      "execution_count": null,
      "outputs": []
    },
    {
      "cell_type": "code",
      "source": [
        "data = df[\"일강수량(mm)\"]\n",
        "target = df[\"유량(㎥/s)\"]"
      ],
      "metadata": {
        "id": "g0AwfzqlQW_H"
      },
      "execution_count": null,
      "outputs": []
    },
    {
      "cell_type": "code",
      "source": [
        "df_1 = pd.DataFrame({'data': data, 'target': target})"
      ],
      "metadata": {
        "id": "iyIULBVpQbpx"
      },
      "execution_count": null,
      "outputs": []
    },
    {
      "cell_type": "code",
      "source": [
        "# 데이터 전처리\n",
        "import numpy as np\n",
        "window_size = 10  # 입력 시퀀스의 길이\n",
        "x = []\n",
        "y = []\n",
        "for i in range(len(df) - window_size):\n",
        "    x.append(df_1['data'].iloc[i:i+window_size].values)\n",
        "    y.append(df_1['target'].iloc[i+window_size])\n",
        "x = np.array(x)\n",
        "y = np.array(y)"
      ],
      "metadata": {
        "id": "OsP9DEwEQjFg"
      },
      "execution_count": null,
      "outputs": []
    },
    {
      "cell_type": "code",
      "source": [
        "import numpy as np\n",
        "import pandas as pd\n",
        "import tensorflow as tf\n",
        "from tensorflow import keras\n",
        "train_size = int(len(x) * 0.8)\n",
        "x_train, x_test = x[:train_size], x[train_size:]\n",
        "y_train, y_test = y[:train_size], y[train_size:]\n",
        "\n",
        "# MLP 모델 구축\n",
        "model = keras.Sequential([\n",
        "    keras.layers.Dense(32, activation='relu', input_shape=(window_size,)),\n",
        "    keras.layers.Dense(16, activation='relu'),\n",
        "    keras.layers.Dense(1)\n",
        "])\n",
        "\n",
        "# 모델 컴파일\n",
        "model.compile(optimizer='RMSProp', loss='mean_squared_error')"
      ],
      "metadata": {
        "id": "J7wWWQBRQlMC"
      },
      "execution_count": null,
      "outputs": []
    },
    {
      "cell_type": "code",
      "source": [
        "model.fit(x_train, y_train, epochs=150, batch_size=64)\n",
        "\n",
        "# 모델 평가\n",
        "test_loss = model.evaluate(x_test, y_test)\n",
        "print('Test loss:', test_loss)\n",
        "\n",
        "# 다음 값을 예측\n",
        "last_window = df_1['data'].iloc[-window_size:].values\n",
        "next_value = model.predict(np.expand_dims(last_window, axis=0))\n",
        "print('Next value prediction:', next_value)"
      ],
      "metadata": {
        "id": "Lg9LwB3QQn8t"
      },
      "execution_count": null,
      "outputs": []
    },
    {
      "cell_type": "code",
      "source": [
        "#RMSPRop\n",
        "#Test loss: 0.002469925209879875\n",
        "#1/1 [==============================] - 0s 46ms/step\n",
        "#Next value prediction: [[0.02686775]]"
      ],
      "metadata": {
        "id": "zR0JRFNFQt13"
      },
      "execution_count": null,
      "outputs": []
    },
    {
      "cell_type": "code",
      "source": [
        "#표로 정리\n",
        "data = {\n",
        "    'Optimizer': ['adam', 'nadam', 'SGD', 'Adagrad', 'Adadelta', 'RMSPRop'],\n",
        "    '오차': [0.0025083599612116814, 0.002967906417325139, 0.005419999826699495, 0.005659674759954214, 0.008267509751021862, 0.002469925209879875],\n",
        "    'Epoch': [150, 150, 150, 150, 150, 150],\n",
        "    'Next value prediction': [0.01919698, 0.02090745, 0.02205948, 0.01848376, 0.03080308, 0.02686775],\n",
        "}\n",
        "\n",
        "df_8 = pd.DataFrame(data, dtype=float)"
      ],
      "metadata": {
        "id": "bXD0pXHQQ28k"
      },
      "execution_count": null,
      "outputs": []
    },
    {
      "cell_type": "code",
      "source": [
        "df_8"
      ],
      "metadata": {
        "id": "ckmbWni2SfJg"
      },
      "execution_count": null,
      "outputs": []
    },
    {
      "cell_type": "code",
      "source": [
        "#가장 오차가 작은 것을 알아보기 위해 그래프로 나타내보았다.\n",
        "import numpy as np\n",
        "import matplotlib.pyplot as plt\n",
        "x = df_8[\"Optimizer\"]\n",
        "y1 = df_8[\"오차\"]\n",
        "\n",
        "# 그래프 그리기\n",
        "plt.bar(x, y1, label='error')\n",
        "\n",
        "# 그래프 제목, 축 레이블 설정\n",
        "plt.title('What would be the most appropriate?')\n",
        "plt.ylabel('Y-axis')\n",
        "\n",
        "# 그래프 보이기\n",
        "plt.show()\n",
        "\n",
        "#오차가 가장 큰 것은 Adadelta였고, 오차가 가장 작은 옵티마이저는 RMSProp였다."
      ],
      "metadata": {
        "id": "uwuzUsaDSgfJ"
      },
      "execution_count": null,
      "outputs": []
    },
    {
      "cell_type": "code",
      "source": [
        "#오차가 가장 작게 나온 옵티마이저를 활용하여 batch_size, epoch등 다양한 값을 변동시켜볼 생각이다."
      ],
      "metadata": {
        "id": "tMdHAlY9SquZ"
      },
      "execution_count": null,
      "outputs": []
    },
    {
      "cell_type": "code",
      "source": [
        "data = df[\"일강수량(mm)\"]\n",
        "target = df[\"유량(㎥/s)\"]"
      ],
      "metadata": {
        "id": "X-9y_2xhTFqI"
      },
      "execution_count": null,
      "outputs": []
    },
    {
      "cell_type": "code",
      "source": [
        "df_1 = pd.DataFrame({'data': data, 'target': target})"
      ],
      "metadata": {
        "id": "mZcK_y2_TNP6"
      },
      "execution_count": null,
      "outputs": []
    },
    {
      "cell_type": "code",
      "source": [
        "# 데이터 전처리\n",
        "import numpy as np\n",
        "window_size = 10  # 입력 시퀀스의 길이\n",
        "x = []\n",
        "y = []\n",
        "for i in range(len(df) - window_size):\n",
        "    x.append(df_1['data'].iloc[i:i+window_size].values)\n",
        "    y.append(df_1['target'].iloc[i+window_size])\n",
        "x = np.array(x)\n",
        "y = np.array(y)"
      ],
      "metadata": {
        "id": "7A9kmUeiTQgW"
      },
      "execution_count": null,
      "outputs": []
    },
    {
      "cell_type": "code",
      "source": [
        "import numpy as np\n",
        "import pandas as pd\n",
        "import tensorflow as tf\n",
        "from tensorflow import keras\n",
        "train_size = int(len(x) * 0.8)\n",
        "x_train, x_test = x[:train_size], x[train_size:]\n",
        "y_train, y_test = y[:train_size], y[train_size:]\n",
        "\n",
        "# MLP 모델 구축\n",
        "model = keras.Sequential([\n",
        "    keras.layers.Dense(48, activation='relu', input_shape=(window_size,)),\n",
        "    keras.layers.Dense(24, activation='relu'),\n",
        "    keras.layers.Dense(1)\n",
        "])\n",
        "\n",
        "# 모델 컴파일\n",
        "model.compile(optimizer='RMSProp', loss='mean_squared_error')"
      ],
      "metadata": {
        "id": "EDr5vNMwTTWE"
      },
      "execution_count": null,
      "outputs": []
    },
    {
      "cell_type": "code",
      "source": [
        "model.fit(x_train, y_train, epochs=200, batch_size=32)\n",
        "\n",
        "# 모델 평가\n",
        "test_loss = model.evaluate(x_test, y_test)\n",
        "print('Test loss:', test_loss)\n",
        "\n",
        "# 다음 값을 예측\n",
        "last_window = df_1['data'].iloc[-window_size:].values\n",
        "next_value = model.predict(np.expand_dims(last_window, axis=0))\n",
        "print('Next value prediction:', next_value)"
      ],
      "metadata": {
        "id": "MNszpci7TYV0"
      },
      "execution_count": null,
      "outputs": []
    },
    {
      "cell_type": "code",
      "source": [
        "#epochs=200, batch_size=32)\n",
        "#48/24\n",
        "#Test loss: 0.002667686901986599\n",
        "#1/1 [==============================] - 0s 63ms/step\n",
        "#Next value prediction: [[0.01267303]]"
      ],
      "metadata": {
        "id": "HQ5p36l-Tdax"
      },
      "execution_count": null,
      "outputs": []
    },
    {
      "cell_type": "code",
      "source": [
        "data = df[\"일강수량(mm)\"]\n",
        "target = df[\"유량(㎥/s)\"]"
      ],
      "metadata": {
        "id": "g7cU8-eoTwJL"
      },
      "execution_count": null,
      "outputs": []
    },
    {
      "cell_type": "code",
      "source": [
        "df_1 = pd.DataFrame({'data': data, 'target': target})"
      ],
      "metadata": {
        "id": "9X-uUNQpTzCU"
      },
      "execution_count": null,
      "outputs": []
    },
    {
      "cell_type": "code",
      "source": [
        "# 데이터 전처리\n",
        "import numpy as np\n",
        "window_size = 10  # 입력 시퀀스의 길이\n",
        "x = []\n",
        "y = []\n",
        "for i in range(len(df) - window_size):\n",
        "    x.append(df_1['data'].iloc[i:i+window_size].values)\n",
        "    y.append(df_1['target'].iloc[i+window_size])\n",
        "x = np.array(x)\n",
        "y = np.array(y)"
      ],
      "metadata": {
        "id": "27uuGIDxT11-"
      },
      "execution_count": null,
      "outputs": []
    },
    {
      "cell_type": "code",
      "source": [
        "import numpy as np\n",
        "import pandas as pd\n",
        "import tensorflow as tf\n",
        "from tensorflow import keras\n",
        "train_size = int(len(x) * 0.8)\n",
        "x_train, x_test = x[:train_size], x[train_size:]\n",
        "y_train, y_test = y[:train_size], y[train_size:]\n",
        "\n",
        "# MLP 모델 구축\n",
        "model = keras.Sequential([\n",
        "    keras.layers.Dense(96, activation='relu', input_shape=(window_size,)),\n",
        "    keras.layers.Dense(48, activation='relu'),\n",
        "    keras.layers.Dense(1)\n",
        "])\n",
        "\n",
        "# 모델 컴파일\n",
        "model.compile(optimizer='RMSProp', loss='mean_squared_error')"
      ],
      "metadata": {
        "id": "FlmYVBS0T4kU"
      },
      "execution_count": null,
      "outputs": []
    },
    {
      "cell_type": "code",
      "source": [
        "model.fit(x_train, y_train, epochs=200, batch_size=32)\n",
        "\n",
        "# 모델 평가\n",
        "test_loss = model.evaluate(x_test, y_test)\n",
        "print('Test loss:', test_loss)\n",
        "\n",
        "# 다음 값을 예측\n",
        "last_window = df_1['data'].iloc[-window_size:].values\n",
        "next_value = model.predict(np.expand_dims(last_window, axis=0))\n",
        "print('Next value prediction:', next_value)"
      ],
      "metadata": {
        "id": "8usHeq4zT8Lg"
      },
      "execution_count": null,
      "outputs": []
    },
    {
      "cell_type": "code",
      "source": [
        "#epochs=200, batch_size=32)\n",
        "#96/48\n",
        "#Test loss: 0.002863157307729125\n",
        "#1/1 [==============================] - 0s 49ms/step\n",
        "#Next value prediction: [[0.01077946]]"
      ],
      "metadata": {
        "id": "fD_7NzFST-1I"
      },
      "execution_count": null,
      "outputs": []
    },
    {
      "cell_type": "code",
      "source": [
        "data = df[\"일강수량(mm)\"]\n",
        "target = df[\"유량(㎥/s)\"]"
      ],
      "metadata": {
        "id": "vUjicKXNUNQ-"
      },
      "execution_count": null,
      "outputs": []
    },
    {
      "cell_type": "code",
      "source": [
        "df_1 = pd.DataFrame({'data': data, 'target': target})"
      ],
      "metadata": {
        "id": "JhPjVhEmUS26"
      },
      "execution_count": null,
      "outputs": []
    },
    {
      "cell_type": "code",
      "source": [
        "# 데이터 전처리\n",
        "import numpy as np\n",
        "window_size = 10  # 입력 시퀀스의 길이\n",
        "x = []\n",
        "y = []\n",
        "for i in range(len(df) - window_size):\n",
        "    x.append(df_1['data'].iloc[i:i+window_size].values)\n",
        "    y.append(df_1['target'].iloc[i+window_size])\n",
        "x = np.array(x)\n",
        "y = np.array(y)"
      ],
      "metadata": {
        "id": "v_EPBhGSUUTT"
      },
      "execution_count": null,
      "outputs": []
    },
    {
      "cell_type": "code",
      "source": [
        "import numpy as np\n",
        "import pandas as pd\n",
        "import tensorflow as tf\n",
        "from tensorflow import keras\n",
        "train_size = int(len(x) * 0.8)\n",
        "x_train, x_test = x[:train_size], x[train_size:]\n",
        "y_train, y_test = y[:train_size], y[train_size:]\n",
        "\n",
        "# MLP 모델 구축\n",
        "model = keras.Sequential([\n",
        "    keras.layers.Dense(96, activation='relu', input_shape=(window_size,)),\n",
        "    keras.layers.Dense(48, activation='relu'),\n",
        "    keras.layers.Dense(1)\n",
        "])\n",
        "\n",
        "# 모델 컴파일\n",
        "model.compile(optimizer='RMSProp', loss='mean_squared_error')"
      ],
      "metadata": {
        "id": "zzx_dwPaUXH2"
      },
      "execution_count": null,
      "outputs": []
    },
    {
      "cell_type": "code",
      "source": [
        "model.fit(x_train, y_train, epochs=200, batch_size=64)\n",
        "\n",
        "# 모델 평가\n",
        "test_loss = model.evaluate(x_test, y_test)\n",
        "print('Test loss:', test_loss)\n",
        "\n",
        "# 다음 값을 예측\n",
        "last_window = df_1['data'].iloc[-window_size:].values\n",
        "next_value = model.predict(np.expand_dims(last_window, axis=0))\n",
        "print('Next value prediction:', next_value)"
      ],
      "metadata": {
        "id": "1eJWMrNAUbOW"
      },
      "execution_count": null,
      "outputs": []
    },
    {
      "cell_type": "code",
      "source": [
        "#epochs=200, batch_size=64)\n",
        "#96/48\n",
        "#Test loss: 0.002391877118498087\n",
        "#1/1 [==============================] - 0s 43ms/step\n",
        "#Next value prediction: [[0.01014327]]"
      ],
      "metadata": {
        "id": "TSEPkc5uUe52"
      },
      "execution_count": null,
      "outputs": []
    },
    {
      "cell_type": "code",
      "source": [
        "data = df[\"일강수량(mm)\"]\n",
        "target = df[\"유량(㎥/s)\"]"
      ],
      "metadata": {
        "id": "S0b10TU-UvUM"
      },
      "execution_count": null,
      "outputs": []
    },
    {
      "cell_type": "code",
      "source": [
        "df_1 = pd.DataFrame({'data': data, 'target': target})"
      ],
      "metadata": {
        "id": "Pp_cWWUMUyO9"
      },
      "execution_count": null,
      "outputs": []
    },
    {
      "cell_type": "code",
      "source": [
        "# 데이터 전처리\n",
        "import numpy as np\n",
        "window_size = 10  # 입력 시퀀스의 길이\n",
        "x = []\n",
        "y = []\n",
        "for i in range(len(df) - window_size):\n",
        "    x.append(df_1['data'].iloc[i:i+window_size].values)\n",
        "    y.append(df_1['target'].iloc[i+window_size])\n",
        "x = np.array(x)\n",
        "y = np.array(y)"
      ],
      "metadata": {
        "id": "VwKLHyGqU2m-"
      },
      "execution_count": null,
      "outputs": []
    },
    {
      "cell_type": "code",
      "source": [
        "import numpy as np\n",
        "import pandas as pd\n",
        "import tensorflow as tf\n",
        "from tensorflow import keras\n",
        "train_size = int(len(x) * 0.8)\n",
        "x_train, x_test = x[:train_size], x[train_size:]\n",
        "y_train, y_test = y[:train_size], y[train_size:]\n",
        "\n",
        "# MLP 모델 구축\n",
        "model = keras.Sequential([\n",
        "    keras.layers.Dense(48, activation='relu', input_shape=(window_size,)),\n",
        "    keras.layers.Dense(24, activation='relu'),\n",
        "    keras.layers.Dense(1)\n",
        "])\n",
        "\n",
        "# 모델 컴파일\n",
        "model.compile(optimizer='RMSProp', loss='mean_squared_error')"
      ],
      "metadata": {
        "id": "s9Z62axoU5Eu"
      },
      "execution_count": null,
      "outputs": []
    },
    {
      "cell_type": "code",
      "source": [
        "model.fit(x_train, y_train, epochs=200, batch_size=64)\n",
        "\n",
        "# 모델 평가\n",
        "test_loss = model.evaluate(x_test, y_test)\n",
        "print('Test loss:', test_loss)\n",
        "\n",
        "# 다음 값을 예측\n",
        "last_window = df_1['data'].iloc[-window_size:].values\n",
        "next_value = model.predict(np.expand_dims(last_window, axis=0))\n",
        "\n",
        "print('Next value prediction:', next_value)"
      ],
      "metadata": {
        "id": "544mXXRpU84A"
      },
      "execution_count": null,
      "outputs": []
    },
    {
      "cell_type": "code",
      "source": [
        "#epochs=200, batch_size=64)\n",
        "#48/24\n",
        "#Test loss: 0.002675211988389492\n",
        "#1/1 [==============================] - 0s 45ms/step\n",
        "#Next value prediction: [[0.01967538]]"
      ],
      "metadata": {
        "id": "4fzZJHMBVCwp"
      },
      "execution_count": null,
      "outputs": []
    },
    {
      "cell_type": "code",
      "source": [
        "data = df[\"일강수량(mm)\"]\n",
        "target = df[\"유량(㎥/s)\"]"
      ],
      "metadata": {
        "id": "EeLVbQmOVRTC"
      },
      "execution_count": null,
      "outputs": []
    },
    {
      "cell_type": "code",
      "source": [
        "df_1 = pd.DataFrame({'data': data, 'target': target})"
      ],
      "metadata": {
        "id": "LH5GxzUgVUab"
      },
      "execution_count": null,
      "outputs": []
    },
    {
      "cell_type": "code",
      "source": [
        "# 데이터 전처리\n",
        "import numpy as np\n",
        "window_size = 10  # 입력 시퀀스의 길이\n",
        "x = []\n",
        "y = []\n",
        "for i in range(len(df) - window_size):\n",
        "    x.append(df_1['data'].iloc[i:i+window_size].values)\n",
        "    y.append(df_1['target'].iloc[i+window_size])\n",
        "x = np.array(x)\n",
        "y = np.array(y)"
      ],
      "metadata": {
        "id": "PNoi4-WTVW9g"
      },
      "execution_count": null,
      "outputs": []
    },
    {
      "cell_type": "code",
      "source": [
        "import numpy as np\n",
        "import pandas as pd\n",
        "import tensorflow as tf\n",
        "from tensorflow import keras\n",
        "train_size = int(len(x) * 0.8)\n",
        "x_train, x_test = x[:train_size], x[train_size:]\n",
        "y_train, y_test = y[:train_size], y[train_size:]\n",
        "\n",
        "# MLP 모델 구축\n",
        "model = keras.Sequential([\n",
        "    keras.layers.Dense(96, activation='relu', input_shape=(window_size,)),\n",
        "    keras.layers.Dense(48, activation='relu'),\n",
        "    keras.layers.Dense(1)\n",
        "])\n",
        "\n",
        "# 모델 컴파일\n",
        "model.compile(optimizer='RMSProp', loss='mean_squared_error')"
      ],
      "metadata": {
        "id": "pfHf-QiSVZo3"
      },
      "execution_count": null,
      "outputs": []
    },
    {
      "cell_type": "code",
      "source": [
        "model.fit(x_train, y_train, epochs=500, batch_size=64)\n",
        "\n",
        "# 모델 평가\n",
        "test_loss = model.evaluate(x_test, y_test)\n",
        "print('Test loss:', test_loss)\n",
        "\n",
        "# 다음 값을 예측\n",
        "last_window = df_1['data'].iloc[-window_size:].values\n",
        "next_value = model.predict(np.expand_dims(last_window, axis=0))\n",
        "\n",
        "print('Next value prediction:', next_value)"
      ],
      "metadata": {
        "id": "VTIESEIoVdk8"
      },
      "execution_count": null,
      "outputs": []
    },
    {
      "cell_type": "code",
      "source": [
        "#epochs=500, batch_size=64)\n",
        "#96/48\n",
        "#Test loss: 0.0030212218407541513\n",
        "#1/1 [==============================] - 0s 47ms/step\n",
        "#Next value prediction: [[0.01965078]]"
      ],
      "metadata": {
        "id": "RIq_U4sQVg-N"
      },
      "execution_count": null,
      "outputs": []
    },
    {
      "cell_type": "code",
      "source": [
        "data = df[\"일강수량(mm)\"]\n",
        "target = df[\"유량(㎥/s)\"]"
      ],
      "metadata": {
        "id": "B7mIZp3_Vzxg"
      },
      "execution_count": null,
      "outputs": []
    },
    {
      "cell_type": "code",
      "source": [
        "df_1 = pd.DataFrame({'data': data, 'target': target})"
      ],
      "metadata": {
        "id": "3_nNkQqEV2Bu"
      },
      "execution_count": null,
      "outputs": []
    },
    {
      "cell_type": "code",
      "source": [
        "# 데이터 전처리\n",
        "import numpy as np\n",
        "window_size = 10  # 입력 시퀀스의 길이\n",
        "x = []\n",
        "y = []\n",
        "for i in range(len(df) - window_size):\n",
        "    x.append(df_1['data'].iloc[i:i+window_size].values)\n",
        "    y.append(df_1['target'].iloc[i+window_size])\n",
        "x = np.array(x)\n",
        "y = np.array(y)"
      ],
      "metadata": {
        "id": "yDMxTPmSV4l_"
      },
      "execution_count": null,
      "outputs": []
    },
    {
      "cell_type": "code",
      "source": [
        "import numpy as np\n",
        "import pandas as pd\n",
        "import tensorflow as tf\n",
        "from tensorflow import keras\n",
        "train_size = int(len(x) * 0.8)\n",
        "x_train, x_test = x[:train_size], x[train_size:]\n",
        "y_train, y_test = y[:train_size], y[train_size:]\n",
        "\n",
        "# MLP 모델 구축\n",
        "model = keras.Sequential([\n",
        "    keras.layers.Dense(96, activation='relu', input_shape=(window_size,)),\n",
        "    keras.layers.Dense(48, activation='relu'),\n",
        "    keras.layers.Dense(1)\n",
        "])\n",
        "\n",
        "# 모델 컴파일\n",
        "model.compile(optimizer='RMSProp', loss='mean_squared_error')"
      ],
      "metadata": {
        "id": "uNagyJI3V7dK"
      },
      "execution_count": null,
      "outputs": []
    },
    {
      "cell_type": "code",
      "source": [
        "model.fit(x_train, y_train, epochs=500, batch_size=32)\n",
        "\n",
        "# 모델 평가\n",
        "test_loss = model.evaluate(x_test, y_test)\n",
        "print('Test loss:', test_loss)\n",
        "\n",
        "# 다음 값을 예측\n",
        "last_window = df_1['data'].iloc[-window_size:].values\n",
        "next_value = model.predict(np.expand_dims(last_window, axis=0))\n",
        "\n",
        "\n",
        "print('Next value prediction:', next_value)"
      ],
      "metadata": {
        "id": "XzO4Wku8V-JK"
      },
      "execution_count": null,
      "outputs": []
    },
    {
      "cell_type": "code",
      "source": [
        "#96/48\n",
        "#epochs=500, batch_size=32)\n",
        "#Test loss: 0.0034068876411765814\n",
        "#1/1 [==============================] - 0s 41ms/step\n",
        "#Next value prediction: [[0.03192162]]"
      ],
      "metadata": {
        "id": "_j5VkzjQWCPy"
      },
      "execution_count": null,
      "outputs": []
    },
    {
      "cell_type": "code",
      "source": [
        "data = df[\"일강수량(mm)\"]\n",
        "target = df[\"유량(㎥/s)\"]"
      ],
      "metadata": {
        "id": "OmH3nOTpWbPX"
      },
      "execution_count": null,
      "outputs": []
    },
    {
      "cell_type": "code",
      "source": [
        "df_1 = pd.DataFrame({'data': data, 'target': target})"
      ],
      "metadata": {
        "id": "iRDmJzBOWdh-"
      },
      "execution_count": null,
      "outputs": []
    },
    {
      "cell_type": "code",
      "source": [
        "# 데이터 전처리\n",
        "import numpy as np\n",
        "window_size = 10  # 입력 시퀀스의 길이\n",
        "x = []\n",
        "y = []\n",
        "for i in range(len(df) - window_size):\n",
        "    x.append(df_1['data'].iloc[i:i+window_size].values)\n",
        "    y.append(df_1['target'].iloc[i+window_size])\n",
        "x = np.array(x)\n",
        "y = np.array(y)"
      ],
      "metadata": {
        "id": "tq_I22mIWf4W"
      },
      "execution_count": null,
      "outputs": []
    },
    {
      "cell_type": "code",
      "source": [
        "import numpy as np\n",
        "import pandas as pd\n",
        "import tensorflow as tf\n",
        "from tensorflow import keras\n",
        "train_size = int(len(x) * 0.8)\n",
        "x_train, x_test = x[:train_size], x[train_size:]\n",
        "y_train, y_test = y[:train_size], y[train_size:]\n",
        "\n",
        "# MLP 모델 구축\n",
        "model = keras.Sequential([\n",
        "    keras.layers.Dense(48, activation='relu', input_shape=(window_size,)),\n",
        "    keras.layers.Dense(24, activation='relu'),\n",
        "    keras.layers.Dense(1)\n",
        "])\n",
        "\n",
        "# 모델 컴파일\n",
        "model.compile(optimizer='RMSProp', loss='mean_squared_error')"
      ],
      "metadata": {
        "id": "uULDrXSzWiSr"
      },
      "execution_count": null,
      "outputs": []
    },
    {
      "cell_type": "code",
      "source": [
        "model.fit(x_train, y_train, epochs=500, batch_size=64)\n",
        "\n",
        "# 모델 평가\n",
        "test_loss = model.evaluate(x_test, y_test)\n",
        "print('Test loss:', test_loss)\n",
        "\n",
        "# 다음 값을 예측\n",
        "last_window = df_1['data'].iloc[-window_size:].values\n",
        "next_value = model.predict(np.expand_dims(last_window, axis=0))\n",
        "\n",
        "\n",
        "print('Next value prediction:', next_value)"
      ],
      "metadata": {
        "id": "dzS5TagJWmMP"
      },
      "execution_count": null,
      "outputs": []
    },
    {
      "cell_type": "code",
      "source": [
        "#Test loss: 0.0026609799824655056\n",
        "#1/1 [==============================] - 0s 47ms/step\n",
        "#Next value prediction: [[0.02860419]]\n",
        "#48/24\n",
        "#epochs=500, batch_size=64)"
      ],
      "metadata": {
        "id": "iXjNGhFXWq_9"
      },
      "execution_count": null,
      "outputs": []
    },
    {
      "cell_type": "code",
      "source": [
        "data = df[\"일강수량(mm)\"]\n",
        "target = df[\"유량(㎥/s)\"]"
      ],
      "metadata": {
        "id": "bufQzb0EW8zN"
      },
      "execution_count": null,
      "outputs": []
    },
    {
      "cell_type": "code",
      "source": [
        "df_1 = pd.DataFrame({'data': data, 'target': target})"
      ],
      "metadata": {
        "id": "NORSXntWXELc"
      },
      "execution_count": null,
      "outputs": []
    },
    {
      "cell_type": "code",
      "source": [
        "# 데이터 전처리\n",
        "import numpy as np\n",
        "window_size = 10  # 입력 시퀀스의 길이\n",
        "x = []\n",
        "y = []\n",
        "for i in range(len(df) - window_size):\n",
        "    x.append(df_1['data'].iloc[i:i+window_size].values)\n",
        "    y.append(df_1['target'].iloc[i+window_size])\n",
        "x = np.array(x)\n",
        "y = np.array(y)"
      ],
      "metadata": {
        "id": "Q-gDfo_JXGuG"
      },
      "execution_count": null,
      "outputs": []
    },
    {
      "cell_type": "code",
      "source": [
        "import numpy as np\n",
        "import pandas as pd\n",
        "import tensorflow as tf\n",
        "from tensorflow import keras\n",
        "train_size = int(len(x) * 0.8)\n",
        "x_train, x_test = x[:train_size], x[train_size:]\n",
        "y_train, y_test = y[:train_size], y[train_size:]\n",
        "\n",
        "# MLP 모델 구축\n",
        "model = keras.Sequential([\n",
        "    keras.layers.Dense(96, activation='relu', input_shape=(window_size,)),\n",
        "    keras.layers.Dense(48, activation='relu'),\n",
        "    keras.layers.Dense(1)\n",
        "])\n",
        "\n",
        "# 모델 컴파일\n",
        "model.compile(optimizer='RMSProp', loss='mean_squared_error')"
      ],
      "metadata": {
        "id": "H2MozkexXJpV"
      },
      "execution_count": null,
      "outputs": []
    },
    {
      "cell_type": "code",
      "source": [
        "model.fit(x_train, y_train, epochs=500, batch_size=64)\n",
        "\n",
        "# 모델 평가\n",
        "test_loss = model.evaluate(x_test, y_test)\n",
        "print('Test loss:', test_loss)\n",
        "\n",
        "# 다음 값을 예측\n",
        "last_window = df_1['data'].iloc[-window_size:].values\n",
        "next_value = model.predict(np.expand_dims(last_window, axis=0))\n",
        "\n",
        "\n",
        "print('Next value prediction:', next_value)"
      ],
      "metadata": {
        "id": "UFLc0UxlXOGp"
      },
      "execution_count": null,
      "outputs": []
    },
    {
      "cell_type": "code",
      "source": [
        "#epochs=500, batch_size=64)\n",
        "#96/48\n",
        "#Test loss: 0.003773909527808428\n",
        "#1/1 [==============================] - 0s 46ms/step\n",
        "#Next value prediction: [[0.00917505]]"
      ],
      "metadata": {
        "id": "Ve2VSvwXXWp5"
      },
      "execution_count": null,
      "outputs": []
    },
    {
      "cell_type": "code",
      "source": [
        "data = df[\"일강수량(mm)\"]\n",
        "target = df[\"유량(㎥/s)\"]"
      ],
      "metadata": {
        "id": "IRHv42YGXp2x"
      },
      "execution_count": null,
      "outputs": []
    },
    {
      "cell_type": "code",
      "source": [
        "df_1 = pd.DataFrame({'data': data, 'target': target})"
      ],
      "metadata": {
        "id": "usZpCGfJXtlW"
      },
      "execution_count": null,
      "outputs": []
    },
    {
      "cell_type": "code",
      "source": [
        "# 데이터 전처리\n",
        "import numpy as np\n",
        "window_size = 10  # 입력 시퀀스의 길이\n",
        "x = []\n",
        "y = []\n",
        "for i in range(len(df) - window_size):\n",
        "    x.append(df_1['data'].iloc[i:i+window_size].values)\n",
        "    y.append(df_1['target'].iloc[i+window_size])\n",
        "x = np.array(x)\n",
        "y = np.array(y)"
      ],
      "metadata": {
        "id": "hKBC60h9XwDJ"
      },
      "execution_count": null,
      "outputs": []
    },
    {
      "cell_type": "code",
      "source": [
        "import numpy as np\n",
        "import pandas as pd\n",
        "import tensorflow as tf\n",
        "from tensorflow import keras\n",
        "train_size = int(len(x) * 0.8)\n",
        "x_train, x_test = x[:train_size], x[train_size:]\n",
        "y_train, y_test = y[:train_size], y[train_size:]\n",
        "\n",
        "# MLP 모델 구축\n",
        "model = keras.Sequential([\n",
        "    keras.layers.Dense(96, activation='relu', input_shape=(window_size,)),\n",
        "    keras.layers.Dense(48, activation='relu'),\n",
        "    keras.layers.Dense(1)\n",
        "])\n",
        "\n",
        "# 모델 컴파일\n",
        "model.compile(optimizer='RMSProp', loss='mean_squared_error')"
      ],
      "metadata": {
        "id": "qS60cdUFXywC"
      },
      "execution_count": null,
      "outputs": []
    },
    {
      "cell_type": "code",
      "source": [
        "model.fit(x_train, y_train, epochs=1000, batch_size=64)\n",
        "\n",
        "# 모델 평가\n",
        "test_loss = model.evaluate(x_test, y_test)\n",
        "print('Test loss:', test_loss)\n",
        "\n",
        "# 다음 값을 예측\n",
        "last_window = df_1['data'].iloc[-window_size:].values\n",
        "next_value = model.predict(np.expand_dims(last_window, axis=0))\n",
        "\n",
        "\n",
        "print('Next value prediction:', next_value)"
      ],
      "metadata": {
        "id": "WhZra35fX2H3"
      },
      "execution_count": null,
      "outputs": []
    },
    {
      "cell_type": "code",
      "source": [
        "#epochs=1000, batch_size=64)\n",
        "#96/48\n",
        "#Test loss: 0.0035504396073520184\n",
        "#1/1 [==============================] - 0s 41ms/step\n",
        "#Next value prediction: [[0.01316074]]"
      ],
      "metadata": {
        "id": "JoL0dmw-X5VW"
      },
      "execution_count": null,
      "outputs": []
    },
    {
      "cell_type": "code",
      "source": [
        "data = df[\"일강수량(mm)\"]\n",
        "target = df[\"유량(㎥/s)\"]"
      ],
      "metadata": {
        "id": "raDx53jvYVWC"
      },
      "execution_count": null,
      "outputs": []
    },
    {
      "cell_type": "code",
      "source": [
        "df_1 = pd.DataFrame({'data': data, 'target': target})"
      ],
      "metadata": {
        "id": "2mepUmWaYXm_"
      },
      "execution_count": null,
      "outputs": []
    },
    {
      "cell_type": "code",
      "source": [
        "# 데이터 전처리\n",
        "import numpy as np\n",
        "window_size = 10  # 입력 시퀀스의 길이\n",
        "x = []\n",
        "y = []\n",
        "for i in range(len(df) - window_size):\n",
        "    x.append(df_1['data'].iloc[i:i+window_size].values)\n",
        "    y.append(df_1['target'].iloc[i+window_size])\n",
        "x = np.array(x)\n",
        "y = np.array(y)"
      ],
      "metadata": {
        "id": "iVj1Ig5XYaIt"
      },
      "execution_count": null,
      "outputs": []
    },
    {
      "cell_type": "code",
      "source": [
        "import numpy as np\n",
        "import pandas as pd\n",
        "import tensorflow as tf\n",
        "from tensorflow import keras\n",
        "train_size = int(len(x) * 0.8)\n",
        "x_train, x_test = x[:train_size], x[train_size:]\n",
        "y_train, y_test = y[:train_size], y[train_size:]\n",
        "\n",
        "# MLP 모델 구축\n",
        "model = keras.Sequential([\n",
        "    keras.layers.Dense(96, activation='relu', input_shape=(window_size,)),\n",
        "    keras.layers.Dense(48, activation='relu'),\n",
        "    keras.layers.Dense(1)\n",
        "])\n",
        "\n",
        "# 모델 컴파일\n",
        "model.compile(optimizer='RMSProp', loss='mean_squared_error')"
      ],
      "metadata": {
        "id": "jtMBXwCAYcp7"
      },
      "execution_count": null,
      "outputs": []
    },
    {
      "cell_type": "code",
      "source": [
        "model.fit(x_train, y_train, epochs=1000, batch_size=32)\n",
        "\n",
        "# 모델 평가\n",
        "test_loss = model.evaluate(x_test, y_test)\n",
        "print('Test loss:', test_loss)\n",
        "\n",
        "# 다음 값을 예측\n",
        "last_window = df_1['data'].iloc[-window_size:].values\n",
        "next_value = model.predict(np.expand_dims(last_window, axis=0))\n",
        "\n",
        "\n",
        "print('Next value prediction:', next_value)"
      ],
      "metadata": {
        "id": "h0Eomvk_Yf-6"
      },
      "execution_count": null,
      "outputs": []
    },
    {
      "cell_type": "code",
      "source": [
        "#Test loss: 0.0035440537612885237\n",
        "#1/1 [==============================] - 0s 47ms/step\n",
        "#epochs=1000, batch_size=32)\n",
        "#96/48\n",
        "#Next value prediction: [[0.01608789]]"
      ],
      "metadata": {
        "id": "YYG2RzT6YjCL"
      },
      "execution_count": null,
      "outputs": []
    },
    {
      "cell_type": "code",
      "source": [
        "data = df[\"일강수량(mm)\"]\n",
        "target = df[\"유량(㎥/s)\"]"
      ],
      "metadata": {
        "id": "2DrBhrYXZRP7"
      },
      "execution_count": null,
      "outputs": []
    },
    {
      "cell_type": "code",
      "source": [
        "df_1 = pd.DataFrame({'data': data, 'target': target})"
      ],
      "metadata": {
        "id": "-ZL46TJ4ZTdN"
      },
      "execution_count": null,
      "outputs": []
    },
    {
      "cell_type": "code",
      "source": [
        "# 데이터 전처리\n",
        "import numpy as np\n",
        "window_size = 10  # 입력 시퀀스의 길이\n",
        "x = []\n",
        "y = []\n",
        "for i in range(len(df) - window_size):\n",
        "    x.append(df_1['data'].iloc[i:i+window_size].values)\n",
        "    y.append(df_1['target'].iloc[i+window_size])\n",
        "x = np.array(x)\n",
        "y = np.array(y)"
      ],
      "metadata": {
        "id": "FYlpabl0ZV9v"
      },
      "execution_count": null,
      "outputs": []
    },
    {
      "cell_type": "code",
      "source": [
        "import numpy as np\n",
        "import pandas as pd\n",
        "import tensorflow as tf\n",
        "from tensorflow import keras\n",
        "train_size = int(len(x) * 0.8)\n",
        "x_train, x_test = x[:train_size], x[train_size:]\n",
        "y_train, y_test = y[:train_size], y[train_size:]\n",
        "\n",
        "# MLP 모델 구축\n",
        "model = keras.Sequential([\n",
        "    keras.layers.Dense(48, activation='relu', input_shape=(window_size,)),\n",
        "    keras.layers.Dense(24, activation='relu'),\n",
        "    keras.layers.Dense(1)\n",
        "])\n",
        "\n",
        "# 모델 컴파일\n",
        "model.compile(optimizer='RMSProp', loss='mean_squared_error')"
      ],
      "metadata": {
        "id": "bAC_gnGjZYz6"
      },
      "execution_count": null,
      "outputs": []
    },
    {
      "cell_type": "code",
      "source": [
        "model.fit(x_train, y_train, epochs=1000, batch_size=32)\n",
        "\n",
        "# 모델 평가\n",
        "test_loss = model.evaluate(x_test, y_test)\n",
        "print('Test loss:', test_loss)\n",
        "\n",
        "# 다음 값을 예측\n",
        "last_window = df_1['data'].iloc[-window_size:].values\n",
        "next_value = model.predict(np.expand_dims(last_window, axis=0))\n",
        "\n",
        "\n",
        "print('Next value prediction:', next_value)"
      ],
      "metadata": {
        "id": "nvNd6UjOZcuN"
      },
      "execution_count": null,
      "outputs": []
    },
    {
      "cell_type": "code",
      "source": [
        "#epochs=1000, batch_size=32)\n",
        "#48/24\n",
        "#Test loss: 0.0038421659264713526\n",
        "#1/1 [==============================] - 0s 39ms/step\n",
        "#Next value prediction: [[0.01999253]]"
      ],
      "metadata": {
        "id": "_jJRQO3kZf-f"
      },
      "execution_count": null,
      "outputs": []
    },
    {
      "cell_type": "code",
      "source": [
        "data = df[\"일강수량(mm)\"]\n",
        "target = df[\"유량(㎥/s)\"]"
      ],
      "metadata": {
        "id": "jR1nHvNtaNhO"
      },
      "execution_count": null,
      "outputs": []
    },
    {
      "cell_type": "code",
      "source": [
        "df_1 = pd.DataFrame({'data': data, 'target': target})"
      ],
      "metadata": {
        "id": "0UVxT8uBaP8N"
      },
      "execution_count": null,
      "outputs": []
    },
    {
      "cell_type": "code",
      "source": [
        "# 데이터 전처리\n",
        "import numpy as np\n",
        "window_size = 10  # 입력 시퀀스의 길이\n",
        "x = []\n",
        "y = []\n",
        "for i in range(len(df) - window_size):\n",
        "    x.append(df_1['data'].iloc[i:i+window_size].values)\n",
        "    y.append(df_1['target'].iloc[i+window_size])\n",
        "x = np.array(x)\n",
        "y = np.array(y)"
      ],
      "metadata": {
        "id": "5H7MUKzVaSgD"
      },
      "execution_count": null,
      "outputs": []
    },
    {
      "cell_type": "code",
      "source": [
        "import numpy as np\n",
        "import pandas as pd\n",
        "import tensorflow as tf\n",
        "from tensorflow import keras\n",
        "train_size = int(len(x) * 0.8)\n",
        "x_train, x_test = x[:train_size], x[train_size:]\n",
        "y_train, y_test = y[:train_size], y[train_size:]\n",
        "\n",
        "# MLP 모델 구축\n",
        "model = keras.Sequential([\n",
        "    keras.layers.Dense(48, activation='relu', input_shape=(window_size,)),\n",
        "    keras.layers.Dense(24, activation='relu'),\n",
        "    keras.layers.Dense(1)\n",
        "])\n",
        "\n",
        "# 모델 컴파일\n",
        "model.compile(optimizer='RMSProp', loss='mean_squared_error')"
      ],
      "metadata": {
        "id": "lOuPi8t-aU03"
      },
      "execution_count": null,
      "outputs": []
    },
    {
      "cell_type": "code",
      "source": [
        "model.fit(x_train, y_train, epochs=1000, batch_size=64)\n",
        "\n",
        "# 모델 평가\n",
        "test_loss = model.evaluate(x_test, y_test)\n",
        "print('Test loss:', test_loss)\n",
        "\n",
        "# 다음 값을 예측\n",
        "last_window = df_1['data'].iloc[-window_size:].values\n",
        "next_value = model.predict(np.expand_dims(last_window, axis=0))\n",
        "\n",
        "\n",
        "print('Next value prediction:', next_value)"
      ],
      "metadata": {
        "id": "3iqCff5KaXvM"
      },
      "execution_count": null,
      "outputs": []
    },
    {
      "cell_type": "code",
      "source": [
        "#epochs=1000, batch_size=64)\n",
        "#48/24\n",
        "#Test loss: 0.0050267912447452545\n",
        "#1/1 [==============================] - 0s 53ms/step\n",
        "#Next value prediction: [[0.02314872]]"
      ],
      "metadata": {
        "id": "-xtKIuS7aa4R"
      },
      "execution_count": null,
      "outputs": []
    },
    {
      "cell_type": "code",
      "source": [
        "#표로 정리\n",
        "data = {\n",
        "    \"번호\": [1, 2, 3, 4, 5, 6, 7, 8, 9, 10, 11, 12],\n",
        "    'Keras의 Dense 층': ['48/24', '96/48', '96/48', '48/24', '96/48', '96/48', '48/24', '48/24', '96/48', '96/48', '48/24', '48/24'],\n",
        "    '오차': [0.002667686901986599, 0.002863157307729125, 0.002391877118498087, 0.002675211988389492, 0.0030212218407541513, 0.0034068876411765814, 0.0026609799824655056, 0.003773909527808428, 0.0035504396073520184, 0.0035440537612885237, 0.0038421659264713526, 0.0050267912447452545],\n",
        "    'Epoch': [200, 200, 200, 200, 500, 500, 500, 500, 1000, 1000, 1000, 1000],\n",
        "    'Next value prediction': [0.01267303, 0.01077946, 0.01014327, 0.01967538, 0.01965078, 0.03192162, 0.02860419, 0.00917505, 0.01316074, 0.01608789, 0.01999253, 0.02314872],\n",
        "    'Batch_size': [32, 32, 64, 64, 64, 32, 64, 64, 64, 32, 32, 64]\n",
        "}\n",
        "\n",
        "df_9 = pd.DataFrame(data, dtype=float)"
      ],
      "metadata": {
        "id": "R1h4fJEsbDYA"
      },
      "execution_count": null,
      "outputs": []
    },
    {
      "cell_type": "code",
      "source": [
        "df_9"
      ],
      "metadata": {
        "id": "ai_kPeZ9diPs"
      },
      "execution_count": null,
      "outputs": []
    },
    {
      "cell_type": "code",
      "source": [
        "#그래프를 통해 오차를 파악하겠다.\n",
        "#가장 오차가 작은 것을 알아보기 위해 그래프로 나타내보았다.\n",
        "import numpy as np\n",
        "import matplotlib.pyplot as plt\n",
        "x = df_9[\"번호\"]\n",
        "y1 = df_9[\"오차\"]\n",
        "\n",
        "# 그래프 그리기\n",
        "plt.plot(x, y1, label='error')\n",
        "\n",
        "# 그래프 제목, 축 레이블 설정\n",
        "plt.title('What would be the most appropriate?')\n",
        "plt.ylabel('Y-axis')\n",
        "\n",
        "# 그래프 보이기\n",
        "plt.show()\n",
        "\n",
        "#오차가 가장 작은 모델은 3번\tkeras의 Dense층 : 96/48, epoch:\t200.0, batch\t64.0"
      ],
      "metadata": {
        "id": "x3JCtdB6eIt2"
      },
      "execution_count": null,
      "outputs": []
    },
    {
      "cell_type": "code",
      "source": [],
      "metadata": {
        "id": "4AvGyNtmeWyQ"
      },
      "execution_count": null,
      "outputs": []
    }
  ]
}