{
  "nbformat": 4,
  "nbformat_minor": 0,
  "metadata": {
    "colab": {
      "private_outputs": true,
      "provenance": [],
      "authorship_tag": "ABX9TyOJBLvd9INittLCXPC9fjpp",
      "include_colab_link": true
    },
    "kernelspec": {
      "name": "python3",
      "display_name": "Python 3"
    },
    "language_info": {
      "name": "python"
    }
  },
  "cells": [
    {
      "cell_type": "markdown",
      "metadata": {
        "id": "view-in-github",
        "colab_type": "text"
      },
      "source": [
        "<a href=\"https://colab.research.google.com/github/tlsgptj/MLP/blob/MLP1/%EC%84%9C%EC%9A%B8%EC%8B%9C_%ED%95%9C%EA%B0%95%EB%8C%80%EA%B5%90(MLP).ipynb\" target=\"_parent\"><img src=\"https://colab.research.google.com/assets/colab-badge.svg\" alt=\"Open In Colab\"/></a>"
      ]
    },
    {
      "cell_type": "code",
      "execution_count": null,
      "metadata": {
        "id": "fb1u_YD340We"
      },
      "outputs": [],
      "source": [
        "import pandas as pd"
      ]
    },
    {
      "cell_type": "code",
      "source": [
        "df = pd.read_csv(\"/content/02. 서울시_한강대교.csv\", encoding=\"cp949\")"
      ],
      "metadata": {
        "id": "UPlTB_AO5Iru"
      },
      "execution_count": null,
      "outputs": []
    },
    {
      "cell_type": "code",
      "source": [
        "df.head(10)"
      ],
      "metadata": {
        "id": "4TkNW8Wy6Gfg"
      },
      "execution_count": null,
      "outputs": []
    },
    {
      "cell_type": "code",
      "source": [
        "df.tail(10)"
      ],
      "metadata": {
        "id": "8z0s54sF7I5f"
      },
      "execution_count": null,
      "outputs": []
    },
    {
      "cell_type": "code",
      "source": [
        "df.info()"
      ],
      "metadata": {
        "id": "twjtHdug_f8z"
      },
      "execution_count": null,
      "outputs": []
    },
    {
      "cell_type": "code",
      "source": [
        "df.describe()"
      ],
      "metadata": {
        "id": "BCBLT9Xs7LDY"
      },
      "execution_count": null,
      "outputs": []
    },
    {
      "cell_type": "code",
      "source": [
        "numeric_values = pd.to_numeric(df['유량(cms)'], errors='coerce')\n",
        "df['유량(cms)'] = numeric_values.fillna(numeric_values.mean())"
      ],
      "metadata": {
        "id": "jw0WKjmi3GUL"
      },
      "execution_count": null,
      "outputs": []
    },
    {
      "cell_type": "code",
      "source": [
        "#유량의 결측치를 대체하기 위해 유량의 평균 값으로 NaN를 변경해준다.\n",
        "df.fillna({'유량(cms)':float(df['유량(cms)'].mean())},inplace=True)"
      ],
      "metadata": {
        "id": "wLlQr8f-7lCz"
      },
      "execution_count": null,
      "outputs": []
    },
    {
      "cell_type": "code",
      "source": [
        "#지점과 지점명의 경우 모두 같은 데이터이므로 지워준다.\n",
        "df = df.drop(columns=[\"지점\", \"지점명\"])\n",
        "#columns가 평균기온 일강수량 상대습도 유량 4가지 항목으로 정리되었다."
      ],
      "metadata": {
        "id": "fM9P0WiB_s5K"
      },
      "execution_count": null,
      "outputs": []
    },
    {
      "cell_type": "code",
      "source": [
        "#데이터 간의 관계를 파악하기 위해 matplotlib 라이브러리를 불러온다.\n",
        "import matplotlib.pyplot as plt"
      ],
      "metadata": {
        "id": "rIJ0q7lN7Mo0"
      },
      "execution_count": null,
      "outputs": []
    },
    {
      "cell_type": "code",
      "source": [
        "import matplotlib as mpl"
      ],
      "metadata": {
        "id": "m9ZN9y8X70vC"
      },
      "execution_count": null,
      "outputs": []
    },
    {
      "cell_type": "code",
      "source": [
        "ax = df.plot(kind='kde', title='습도에 따른 유량 그래프', figsize=(12,4), legend=True, fontsize=12)\n",
        "ax.set_xlabel('유량(cms)', fontsize=12)\n",
        "ax.set_ylabel('평균 상대습도(%)', fontsize=12)\n",
        "#두 데이터의 단위가 너무 차이가 많이 나 정확한 결과를 알수 없다. 따라서 정규화필요"
      ],
      "metadata": {
        "id": "a1jeiQRV8Amy"
      },
      "execution_count": null,
      "outputs": []
    },
    {
      "cell_type": "code",
      "source": [
        "df[\"flow_normalization\"] = df[\"유량(cms)\"].astype(float)/abs(df[\"유량(cms)\"].astype(float).max())\n",
        "df[[\"유량(cms)\", \"flow_normalization\"]].head()"
      ],
      "metadata": {
        "id": "LdtEVm13Cuov"
      },
      "execution_count": null,
      "outputs": []
    },
    {
      "cell_type": "code",
      "source": [
        "#강수량 정규화\n",
        "df[\"rain_normalization\"] = df[\"일강수량(mm)\"].astype(float)/abs(df[\"일강수량(mm)\"].astype(float).max())\n",
        "df[[\"일강수량(mm)\", \"rain_normalization\"]].head()"
      ],
      "metadata": {
        "id": "YIvK7fv-ZM5p"
      },
      "execution_count": null,
      "outputs": []
    },
    {
      "cell_type": "code",
      "source": [
        "df[\"humidity_normalization\"] = df[\"평균 상대습도(%)\"].astype(float)/abs(df[\"평균 상대습도(%)\"].astype(float).max())\n",
        "df[[\"평균 상대습도(%)\", \"humidity_normalization\"]].head()"
      ],
      "metadata": {
        "id": "-Ou2MrafK50x"
      },
      "execution_count": null,
      "outputs": []
    },
    {
      "cell_type": "code",
      "source": [
        "#그래프를 다시 이쁘게 그려보장\n",
        "import seaborn as sns\n",
        "sns.distplot(df[\"flow_normalization\"])"
      ],
      "metadata": {
        "id": "Tcf7jS_dELDi"
      },
      "execution_count": null,
      "outputs": []
    },
    {
      "cell_type": "code",
      "source": [
        "import matplotlib.pyplot as plt\n",
        "\n",
        "plt.scatter(df[\"flow_normalization\"], df[\"humidity_normalization\"])\n",
        "plt.xlabel(\"humidity_normalization\")\n",
        "plt.ylabel(\"flow_normalization\")\n",
        "plt.title(\"습도, 유량 그래프\")\n",
        "plt.show()\n",
        "#습도가 높아질수록 유량도 증가한다는 사실을 도출했다."
      ],
      "metadata": {
        "id": "YJa7tX-iHzP_"
      },
      "execution_count": null,
      "outputs": []
    },
    {
      "cell_type": "code",
      "source": [
        "df[\"temp_normalization\"] = df[\"평균기온(°C)\"].astype(float)/abs(df[\"평균기온(°C)\"].astype(float).max())\n",
        "df[[\"평균기온(°C)\", \"temp_normalization\"]].head()"
      ],
      "metadata": {
        "id": "iE8quxDRMM2U"
      },
      "execution_count": null,
      "outputs": []
    },
    {
      "cell_type": "code",
      "source": [
        "plt.scatter(df[\"flow_normalization\"], df[\"평균기온(°C)\"])\n",
        "plt.xlabel(\"flow_normalization\")\n",
        "plt.ylabel(\"평균기온(°C)\")\n",
        "plt.title(\"온도, 유량 그래프\")\n",
        "plt.show()"
      ],
      "metadata": {
        "id": "SlRdv-nrMf3x"
      },
      "execution_count": null,
      "outputs": []
    },
    {
      "cell_type": "code",
      "source": [
        "#강수량과 유량을 비교해보기로 했다...\n",
        "plt.scatter(df[\"flow_normalization\"], df[\"일강수량(mm)\"])\n",
        "plt.xlabel(\"flow_normalization\")\n",
        "plt.ylabel(\"일강수량(mm)\")\n",
        "plt.title(\"강수량, 유량 그래프\")\n",
        "plt.show()\n",
        "#강수량이 증가할수록 유량이 증가하는 추세를 나타내고 있다."
      ],
      "metadata": {
        "id": "9jC4ccBBNRAO"
      },
      "execution_count": null,
      "outputs": []
    },
    {
      "cell_type": "code",
      "source": [
        "#MLP를 사용하여 습도에 따른 유량을 분석해보기로 했다.\n",
        "#주요 라이브러리 컴파일\n",
        "import numpy as np\n",
        "import pandas as pd\n",
        "import tensorflow as tf\n",
        "from tensorflow import keras"
      ],
      "metadata": {
        "id": "EaOsHBGcxMuJ"
      },
      "execution_count": null,
      "outputs": []
    },
    {
      "cell_type": "code",
      "source": [
        "# 시계열 데이터 생성\n",
        "data = df[\"humidity_normalization\"]\n",
        "target = df[\"flow_normalization\"]"
      ],
      "metadata": {
        "id": "ZsxnfNYkNkJd"
      },
      "execution_count": null,
      "outputs": []
    },
    {
      "cell_type": "code",
      "source": [
        "# 데이터프레임 생성\n",
        "df_1 = pd.DataFrame({'data': data, 'target': target})"
      ],
      "metadata": {
        "id": "lqnb-SgUywSu"
      },
      "execution_count": null,
      "outputs": []
    },
    {
      "cell_type": "code",
      "source": [
        "# 데이터 전처리\n",
        "window_size = 10  # 입력 시퀀스의 길이\n",
        "x = []\n",
        "y = []\n",
        "for i in range(len(df) - window_size):\n",
        "    x.append(df_1['data'].iloc[i:i+window_size].values)\n",
        "    y.append(df_1['target'].iloc[i+window_size])\n",
        "x = np.array(x)\n",
        "y = np.array(y)"
      ],
      "metadata": {
        "id": "Rw6uAXl0ztaB"
      },
      "execution_count": null,
      "outputs": []
    },
    {
      "cell_type": "code",
      "source": [
        "# 훈련 데이터와 테스트 데이터 분리\n",
        "train_size = int(len(x) * 0.8)\n",
        "x_train, x_test = x[:train_size], x[train_size:]\n",
        "y_train, y_test = y[:train_size], y[train_size:]\n",
        "\n",
        "# MLP 모델 구축\n",
        "model = keras.Sequential([\n",
        "    keras.layers.Dense(32, activation='relu', input_shape=(window_size,)),\n",
        "    keras.layers.Dense(16, activation='relu'),\n",
        "    keras.layers.Dense(1)\n",
        "])\n",
        "\n",
        "# 모델 컴파일\n",
        "model.compile(optimizer='adam', loss='mean_squared_error')"
      ],
      "metadata": {
        "id": "qEdGS3xhz0fy"
      },
      "execution_count": null,
      "outputs": []
    },
    {
      "cell_type": "code",
      "source": [
        "# 모델 훈련\n",
        "model.fit(x_train, y_train, epochs=150, batch_size=64)\n",
        "\n",
        "# 모델 평가\n",
        "test_loss = model.evaluate(x_test, y_test)\n",
        "print('Test loss:', test_loss)\n",
        "\n",
        "# 다음 값을 예측\n",
        "last_window = df_1['data'].iloc[-window_size:].values\n",
        "next_value = model.predict(np.expand_dims(last_window, axis=0))\n",
        "print('Next value prediction:', next_value)"
      ],
      "metadata": {
        "id": "eO-m_61vz8Cc"
      },
      "execution_count": null,
      "outputs": []
    },
    {
      "cell_type": "code",
      "source": [
        "#adam\n",
        "#Test loss: 0.0028341880533844233\n",
        "#1/1 [==============================] - 0s 85ms/step\n",
        "#Next value prediction: [[0.03575461]"
      ],
      "metadata": {
        "id": "3FkviomQJKLM"
      },
      "execution_count": null,
      "outputs": []
    },
    {
      "cell_type": "code",
      "source": [
        "# 시계열 데이터 생성\n",
        "data = df[\"humidity_normalization\"]\n",
        "target = df[\"flow_normalization\"]"
      ],
      "metadata": {
        "id": "bAVuorAUIMk7"
      },
      "execution_count": null,
      "outputs": []
    },
    {
      "cell_type": "code",
      "source": [
        "# 데이터프레임 생성\n",
        "df_2 = pd.DataFrame({'data': data, 'target': target})"
      ],
      "metadata": {
        "id": "5y3e7oXkLMBN"
      },
      "execution_count": null,
      "outputs": []
    },
    {
      "cell_type": "code",
      "source": [
        "# 데이터 전처리\n",
        "window_size = 10  # 입력 시퀀스의 길이\n",
        "x = []\n",
        "y = []\n",
        "for i in range(len(df) - window_size):\n",
        "    x.append(df_2['data'].iloc[i:i+window_size].values)\n",
        "    y.append(df_2['target'].iloc[i+window_size])\n",
        "x = np.array(x)\n",
        "y = np.array(y)"
      ],
      "metadata": {
        "id": "eNIfJwNgLRhh"
      },
      "execution_count": null,
      "outputs": []
    },
    {
      "cell_type": "code",
      "source": [
        "# 훈련 데이터와 테스트 데이터 분리\n",
        "train_size = int(len(x) * 0.8)\n",
        "x_train, x_test = x[:train_size], x[train_size:]\n",
        "y_train, y_test = y[:train_size], y[train_size:]\n",
        "\n",
        "# MLP 모델 구축\n",
        "model = keras.Sequential([\n",
        "    keras.layers.Dense(32, activation='relu', input_shape=(window_size,)),\n",
        "    keras.layers.Dense(16, activation='relu'),\n",
        "    keras.layers.Dense(1)\n",
        "])\n",
        "\n",
        "# 모델 컴파일\n",
        "model.compile(optimizer='SGD', loss='mean_squared_error')"
      ],
      "metadata": {
        "id": "f6ye1ru6LWPD"
      },
      "execution_count": null,
      "outputs": []
    },
    {
      "cell_type": "code",
      "source": [
        "# 모델 훈련\n",
        "model.fit(x_train, y_train, epochs=150, batch_size=64)\n",
        "\n",
        "# 모델 평가\n",
        "test_loss = model.evaluate(x_test, y_test)\n",
        "print('Test loss:', test_loss)\n",
        "\n",
        "# 다음 값을 예측\n",
        "last_window = df_2['data'].iloc[-window_size:].values\n",
        "next_value = model.predict(np.expand_dims(last_window, axis=0))\n",
        "print('Next value prediction:', next_value)"
      ],
      "metadata": {
        "id": "JrWfbxUBLZnM"
      },
      "execution_count": null,
      "outputs": []
    },
    {
      "cell_type": "code",
      "source": [
        "#SDG 500\n",
        "#Test loss: 0.004261848051100969\n",
        "#1/1 [==============================] - 0s 66ms/step\n",
        "#Next value prediction: [[0.02730757]]"
      ],
      "metadata": {
        "id": "FUhDpx0ELeSQ"
      },
      "execution_count": null,
      "outputs": []
    },
    {
      "cell_type": "code",
      "source": [
        "# 시계열 데이터 생성\n",
        "data = df[\"humidity_normalization\"]\n",
        "target = df[\"flow_normalization\"]"
      ],
      "metadata": {
        "id": "nHf6Iwt-LwBn"
      },
      "execution_count": null,
      "outputs": []
    },
    {
      "cell_type": "code",
      "source": [
        "df_3 = pd.DataFrame({'data': data, 'target': target})"
      ],
      "metadata": {
        "id": "Wm-9TK_HL5Pu"
      },
      "execution_count": null,
      "outputs": []
    },
    {
      "cell_type": "code",
      "source": [
        "window_size = 10  # 입력 시퀀스의 길이\n",
        "x = []\n",
        "y = []\n",
        "for i in range(len(df) - window_size):\n",
        "    x.append(df_3['data'].iloc[i:i+window_size].values)\n",
        "    y.append(df_3['target'].iloc[i+window_size])\n",
        "x = np.array(x)\n",
        "y = np.array(y)"
      ],
      "metadata": {
        "id": "WtKTIZZDMEIQ"
      },
      "execution_count": null,
      "outputs": []
    },
    {
      "cell_type": "code",
      "source": [
        "train_size = int(len(x) * 0.8)\n",
        "x_train, x_test = x[:train_size], x[train_size:]\n",
        "y_train, y_test = y[:train_size], y[train_size:]\n",
        "\n",
        "# MLP 모델 구축\n",
        "model = keras.Sequential([\n",
        "    keras.layers.Dense(32, activation='relu', input_shape=(window_size,)),\n",
        "    keras.layers.Dense(16, activation='relu'),\n",
        "    keras.layers.Dense(1)\n",
        "])\n",
        "\n",
        "# 모델 컴파일\n",
        "model.compile(optimizer='AdaDelta', loss='mean_squared_error')"
      ],
      "metadata": {
        "id": "VbzDxuPBR7ic"
      },
      "execution_count": null,
      "outputs": []
    },
    {
      "cell_type": "code",
      "source": [
        "model.fit(x_train, y_train, epochs=150, batch_size=64)\n",
        "\n",
        "# 모델 평가\n",
        "test_loss = model.evaluate(x_test, y_test)\n",
        "print('Test loss:', test_loss)\n",
        "\n",
        "# 다음 값을 예측\n",
        "last_window = df['data'].iloc[-window_size:].values\n",
        "next_value = model.predict(np.expand_dims(last_window, axis=0))\n",
        "print('Next value prediction:', next_value)"
      ],
      "metadata": {
        "id": "SpXUVfA4R_aG"
      },
      "execution_count": null,
      "outputs": []
    },
    {
      "cell_type": "code",
      "source": [
        "#AdaDelta\n",
        "#Test loss: 0.005228295456618071\n",
        "#1/1 [==============================] - 0s 96ms/step\n",
        "#Next value prediction: [[0.01332265]]"
      ],
      "metadata": {
        "id": "tAU4qfm_SD7Z"
      },
      "execution_count": null,
      "outputs": []
    },
    {
      "cell_type": "code",
      "source": [
        "data = df[\"humidity_normalization\"]\n",
        "target = df[\"flow_normalization\"]"
      ],
      "metadata": {
        "id": "KmLTVuL0RohO"
      },
      "execution_count": null,
      "outputs": []
    },
    {
      "cell_type": "code",
      "source": [
        "df_3 = pd.DataFrame({'data': data, 'target': target})"
      ],
      "metadata": {
        "id": "h-CMJl7AUfRf"
      },
      "execution_count": null,
      "outputs": []
    },
    {
      "cell_type": "code",
      "source": [
        "window_size = 10  # 입력 시퀀스의 길이\n",
        "x = []\n",
        "y = []\n",
        "for i in range(len(df) - window_size):\n",
        "    x.append(df_3['data'].iloc[i:i+window_size].values)\n",
        "    y.append(df_3['target'].iloc[i+window_size])\n",
        "x = np.array(x)\n",
        "y = np.array(y)"
      ],
      "metadata": {
        "id": "uHueBEzWBJPr"
      },
      "execution_count": null,
      "outputs": []
    },
    {
      "cell_type": "code",
      "source": [
        "train_size = int(len(x) * 0.8)\n",
        "x_train, x_test = x[:train_size], x[train_size:]\n",
        "y_train, y_test = y[:train_size], y[train_size:]\n",
        "\n",
        "# MLP 모델 구축\n",
        "model = keras.Sequential([\n",
        "    keras.layers.Dense(32, activation='relu', input_shape=(window_size,)),\n",
        "    keras.layers.Dense(16, activation='relu'),\n",
        "    keras.layers.Dense(1)\n",
        "])\n",
        "\n",
        "# 모델 컴파일\n",
        "model.compile(optimizer='Adagrad', loss='mean_squared_error')"
      ],
      "metadata": {
        "id": "FW2YMDFocLUi"
      },
      "execution_count": null,
      "outputs": []
    },
    {
      "cell_type": "code",
      "source": [
        "model.fit(x_train, y_train, epochs=150, batch_size=64)\n",
        "\n",
        "# 모델 평가\n",
        "test_loss = model.evaluate(x_test, y_test)\n",
        "print('Test loss:', test_loss)\n",
        "\n",
        "# 다음 값을 예측\n",
        "last_window = df_3['data'].iloc[-window_size:].values\n",
        "next_value = model.predict(np.expand_dims(last_window, axis=0))\n",
        "print('Next value prediction:', next_value)"
      ],
      "metadata": {
        "id": "659Y6O33cUrn"
      },
      "execution_count": null,
      "outputs": []
    },
    {
      "cell_type": "code",
      "source": [
        "#Adagrad\n",
        "#Test loss: 0.004852883517742157\n",
        "#1/1 [==============================] - 0s 68ms/step\n",
        "#Next value prediction: [[0.02171839]]"
      ],
      "metadata": {
        "id": "9a5kb5gvoK3N"
      },
      "execution_count": null,
      "outputs": []
    },
    {
      "cell_type": "code",
      "source": [
        "data = df[\"humidity_normalization\"]\n",
        "target = df[\"flow_normalization\"]"
      ],
      "metadata": {
        "id": "rQUGiOVdci0T"
      },
      "execution_count": null,
      "outputs": []
    },
    {
      "cell_type": "code",
      "source": [
        "df_5 = pd.DataFrame({'data': data, 'target': target})"
      ],
      "metadata": {
        "id": "97YkF9_gc0Ot"
      },
      "execution_count": null,
      "outputs": []
    },
    {
      "cell_type": "code",
      "source": [
        "window_size = 10  # 입력 시퀀스의 길이\n",
        "x = []\n",
        "y = []\n",
        "for i in range(len(df) - window_size):\n",
        "    x.append(df_5['data'].iloc[i:i+window_size].values)\n",
        "    y.append(df_5['target'].iloc[i+window_size])\n",
        "x = np.array(x)\n",
        "y = np.array(y)"
      ],
      "metadata": {
        "id": "pvbKmJO7c7pk"
      },
      "execution_count": null,
      "outputs": []
    },
    {
      "cell_type": "code",
      "source": [
        "train_size = int(len(x) * 0.8)\n",
        "x_train, x_test = x[:train_size], x[train_size:]\n",
        "y_train, y_test = y[:train_size], y[train_size:]\n",
        "\n",
        "# MLP 모델 구축\n",
        "model = keras.Sequential([\n",
        "    keras.layers.Dense(32, activation='relu', input_shape=(window_size,)),\n",
        "    keras.layers.Dense(16, activation='relu'),\n",
        "    keras.layers.Dense(1)\n",
        "])\n",
        "\n",
        "# 모델 컴파일\n",
        "model.compile(optimizer='Nadam', loss='mean_squared_error')"
      ],
      "metadata": {
        "id": "89buGwrBc-dn"
      },
      "execution_count": null,
      "outputs": []
    },
    {
      "cell_type": "code",
      "source": [
        "model.fit(x_train, y_train, epochs=150, batch_size=64)\n",
        "\n",
        "# 모델 평가\n",
        "test_loss = model.evaluate(x_test, y_test)\n",
        "print('Test loss:', test_loss)\n",
        "\n",
        "# 다음 값을 예측\n",
        "last_window = df_3['data'].iloc[-window_size:].values\n",
        "next_value = model.predict(np.expand_dims(last_window, axis=0))\n",
        "print('Next value prediction:', next_value)"
      ],
      "metadata": {
        "id": "HJ89RbHadB_s"
      },
      "execution_count": null,
      "outputs": []
    },
    {
      "cell_type": "code",
      "source": [
        "#Nadam\n",
        "#Test loss: 0.002889535389840603\n",
        "#1/1 [==============================] - 0s 84ms/step\n",
        "#Next value prediction: [[0.03834122]]"
      ],
      "metadata": {
        "id": "AyXZcofRdIrh"
      },
      "execution_count": null,
      "outputs": []
    },
    {
      "cell_type": "code",
      "source": [
        "data = df[\"humidity_normalization\"]\n",
        "target = df[\"flow_normalization\"]"
      ],
      "metadata": {
        "id": "Cfx5k3ih2beA"
      },
      "execution_count": null,
      "outputs": []
    },
    {
      "cell_type": "code",
      "source": [
        "df_7 = pd.DataFrame({'data': data, 'target': target})"
      ],
      "metadata": {
        "id": "pKhbYunh2qAR"
      },
      "execution_count": null,
      "outputs": []
    },
    {
      "cell_type": "code",
      "source": [
        "window_size = 10  # 입력 시퀀스의 길이\n",
        "x = []\n",
        "y = []\n",
        "for i in range(len(df) - window_size):\n",
        "    x.append(df_7['data'].iloc[i:i+window_size].values)\n",
        "    y.append(df_7['target'].iloc[i+window_size])\n",
        "x = np.array(x)\n",
        "y = np.array(y)"
      ],
      "metadata": {
        "id": "sexjkNaf21cf"
      },
      "execution_count": null,
      "outputs": []
    },
    {
      "cell_type": "code",
      "source": [
        "train_size = int(len(x) * 0.8)\n",
        "x_train, x_test = x[:train_size], x[train_size:]\n",
        "y_train, y_test = y[:train_size], y[train_size:]\n",
        "\n",
        "# MLP 모델 구축\n",
        "model = keras.Sequential([\n",
        "    keras.layers.Dense(32, activation='relu', input_shape=(window_size,)),\n",
        "    keras.layers.Dense(16, activation='relu'),\n",
        "    keras.layers.Dense(1)\n",
        "])\n",
        "\n",
        "# 모델 컴파일\n",
        "model.compile(optimizer='Adamax', loss='mean_squared_error')"
      ],
      "metadata": {
        "id": "SCv5ILmq24qK"
      },
      "execution_count": null,
      "outputs": []
    },
    {
      "cell_type": "code",
      "source": [
        "model.fit(x_train, y_train, epochs=150, batch_size=64)\n",
        "\n",
        "# 모델 평가\n",
        "test_loss = model.evaluate(x_test, y_test)\n",
        "print('Test loss:', test_loss)\n",
        "\n",
        "# 다음 값을 예측\n",
        "last_window = df_7['data'].iloc[-window_size:].values\n",
        "next_value = model.predict(np.expand_dims(last_window, axis=0))\n",
        "print('Next value prediction:', next_value)"
      ],
      "metadata": {
        "id": "yhk6FyCw295Z"
      },
      "execution_count": null,
      "outputs": []
    },
    {
      "cell_type": "code",
      "source": [
        "#Adamax\n",
        "#Test loss: 0.002559814602136612\n",
        "#1/1 [==============================] - 0s 24ms/step\n",
        "#Next value prediction: [[0.01271451]]"
      ],
      "metadata": {
        "id": "lcvL7HYE3Aqj"
      },
      "execution_count": null,
      "outputs": []
    },
    {
      "cell_type": "code",
      "source": [
        "data = df[\"humidity_normalization\"]\n",
        "target = df[\"flow_normalization\"]"
      ],
      "metadata": {
        "id": "F80lkuySpAmU"
      },
      "execution_count": null,
      "outputs": []
    },
    {
      "cell_type": "code",
      "source": [
        "df_7 = pd.DataFrame({'data': data, 'target': target})"
      ],
      "metadata": {
        "id": "9reHljEepDEt"
      },
      "execution_count": null,
      "outputs": []
    },
    {
      "cell_type": "code",
      "source": [
        "window_size = 10  # 입력 시퀀스의 길이\n",
        "x = []\n",
        "y = []\n",
        "for i in range(len(df) - window_size):\n",
        "    x.append(df_7['data'].iloc[i:i+window_size].values)\n",
        "    y.append(df_7['target'].iloc[i+window_size])\n",
        "x = np.array(x)\n",
        "y = np.array(y)"
      ],
      "metadata": {
        "id": "C_lzJfCXpFiy"
      },
      "execution_count": null,
      "outputs": []
    },
    {
      "cell_type": "code",
      "source": [
        "train_size = int(len(x) * 0.8)\n",
        "x_train, x_test = x[:train_size], x[train_size:]\n",
        "y_train, y_test = y[:train_size], y[train_size:]\n",
        "\n",
        "# MLP 모델 구축\n",
        "model = keras.Sequential([\n",
        "    keras.layers.Dense(32, activation='relu', input_shape=(window_size,)),\n",
        "    keras.layers.Dense(16, activation='relu'),\n",
        "    keras.layers.Dense(1)\n",
        "])\n",
        "\n",
        "# 모델 컴파일\n",
        "model.compile(optimizer='RMSProp', loss='mean_squared_error')"
      ],
      "metadata": {
        "id": "obEyrRMvpHuR"
      },
      "execution_count": null,
      "outputs": []
    },
    {
      "cell_type": "code",
      "source": [
        "model.fit(x_train, y_train, epochs=150, batch_size=64)\n",
        "\n",
        "# 모델 평가\n",
        "test_loss = model.evaluate(x_test, y_test)\n",
        "print('Test loss:', test_loss)\n",
        "\n",
        "# 다음 값을 예측\n",
        "last_window = df_7['data'].iloc[-window_size:].values\n",
        "next_value = model.predict(np.expand_dims(last_window, axis=0))\n",
        "print('Next value prediction:', next_value)"
      ],
      "metadata": {
        "id": "Iq7nym80pMy0"
      },
      "execution_count": null,
      "outputs": []
    },
    {
      "cell_type": "code",
      "source": [
        "#RMSProp\n",
        "#Test loss: 0.002466383157297969\n",
        "#1/1 [==============================] - 0s 61ms/step\n",
        "#Next value prediction: [[0.00796306]]"
      ],
      "metadata": {
        "id": "fh13lwUgpQBB"
      },
      "execution_count": null,
      "outputs": []
    },
    {
      "cell_type": "code",
      "source": [
        "#데이터 프레임 형성\n",
        "#표로 만들어 가장 오차가 적은 것을 분석해보았다.\n",
        "#분석내용 표로 도출\n",
        "data = {\n",
        "    'Optimizer': ['adam', 'SGD', 'Adadelta', 'Adagrad', 'Adamax', 'RMSProp', 'Nadam'],\n",
        "    '오차': [0.0028341880533844233, 0.004261848051100969, 0.005228295456618071, 0.004852883517742157, 0.002559814602136612, 0.002466383157297969, 0.002889535389840603],\n",
        "    'Epoch': [150, 150, 150, 150, 150, 150, 150],\n",
        "    'Next value prediction': [0.03575461, 0.02730757, 0.01332265, 0.02171839, 0.01271451, 0.00796306, 0.03834122]\n",
        "}\n",
        "\n",
        "df_7 = pd.DataFrame(data, dtype=float)"
      ],
      "metadata": {
        "id": "Oi79wlYfpbTM"
      },
      "execution_count": null,
      "outputs": []
    },
    {
      "cell_type": "code",
      "source": [
        "df_7"
      ],
      "metadata": {
        "id": "cB5O9_KMrLSG"
      },
      "execution_count": null,
      "outputs": []
    },
    {
      "cell_type": "code",
      "source": [
        "#이것을 그래프로 시각화 해보겠다.\n",
        "x=df_7[\"Optimizer\"]\n",
        "y1=df_7[\"오차\"]\n",
        "\n",
        "# 그래프 그리기\n",
        "plt.plot(x, y1, label='error')\n",
        "\n",
        "# 그래프 제목, 축 레이블 설정\n",
        "plt.title('What would be the most appropriate?')\n",
        "plt.xlabel('X-axis')\n",
        "plt.ylabel('Y-axis')\n",
        "\n",
        "# 범례(legend) 표시\n",
        "plt.legend()\n",
        "\n",
        "# 그래프 보이기\n",
        "plt.show()\n",
        "\n",
        "#그래프를 통해서 RMSProp가 가장 작은 오차를 가지고 있다는 것을 알 수 있었다.\n",
        "#가장 큰 오차는 Adadelta였다."
      ],
      "metadata": {
        "id": "h3unaj-OrMeF"
      },
      "execution_count": null,
      "outputs": []
    },
    {
      "cell_type": "code",
      "source": [
        "#RMSProp를 사용해 Epoch, Batch_size, keras의 Dense를 바꾸어보며 가장 적합한 모델을 도출한다."
      ],
      "metadata": {
        "id": "XIaJIHRbrS7a"
      },
      "execution_count": null,
      "outputs": []
    },
    {
      "cell_type": "code",
      "source": [
        "data = df[\"humidity_normalization\"]\n",
        "target = df[\"flow_normalization\"]"
      ],
      "metadata": {
        "id": "of4t4XHrrtpI"
      },
      "execution_count": null,
      "outputs": []
    },
    {
      "cell_type": "code",
      "source": [
        "df_8 = pd.DataFrame({'data': data, 'target': target})"
      ],
      "metadata": {
        "id": "C657HrXmsA08"
      },
      "execution_count": null,
      "outputs": []
    },
    {
      "cell_type": "code",
      "source": [
        "window_size = 10  # 입력 시퀀스의 길이\n",
        "x = []\n",
        "y = []\n",
        "for i in range(len(df) - window_size):\n",
        "    x.append(df_8['data'].iloc[i:i+window_size].values)\n",
        "    y.append(df_8['target'].iloc[i+window_size])\n",
        "x = np.array(x)\n",
        "y = np.array(y)"
      ],
      "metadata": {
        "id": "mKJrnI7osF0O"
      },
      "execution_count": null,
      "outputs": []
    },
    {
      "cell_type": "code",
      "source": [
        "train_size = int(len(x) * 0.8)\n",
        "x_train, x_test = x[:train_size], x[train_size:]\n",
        "y_train, y_test = y[:train_size], y[train_size:]\n",
        "\n",
        "# MLP 모델 구축\n",
        "model = keras.Sequential([\n",
        "    keras.layers.Dense(48, activation='relu', input_shape=(window_size,)),\n",
        "    keras.layers.Dense(24, activation='relu'),\n",
        "    keras.layers.Dense(1)\n",
        "])\n",
        "\n",
        "# 모델 컴파일\n",
        "model.compile(optimizer='RMSProp', loss='mean_squared_error')"
      ],
      "metadata": {
        "id": "DwVh_ueBsIkV"
      },
      "execution_count": null,
      "outputs": []
    },
    {
      "cell_type": "code",
      "source": [
        "model.fit(x_train, y_train, epochs=200, batch_size=64)\n",
        "\n",
        "# 모델 평가\n",
        "test_loss = model.evaluate(x_test, y_test)\n",
        "print('Test loss:', test_loss)\n",
        "\n",
        "# 다음 값을 예측\n",
        "last_window = df_8['data'].iloc[-window_size:].values\n",
        "next_value = model.predict(np.expand_dims(last_window, axis=0))\n",
        "print('Next value prediction:', next_value)"
      ],
      "metadata": {
        "id": "2c7lJ3EPsOrR"
      },
      "execution_count": null,
      "outputs": []
    },
    {
      "cell_type": "code",
      "source": [
        "#epochs=200, batch_size=64)\n",
        "#48/24\n",
        "#Test loss: 0.0022740799468010664\n",
        "#1/1 [==============================] - 0s 90ms/step\n",
        "#Next value prediction: [[0.01652841]]"
      ],
      "metadata": {
        "id": "wLgs0UvssUuk"
      },
      "execution_count": null,
      "outputs": []
    },
    {
      "cell_type": "code",
      "source": [
        "data = df[\"humidity_normalization\"]\n",
        "target = df[\"flow_normalization\"]"
      ],
      "metadata": {
        "id": "LHpcCF0Ms4E-"
      },
      "execution_count": null,
      "outputs": []
    },
    {
      "cell_type": "code",
      "source": [
        "df_8 = pd.DataFrame({'data': data, 'target': target})"
      ],
      "metadata": {
        "id": "81xV83GptAHg"
      },
      "execution_count": null,
      "outputs": []
    },
    {
      "cell_type": "code",
      "source": [
        "window_size = 10  # 입력 시퀀스의 길이\n",
        "x = []\n",
        "y = []\n",
        "for i in range(len(df) - window_size):\n",
        "    x.append(df_8['data'].iloc[i:i+window_size].values)\n",
        "    y.append(df_8['target'].iloc[i+window_size])\n",
        "x = np.array(x)\n",
        "y = np.array(y)"
      ],
      "metadata": {
        "id": "usbsW4MQtC2s"
      },
      "execution_count": null,
      "outputs": []
    },
    {
      "cell_type": "code",
      "source": [
        "train_size = int(len(x) * 0.8)\n",
        "x_train, x_test = x[:train_size], x[train_size:]\n",
        "y_train, y_test = y[:train_size], y[train_size:]\n",
        "\n",
        "# MLP 모델 구축\n",
        "model = keras.Sequential([\n",
        "    keras.layers.Dense(48, activation='relu', input_shape=(window_size,)),\n",
        "    keras.layers.Dense(24, activation='relu'),\n",
        "    keras.layers.Dense(1)\n",
        "])\n",
        "\n",
        "# 모델 컴파일\n",
        "model.compile(optimizer='RMSProp', loss='mean_squared_error')"
      ],
      "metadata": {
        "id": "E75YRkz9tE_m"
      },
      "execution_count": null,
      "outputs": []
    },
    {
      "cell_type": "code",
      "source": [
        "model.fit(x_train, y_train, epochs=200, batch_size=32)\n",
        "\n",
        "# 모델 평가\n",
        "test_loss = model.evaluate(x_test, y_test)\n",
        "print('Test loss:', test_loss)\n",
        "\n",
        "# 다음 값을 예측\n",
        "last_window = df_8['data'].iloc[-window_size:].values\n",
        "next_value = model.predict(np.expand_dims(last_window, axis=0))\n",
        "print('Next value prediction:', next_value)"
      ],
      "metadata": {
        "id": "0T1VjmqqtHuk"
      },
      "execution_count": null,
      "outputs": []
    },
    {
      "cell_type": "code",
      "source": [
        "#epochs=200, batch_size=32)\n",
        "#48/24\n",
        "#Test loss: 0.002586443442851305\n",
        "#1/1 [==============================] - 0s 90ms/step\n",
        "#Next value prediction: [[0.01607266]]"
      ],
      "metadata": {
        "id": "4gz0MlA6tMbi"
      },
      "execution_count": null,
      "outputs": []
    },
    {
      "cell_type": "code",
      "source": [
        "data = df[\"humidity_normalization\"]\n",
        "target = df[\"flow_normalization\"]"
      ],
      "metadata": {
        "id": "v3Mm-VsstxVB"
      },
      "execution_count": null,
      "outputs": []
    },
    {
      "cell_type": "code",
      "source": [
        "df_8 = pd.DataFrame({'data': data, 'target': target})"
      ],
      "metadata": {
        "id": "4HtBH41Zt4gb"
      },
      "execution_count": null,
      "outputs": []
    },
    {
      "cell_type": "code",
      "source": [
        "window_size = 10  # 입력 시퀀스의 길이\n",
        "x = []\n",
        "y = []\n",
        "for i in range(len(df) - window_size):\n",
        "    x.append(df_8['data'].iloc[i:i+window_size].values)\n",
        "    y.append(df_8['target'].iloc[i+window_size])\n",
        "x = np.array(x)\n",
        "y = np.array(y)"
      ],
      "metadata": {
        "id": "6f1gbE_Rt7_Q"
      },
      "execution_count": null,
      "outputs": []
    },
    {
      "cell_type": "code",
      "source": [
        "train_size = int(len(x) * 0.8)\n",
        "x_train, x_test = x[:train_size], x[train_size:]\n",
        "y_train, y_test = y[:train_size], y[train_size:]\n",
        "\n",
        "# MLP 모델 구축\n",
        "model = keras.Sequential([\n",
        "    keras.layers.Dense(96, activation='relu', input_shape=(window_size,)),\n",
        "    keras.layers.Dense(48, activation='relu'),\n",
        "    keras.layers.Dense(1)\n",
        "])\n",
        "\n",
        "# 모델 컴파일\n",
        "model.compile(optimizer='RMSProp', loss='mean_squared_error')"
      ],
      "metadata": {
        "id": "rqIdo0Crt_NQ"
      },
      "execution_count": null,
      "outputs": []
    },
    {
      "cell_type": "code",
      "source": [
        "model.fit(x_train, y_train, epochs=200, batch_size=32)\n",
        "\n",
        "# 모델 평가\n",
        "test_loss = model.evaluate(x_test, y_test)\n",
        "print('Test loss:', test_loss)\n",
        "\n",
        "# 다음 값을 예측\n",
        "last_window = df_8['data'].iloc[-window_size:].values\n",
        "next_value = model.predict(np.expand_dims(last_window, axis=0))\n",
        "print('Next value prediction:', next_value)"
      ],
      "metadata": {
        "id": "X6NIJ_S3uDqd"
      },
      "execution_count": null,
      "outputs": []
    },
    {
      "cell_type": "code",
      "source": [
        "#96/48\n",
        "#epochs=200, batch_size=32)\n",
        "#Test loss: 0.0028256792575120926\n",
        "#1/1 [==============================] - 0s 100ms/step\n",
        "#Next value prediction: [[0.00406663]]"
      ],
      "metadata": {
        "id": "4ojP3xt2uGpv"
      },
      "execution_count": null,
      "outputs": []
    },
    {
      "cell_type": "code",
      "source": [
        "data = df[\"humidity_normalization\"]\n",
        "target = df[\"flow_normalization\"]"
      ],
      "metadata": {
        "id": "8UyGgV1Ouknm"
      },
      "execution_count": null,
      "outputs": []
    },
    {
      "cell_type": "code",
      "source": [
        "df_8 = pd.DataFrame({'data': data, 'target': target})"
      ],
      "metadata": {
        "id": "Rp3Z2RTbunNe"
      },
      "execution_count": null,
      "outputs": []
    },
    {
      "cell_type": "code",
      "source": [
        "window_size = 10  # 입력 시퀀스의 길이\n",
        "x = []\n",
        "y = []\n",
        "for i in range(len(df) - window_size):\n",
        "    x.append(df_8['data'].iloc[i:i+window_size].values)\n",
        "    y.append(df_8['target'].iloc[i+window_size])\n",
        "x = np.array(x)\n",
        "y = np.array(y)"
      ],
      "metadata": {
        "id": "RTFqpDFDupdV"
      },
      "execution_count": null,
      "outputs": []
    },
    {
      "cell_type": "code",
      "source": [
        "train_size = int(len(x) * 0.8)\n",
        "x_train, x_test = x[:train_size], x[train_size:]\n",
        "y_train, y_test = y[:train_size], y[train_size:]\n",
        "\n",
        "# MLP 모델 구축\n",
        "model = keras.Sequential([\n",
        "    keras.layers.Dense(96, activation='relu', input_shape=(window_size,)),\n",
        "    keras.layers.Dense(48, activation='relu'),\n",
        "    keras.layers.Dense(1)\n",
        "])\n",
        "\n",
        "# 모델 컴파일\n",
        "model.compile(optimizer='RMSProp', loss='mean_squared_error')"
      ],
      "metadata": {
        "id": "cFl5Qik4usDb"
      },
      "execution_count": null,
      "outputs": []
    },
    {
      "cell_type": "code",
      "source": [
        "model.fit(x_train, y_train, epochs=200, batch_size=64)\n",
        "\n",
        "# 모델 평가\n",
        "test_loss = model.evaluate(x_test, y_test)\n",
        "print('Test loss:', test_loss)\n",
        "\n",
        "# 다음 값을 예측\n",
        "last_window = df_8['data'].iloc[-window_size:].values\n",
        "next_value = model.predict(np.expand_dims(last_window, axis=0))\n",
        "print('Next value prediction:', next_value)"
      ],
      "metadata": {
        "id": "TiLzoQqquuni"
      },
      "execution_count": null,
      "outputs": []
    },
    {
      "cell_type": "code",
      "source": [
        "#epochs=200, batch_size=64)\n",
        "#96/48\n",
        "#Test loss: 0.0021875398233532906\n",
        "#1/1 [==============================] - 0s 65ms/step\n",
        "#Next value prediction: [[0.01277857]]"
      ],
      "metadata": {
        "id": "pkYCo038uxzE"
      },
      "execution_count": null,
      "outputs": []
    },
    {
      "cell_type": "code",
      "source": [
        "data = df[\"humidity_normalization\"]\n",
        "target = df[\"flow_normalization\"]"
      ],
      "metadata": {
        "id": "GqZBjWSPva0J"
      },
      "execution_count": null,
      "outputs": []
    },
    {
      "cell_type": "code",
      "source": [
        "df_8 = pd.DataFrame({'data': data, 'target': target})"
      ],
      "metadata": {
        "id": "mLBnX-LyvlNY"
      },
      "execution_count": null,
      "outputs": []
    },
    {
      "cell_type": "code",
      "source": [
        "window_size = 10  # 입력 시퀀스의 길이\n",
        "x = []\n",
        "y = []\n",
        "for i in range(len(df) - window_size):\n",
        "    x.append(df_8['data'].iloc[i:i+window_size].values)\n",
        "    y.append(df_8['target'].iloc[i+window_size])\n",
        "x = np.array(x)\n",
        "y = np.array(y)"
      ],
      "metadata": {
        "id": "5Bua3JI_vniz"
      },
      "execution_count": null,
      "outputs": []
    },
    {
      "cell_type": "code",
      "source": [
        "train_size = int(len(x) * 0.8)\n",
        "x_train, x_test = x[:train_size], x[train_size:]\n",
        "y_train, y_test = y[:train_size], y[train_size:]\n",
        "\n",
        "# MLP 모델 구축\n",
        "model = keras.Sequential([\n",
        "    keras.layers.Dense(48, activation='relu', input_shape=(window_size,)),\n",
        "    keras.layers.Dense(24, activation='relu'),\n",
        "    keras.layers.Dense(1)\n",
        "])\n",
        "\n",
        "# 모델 컴파일\n",
        "model.compile(optimizer='RMSProp', loss='mean_squared_error')"
      ],
      "metadata": {
        "id": "CFDYhX1Pvp0h"
      },
      "execution_count": null,
      "outputs": []
    },
    {
      "cell_type": "code",
      "source": [
        "model.fit(x_train, y_train, epochs=500, batch_size=64)\n",
        "\n",
        "# 모델 평가\n",
        "test_loss = model.evaluate(x_test, y_test)\n",
        "print('Test loss:', test_loss)\n",
        "\n",
        "# 다음 값을 예측\n",
        "last_window = df_8['data'].iloc[-window_size:].values\n",
        "next_value = model.predict(np.expand_dims(last_window, axis=0))\n",
        "print('Next value prediction:', next_value)"
      ],
      "metadata": {
        "id": "jGpL5qlvvtlB"
      },
      "execution_count": null,
      "outputs": []
    },
    {
      "cell_type": "code",
      "source": [
        "#epochs=500, batch_size=64)\n",
        "#48/24\n",
        "#Test loss: 0.001968736294656992\n",
        "#1/1 [==============================] - 0s 102ms/step\n",
        "#Next value prediction: [[0.01458428]]"
      ],
      "metadata": {
        "id": "6AJ_xZSsvxP9"
      },
      "execution_count": null,
      "outputs": []
    },
    {
      "cell_type": "code",
      "source": [
        "data = df[\"humidity_normalization\"]\n",
        "target = df[\"flow_normalization\"]"
      ],
      "metadata": {
        "id": "eHG3azLiwliV"
      },
      "execution_count": null,
      "outputs": []
    },
    {
      "cell_type": "code",
      "source": [
        "df_8 = pd.DataFrame({'data': data, 'target': target})"
      ],
      "metadata": {
        "id": "2xAymAEuwnwS"
      },
      "execution_count": null,
      "outputs": []
    },
    {
      "cell_type": "code",
      "source": [
        "window_size = 10  # 입력 시퀀스의 길이\n",
        "x = []\n",
        "y = []\n",
        "for i in range(len(df) - window_size):\n",
        "    x.append(df_8['data'].iloc[i:i+window_size].values)\n",
        "    y.append(df_8['target'].iloc[i+window_size])\n",
        "x = np.array(x)\n",
        "y = np.array(y)"
      ],
      "metadata": {
        "id": "J3jDa5UCwqI2"
      },
      "execution_count": null,
      "outputs": []
    },
    {
      "cell_type": "code",
      "source": [
        "train_size = int(len(x) * 0.8)\n",
        "x_train, x_test = x[:train_size], x[train_size:]\n",
        "y_train, y_test = y[:train_size], y[train_size:]\n",
        "\n",
        "# MLP 모델 구축\n",
        "model = keras.Sequential([\n",
        "    keras.layers.Dense(48, activation='relu', input_shape=(window_size,)),\n",
        "    keras.layers.Dense(24, activation='relu'),\n",
        "    keras.layers.Dense(1)\n",
        "])\n",
        "\n",
        "# 모델 컴파일\n",
        "model.compile(optimizer='RMSProp', loss='mean_squared_error')"
      ],
      "metadata": {
        "id": "K_DR5N98wsYA"
      },
      "execution_count": null,
      "outputs": []
    },
    {
      "cell_type": "code",
      "source": [
        "model.fit(x_train, y_train, epochs=500, batch_size=32)\n",
        "\n",
        "# 모델 평가\n",
        "test_loss = model.evaluate(x_test, y_test)\n",
        "print('Test loss:', test_loss)\n",
        "\n",
        "# 다음 값을 예측\n",
        "last_window = df_8['data'].iloc[-window_size:].values\n",
        "next_value = model.predict(np.expand_dims(last_window, axis=0))\n",
        "print('Next value prediction:', next_value)"
      ],
      "metadata": {
        "id": "q08PDPhswvGW"
      },
      "execution_count": null,
      "outputs": []
    },
    {
      "cell_type": "code",
      "source": [
        "#epochs=500, batch_size=32)\n",
        "#48/24\n",
        "#Test loss: 0.0023632191587239504\n",
        "#1/1 [==============================] - 0s 59ms/step\n",
        "#Next value prediction: [[0.00542768]]"
      ],
      "metadata": {
        "id": "-EI624P4wyFk"
      },
      "execution_count": null,
      "outputs": []
    },
    {
      "cell_type": "code",
      "source": [
        "data = df[\"humidity_normalization\"]\n",
        "target = df[\"flow_normalization\"]"
      ],
      "metadata": {
        "id": "4SCvNowTxeHW"
      },
      "execution_count": null,
      "outputs": []
    },
    {
      "cell_type": "code",
      "source": [
        "df_8 = pd.DataFrame({'data': data, 'target': target})"
      ],
      "metadata": {
        "id": "c74rpJW9xhNR"
      },
      "execution_count": null,
      "outputs": []
    },
    {
      "cell_type": "code",
      "source": [
        "window_size = 10  # 입력 시퀀스의 길이\n",
        "x = []\n",
        "y = []\n",
        "for i in range(len(df) - window_size):\n",
        "    x.append(df_8['data'].iloc[i:i+window_size].values)\n",
        "    y.append(df_8['target'].iloc[i+window_size])\n",
        "x = np.array(x)\n",
        "y = np.array(y)"
      ],
      "metadata": {
        "id": "LGJNDqYexjYm"
      },
      "execution_count": null,
      "outputs": []
    },
    {
      "cell_type": "code",
      "source": [
        "train_size = int(len(x) * 0.8)\n",
        "x_train, x_test = x[:train_size], x[train_size:]\n",
        "y_train, y_test = y[:train_size], y[train_size:]\n",
        "\n",
        "# MLP 모델 구축\n",
        "model = keras.Sequential([\n",
        "    keras.layers.Dense(96, activation='relu', input_shape=(window_size,)),\n",
        "    keras.layers.Dense(48, activation='relu'),\n",
        "    keras.layers.Dense(1)\n",
        "])\n",
        "\n",
        "# 모델 컴파일\n",
        "model.compile(optimizer='RMSProp', loss='mean_squared_error')"
      ],
      "metadata": {
        "id": "_9YNbVf4xli0"
      },
      "execution_count": null,
      "outputs": []
    },
    {
      "cell_type": "code",
      "source": [
        "model.fit(x_train, y_train, epochs=500, batch_size=32)\n",
        "\n",
        "# 모델 평가\n",
        "test_loss = model.evaluate(x_test, y_test)\n",
        "print('Test loss:', test_loss)\n",
        "\n",
        "# 다음 값을 예측\n",
        "last_window = df_8['data'].iloc[-window_size:].values\n",
        "next_value = model.predict(np.expand_dims(last_window, axis=0))\n",
        "print('Next value prediction:', next_value)"
      ],
      "metadata": {
        "id": "b6VGVCtLxo4R"
      },
      "execution_count": null,
      "outputs": []
    },
    {
      "cell_type": "code",
      "source": [
        "#epochs=500, batch_size=32)\n",
        "#96/48\n",
        "#Test loss: 0.0017702518962323666\n",
        "#1/1 [==============================] - 0s 69ms/step\n",
        "#Next value prediction: [[0.01042784]]"
      ],
      "metadata": {
        "id": "EQpAyVj-xsZf"
      },
      "execution_count": null,
      "outputs": []
    },
    {
      "cell_type": "code",
      "source": [
        "data = df[\"humidity_normalization\"]\n",
        "target = df[\"flow_normalization\"]"
      ],
      "metadata": {
        "id": "chI37ZSxy6WR"
      },
      "execution_count": null,
      "outputs": []
    },
    {
      "cell_type": "code",
      "source": [
        "df_8 = pd.DataFrame({'data': data, 'target': target})"
      ],
      "metadata": {
        "id": "qE-IOFOdy9EY"
      },
      "execution_count": null,
      "outputs": []
    },
    {
      "cell_type": "code",
      "source": [
        "window_size = 10  # 입력 시퀀스의 길이\n",
        "x = []\n",
        "y = []\n",
        "for i in range(len(df) - window_size):\n",
        "    x.append(df_8['data'].iloc[i:i+window_size].values)\n",
        "    y.append(df_8['target'].iloc[i+window_size])\n",
        "x = np.array(x)\n",
        "y = np.array(y)"
      ],
      "metadata": {
        "id": "cr_4l5b0y_DL"
      },
      "execution_count": null,
      "outputs": []
    },
    {
      "cell_type": "code",
      "source": [
        "train_size = int(len(x) * 0.8)\n",
        "x_train, x_test = x[:train_size], x[train_size:]\n",
        "y_train, y_test = y[:train_size], y[train_size:]\n",
        "\n",
        "# MLP 모델 구축\n",
        "model = keras.Sequential([\n",
        "    keras.layers.Dense(96, activation='relu', input_shape=(window_size,)),\n",
        "    keras.layers.Dense(48, activation='relu'),\n",
        "    keras.layers.Dense(1)\n",
        "])\n",
        "\n",
        "# 모델 컴파일\n",
        "model.compile(optimizer='RMSProp', loss='mean_squared_error')"
      ],
      "metadata": {
        "id": "D7JFEcp1zC3G"
      },
      "execution_count": null,
      "outputs": []
    },
    {
      "cell_type": "code",
      "source": [
        "model.fit(x_train, y_train, epochs=500, batch_size=64)\n",
        "\n",
        "# 모델 평가\n",
        "test_loss = model.evaluate(x_test, y_test)\n",
        "print('Test loss:', test_loss)\n",
        "\n",
        "# 다음 값을 예측\n",
        "last_window = df_8['data'].iloc[-window_size:].values\n",
        "next_value = model.predict(np.expand_dims(last_window, axis=0))\n",
        "print('Next value prediction:', next_value)"
      ],
      "metadata": {
        "id": "js-kfznNzFQr"
      },
      "execution_count": null,
      "outputs": []
    },
    {
      "cell_type": "code",
      "source": [
        "#epochs=500, batch_size=64)\n",
        "#96/48\n",
        "#Test loss: 0.0020167178008705378\n",
        "#1/1 [==============================] - 0s 23ms/step\n",
        "#Next value prediction: [[0.01011825]]"
      ],
      "metadata": {
        "id": "mM7yPiqfzINp"
      },
      "execution_count": null,
      "outputs": []
    },
    {
      "cell_type": "code",
      "source": [
        "data = df[\"humidity_normalization\"]\n",
        "target = df[\"flow_normalization\"]"
      ],
      "metadata": {
        "id": "DHnuWkGh0NOo"
      },
      "execution_count": null,
      "outputs": []
    },
    {
      "cell_type": "code",
      "source": [
        "df_8 = pd.DataFrame({'data': data, 'target': target})"
      ],
      "metadata": {
        "id": "xgrzyHiL0W4k"
      },
      "execution_count": null,
      "outputs": []
    },
    {
      "cell_type": "code",
      "source": [
        "window_size = 10  # 입력 시퀀스의 길이\n",
        "x = []\n",
        "y = []\n",
        "for i in range(len(df) - window_size):\n",
        "    x.append(df_8['data'].iloc[i:i+window_size].values)\n",
        "    y.append(df_8['target'].iloc[i+window_size])\n",
        "x = np.array(x)\n",
        "y = np.array(y)"
      ],
      "metadata": {
        "id": "UiTOPaNR0Yzy"
      },
      "execution_count": null,
      "outputs": []
    },
    {
      "cell_type": "code",
      "source": [
        "train_size = int(len(x) * 0.8)\n",
        "x_train, x_test = x[:train_size], x[train_size:]\n",
        "y_train, y_test = y[:train_size], y[train_size:]\n",
        "\n",
        "# MLP 모델 구축\n",
        "model = keras.Sequential([\n",
        "    keras.layers.Dense(96, activation='relu', input_shape=(window_size,)),\n",
        "    keras.layers.Dense(48, activation='relu'),\n",
        "    keras.layers.Dense(1)\n",
        "])\n",
        "\n",
        "# 모델 컴파일\n",
        "model.compile(optimizer='RMSProp', loss='mean_squared_error')"
      ],
      "metadata": {
        "id": "e1Jcj5B_0a_A"
      },
      "execution_count": null,
      "outputs": []
    },
    {
      "cell_type": "code",
      "source": [
        "model.fit(x_train, y_train, epochs=1000, batch_size=64)\n",
        "\n",
        "# 모델 평가\n",
        "test_loss = model.evaluate(x_test, y_test)\n",
        "print('Test loss:', test_loss)\n",
        "\n",
        "# 다음 값을 예측\n",
        "last_window = df_8['data'].iloc[-window_size:].values\n",
        "next_value = model.predict(np.expand_dims(last_window, axis=0))\n",
        "print('Next value prediction:', next_value)"
      ],
      "metadata": {
        "id": "yVD9N8w20f7v"
      },
      "execution_count": null,
      "outputs": []
    },
    {
      "cell_type": "code",
      "source": [
        "#epochs=1000, batch_size=64)\n",
        "#96/48\n",
        "#Test loss: 0.0020732267294079065\n",
        "#1/1 [==============================] - 0s 64ms/step\n",
        "#Next value prediction: [[0.01116662]]"
      ],
      "metadata": {
        "id": "NX6Pq-PM0i8x"
      },
      "execution_count": null,
      "outputs": []
    },
    {
      "cell_type": "code",
      "source": [
        "data = df[\"humidity_normalization\"]\n",
        "target = df[\"flow_normalization\"]"
      ],
      "metadata": {
        "id": "dG6l0fCW1Uxq"
      },
      "execution_count": null,
      "outputs": []
    },
    {
      "cell_type": "code",
      "source": [
        "df_8 = pd.DataFrame({'data': data, 'target': target})"
      ],
      "metadata": {
        "id": "fjndymBo1ZDu"
      },
      "execution_count": null,
      "outputs": []
    },
    {
      "cell_type": "code",
      "source": [
        "window_size = 10  # 입력 시퀀스의 길이\n",
        "x = []\n",
        "y = []\n",
        "for i in range(len(df) - window_size):\n",
        "    x.append(df_8['data'].iloc[i:i+window_size].values)\n",
        "    y.append(df_8['target'].iloc[i+window_size])\n",
        "x = np.array(x)\n",
        "y = np.array(y)"
      ],
      "metadata": {
        "id": "UCTaqfty1bXW"
      },
      "execution_count": null,
      "outputs": []
    },
    {
      "cell_type": "code",
      "source": [
        "train_size = int(len(x) * 0.8)\n",
        "x_train, x_test = x[:train_size], x[train_size:]\n",
        "y_train, y_test = y[:train_size], y[train_size:]\n",
        "\n",
        "# MLP 모델 구축\n",
        "model = keras.Sequential([\n",
        "    keras.layers.Dense(96, activation='relu', input_shape=(window_size,)),\n",
        "    keras.layers.Dense(48, activation='relu'),\n",
        "    keras.layers.Dense(1)\n",
        "])\n",
        "\n",
        "# 모델 컴파일\n",
        "model.compile(optimizer='RMSProp', loss='mean_squared_error')"
      ],
      "metadata": {
        "id": "BLiVw4Xq1d5f"
      },
      "execution_count": null,
      "outputs": []
    },
    {
      "cell_type": "code",
      "source": [
        "model.fit(x_train, y_train, epochs=1000, batch_size=32)\n",
        "\n",
        "# 모델 평가\n",
        "test_loss = model.evaluate(x_test, y_test)\n",
        "print('Test loss:', test_loss)\n",
        "\n",
        "# 다음 값을 예측\n",
        "last_window = df_8['data'].iloc[-window_size:].values\n",
        "next_value = model.predict(np.expand_dims(last_window, axis=0))\n",
        "print('Next value prediction:', next_value)"
      ],
      "metadata": {
        "id": "7zVSCJio1ge_"
      },
      "execution_count": null,
      "outputs": []
    },
    {
      "cell_type": "code",
      "source": [
        "#epochs=1000, batch_size=32)\n",
        "#96/48\n",
        "#Test loss: 0.0021327785216271877\n",
        "#1/1 [==============================] - 0s 65ms/step\n",
        "#Next value prediction: [[0.00376695]]"
      ],
      "metadata": {
        "id": "SHbWj0cM1jIA"
      },
      "execution_count": null,
      "outputs": []
    },
    {
      "cell_type": "code",
      "source": [
        "data = df[\"humidity_normalization\"]\n",
        "target = df[\"flow_normalization\"]"
      ],
      "metadata": {
        "id": "9-OLXssw2owO"
      },
      "execution_count": null,
      "outputs": []
    },
    {
      "cell_type": "code",
      "source": [
        "df_8 = pd.DataFrame({'data': data, 'target': target})"
      ],
      "metadata": {
        "id": "TVgEYB2v2vQz"
      },
      "execution_count": null,
      "outputs": []
    },
    {
      "cell_type": "code",
      "source": [
        "window_size = 10  # 입력 시퀀스의 길이\n",
        "x = []\n",
        "y = []\n",
        "for i in range(len(df) - window_size):\n",
        "    x.append(df_8['data'].iloc[i:i+window_size].values)\n",
        "    y.append(df_8['target'].iloc[i+window_size])\n",
        "x = np.array(x)\n",
        "y = np.array(y)"
      ],
      "metadata": {
        "id": "mV09gEEw2ygB"
      },
      "execution_count": null,
      "outputs": []
    },
    {
      "cell_type": "code",
      "source": [
        "train_size = int(len(x) * 0.8)\n",
        "x_train, x_test = x[:train_size], x[train_size:]\n",
        "y_train, y_test = y[:train_size], y[train_size:]\n",
        "\n",
        "# MLP 모델 구축\n",
        "model = keras.Sequential([\n",
        "    keras.layers.Dense(96, activation='relu', input_shape=(window_size,)),\n",
        "    keras.layers.Dense(48, activation='relu'),\n",
        "    keras.layers.Dense(1)\n",
        "])\n",
        "\n",
        "# 모델 컴파일\n",
        "model.compile(optimizer='RMSProp', loss='mean_squared_error')"
      ],
      "metadata": {
        "id": "Ks4S01ub20w9"
      },
      "execution_count": null,
      "outputs": []
    },
    {
      "cell_type": "code",
      "source": [
        "model.fit(x_train, y_train, epochs=1000, batch_size=64)\n",
        "\n",
        "# 모델 평가\n",
        "test_loss = model.evaluate(x_test, y_test)\n",
        "print('Test loss:', test_loss)\n",
        "\n",
        "# 다음 값을 예측\n",
        "last_window = df_8['data'].iloc[-window_size:].values\n",
        "next_value = model.predict(np.expand_dims(last_window, axis=0))\n",
        "print('Next value prediction:', next_value)"
      ],
      "metadata": {
        "id": "Gng9IrcP23KC"
      },
      "execution_count": null,
      "outputs": []
    },
    {
      "cell_type": "code",
      "source": [
        "#epochs=1000, batch_size=64)\n",
        "#96/48\n",
        "#Test loss: 0.0018469428177922964\n",
        "#1/1 [==============================] - 0s 93ms/step\n",
        "#Next value prediction: [[0.00898385]]"
      ],
      "metadata": {
        "id": "82wn3WxX26Jj"
      },
      "execution_count": null,
      "outputs": []
    },
    {
      "cell_type": "code",
      "source": [
        "data = df[\"humidity_normalization\"]\n",
        "target = df[\"flow_normalization\"]"
      ],
      "metadata": {
        "id": "p5TvuDcI3nWJ"
      },
      "execution_count": null,
      "outputs": []
    },
    {
      "cell_type": "code",
      "source": [
        "df_8 = pd.DataFrame({'data': data, 'target': target})"
      ],
      "metadata": {
        "id": "GLcyYffw3umg"
      },
      "execution_count": null,
      "outputs": []
    },
    {
      "cell_type": "code",
      "source": [
        "window_size = 10  # 입력 시퀀스의 길이\n",
        "x = []\n",
        "y = []\n",
        "for i in range(len(df) - window_size):\n",
        "    x.append(df_8['data'].iloc[i:i+window_size].values)\n",
        "    y.append(df_8['target'].iloc[i+window_size])\n",
        "x = np.array(x)\n",
        "y = np.array(y)"
      ],
      "metadata": {
        "id": "bym9JRWY3xT7"
      },
      "execution_count": null,
      "outputs": []
    },
    {
      "cell_type": "code",
      "source": [
        "train_size = int(len(x) * 0.8)\n",
        "x_train, x_test = x[:train_size], x[train_size:]\n",
        "y_train, y_test = y[:train_size], y[train_size:]\n",
        "\n",
        "# MLP 모델 구축\n",
        "model = keras.Sequential([\n",
        "    keras.layers.Dense(48, activation='relu', input_shape=(window_size,)),\n",
        "    keras.layers.Dense(24, activation='relu'),\n",
        "    keras.layers.Dense(1)\n",
        "])\n",
        "\n",
        "# 모델 컴파일\n",
        "model.compile(optimizer='RMSProp', loss='mean_squared_error')"
      ],
      "metadata": {
        "id": "HN74CQNT3zzB"
      },
      "execution_count": null,
      "outputs": []
    },
    {
      "cell_type": "code",
      "source": [
        "model.fit(x_train, y_train, epochs=1000, batch_size=64)\n",
        "\n",
        "# 모델 평가\n",
        "test_loss = model.evaluate(x_test, y_test)\n",
        "print('Test loss:', test_loss)\n",
        "\n",
        "# 다음 값을 예측\n",
        "last_window = df_8['data'].iloc[-window_size:].values\n",
        "next_value = model.predict(np.expand_dims(last_window, axis=0))\n",
        "\n",
        "print('Next value prediction:', next_value)"
      ],
      "metadata": {
        "id": "WvkBjj5u33rJ"
      },
      "execution_count": null,
      "outputs": []
    },
    {
      "cell_type": "code",
      "source": [
        "#48/24\n",
        "#epochs=1000, batch_size=64)\n",
        "#Test loss: 0.0017275323625653982\n",
        "#1/1 [==============================] - 0s 69ms/step\n",
        "#Next value prediction: [[0.00827242]]"
      ],
      "metadata": {
        "id": "MBeBMOxK35kR"
      },
      "execution_count": null,
      "outputs": []
    },
    {
      "cell_type": "code",
      "source": [
        "data = df[\"humidity_normalization\"]\n",
        "target = df[\"flow_normalization\"]"
      ],
      "metadata": {
        "id": "_YzpyVIy4lY9"
      },
      "execution_count": null,
      "outputs": []
    },
    {
      "cell_type": "code",
      "source": [
        "df_8 = pd.DataFrame({'data': data, 'target': target})"
      ],
      "metadata": {
        "id": "tJUumGfW4nld"
      },
      "execution_count": null,
      "outputs": []
    },
    {
      "cell_type": "code",
      "source": [
        "window_size = 10  # 입력 시퀀스의 길이\n",
        "x = []\n",
        "y = []\n",
        "for i in range(len(df) - window_size):\n",
        "    x.append(df_8['data'].iloc[i:i+window_size].values)\n",
        "    y.append(df_8['target'].iloc[i+window_size])\n",
        "x = np.array(x)\n",
        "y = np.array(y)"
      ],
      "metadata": {
        "id": "t40QG8lo4pwg"
      },
      "execution_count": null,
      "outputs": []
    },
    {
      "cell_type": "code",
      "source": [
        "train_size = int(len(x) * 0.8)\n",
        "x_train, x_test = x[:train_size], x[train_size:]\n",
        "y_train, y_test = y[:train_size], y[train_size:]\n",
        "\n",
        "# MLP 모델 구축\n",
        "model = keras.Sequential([\n",
        "    keras.layers.Dense(48, activation='relu', input_shape=(window_size,)),\n",
        "    keras.layers.Dense(24, activation='relu'),\n",
        "    keras.layers.Dense(1)\n",
        "])\n",
        "\n",
        "# 모델 컴파일\n",
        "model.compile(optimizer='RMSProp', loss='mean_squared_error')"
      ],
      "metadata": {
        "id": "dIjkiD1Y4rjY"
      },
      "execution_count": null,
      "outputs": []
    },
    {
      "cell_type": "code",
      "source": [
        "model.fit(x_train, y_train, epochs=1000, batch_size=32)\n",
        "\n",
        "# 모델 평가\n",
        "test_loss = model.evaluate(x_test, y_test)\n",
        "print('Test loss:', test_loss)\n",
        "\n",
        "# 다음 값을 예측\n",
        "last_window = df_8['data'].iloc[-window_size:].values\n",
        "next_value = model.predict(np.expand_dims(last_window, axis=0))\n",
        "\n",
        "print('Next value prediction:', next_value)"
      ],
      "metadata": {
        "id": "zGX6FTtm4tpV"
      },
      "execution_count": null,
      "outputs": []
    },
    {
      "cell_type": "code",
      "source": [
        "#48/24\n",
        "#epochs=1000, batch_size=32)\n",
        "#Test loss: 0.002041981788352132\n",
        "#1/1 [==============================] - 0s 76ms/step\n",
        "#Next value prediction: [[0.00998862]]"
      ],
      "metadata": {
        "id": "yjpcUsNf4ydV"
      },
      "execution_count": null,
      "outputs": []
    },
    {
      "cell_type": "code",
      "source": [
        "#표로 정리\n",
        "data = {\n",
        "    '번호' : [1, 2, 3, 4, 5, 6, 7, 8, 9, 10, 11, 12],\n",
        "    'Keras의 Dense 층': ['48/24', '48/24', '96/48', '96/48', '48/24', '48/24', '96/48', '96/48', '48/24', '48/24', '96/48', '96/48'],\n",
        "    '오차': [0.0022740799468010664, 0.002586443442851305, 0.0021875398233532906, 0.0028256792575120926, 0.001968736294656992, 0.0023632191587239504, 0.0017702518962323666, 0.0020167178008705378, 0.0021327785216271877, 0.0018469428177922964, 0.002041981788352132, 0.0017275323625653982],\n",
        "    'Epoch': [200, 200, 200, 200, 500, 500, 500, 500, 1000, 1000, 1000, 1000],\n",
        "    'Next value prediction': [0.01652841, 0.01607266, 0.01277857, 0.00406663, 0.01458428, 0.00542768, 0.01042784, 0.01011825, 0.00376695, 0.00898385, 0.00998862, 0.00827242],\n",
        "    'Batch_size': [64, 32, 64, 32, 64, 32, 32, 64, 32, 64, 32, 64]\n",
        "}\n",
        "\n",
        "df_8 = pd.DataFrame(data, dtype=float)"
      ],
      "metadata": {
        "id": "whti6pcG64A4"
      },
      "execution_count": null,
      "outputs": []
    },
    {
      "cell_type": "code",
      "source": [
        "df_8"
      ],
      "metadata": {
        "id": "QQ1DrE3v9U0D"
      },
      "execution_count": null,
      "outputs": []
    },
    {
      "cell_type": "code",
      "source": [
        "import numpy as np\n",
        "import matplotlib.pyplot as plt\n",
        "x = df_8[\"번호\"]\n",
        "y1 = df_8[\"오차\"]\n",
        "\n",
        "# 그래프 그리기\n",
        "plt.plot(x, y1, label='error')\n",
        "\n",
        "# 그래프 제목, 축 레이블 설정\n",
        "plt.title('What would be the most appropriate?')\n",
        "plt.ylabel('Y-axis')\n",
        "\n",
        "# 그래프 보이기\n",
        "plt.show()\n",
        "\n",
        "#Epoch를 많이 써줄수록 오차가 점점 줄어드는 것을 알 수 있다."
      ],
      "metadata": {
        "id": "ccIdWHWa9WBx"
      },
      "execution_count": null,
      "outputs": []
    },
    {
      "cell_type": "code",
      "source": [],
      "metadata": {
        "id": "k8AE01iH9n4h"
      },
      "execution_count": null,
      "outputs": []
    }
  ]
}