{
  "nbformat": 4,
  "nbformat_minor": 0,
  "metadata": {
    "colab": {
      "private_outputs": true,
      "provenance": [],
      "authorship_tag": "ABX9TyO35ErIaXHpn29/Zw47OQwm",
      "include_colab_link": true
    },
    "kernelspec": {
      "name": "python3",
      "display_name": "Python 3"
    },
    "language_info": {
      "name": "python"
    }
  },
  "cells": [
    {
      "cell_type": "markdown",
      "metadata": {
        "id": "view-in-github",
        "colab_type": "text"
      },
      "source": [
        "<a href=\"https://colab.research.google.com/github/tlsgptj/MLP/blob/MLP3/%ED%92%8D%EB%A0%A5%EB%B0%9C%EC%A0%84_%EB%B0%9C%EC%A0%84%EB%9F%89_%EC%98%88%EC%B8%A1(MLP).ipynb\" target=\"_parent\"><img src=\"https://colab.research.google.com/assets/colab-badge.svg\" alt=\"Open In Colab\"/></a>"
      ]
    },
    {
      "cell_type": "code",
      "execution_count": null,
      "metadata": {
        "id": "UTW4SzLtjvIv"
      },
      "outputs": [],
      "source": [
        "#풍력발전 데이터 업로드\n",
        "import pandas as pd"
      ]
    },
    {
      "cell_type": "code",
      "source": [
        "df = pd.read_csv(\"풍력발전.csv\", encoding=\"cp949\")"
      ],
      "metadata": {
        "id": "YwD72HMCj3t6"
      },
      "execution_count": null,
      "outputs": []
    },
    {
      "cell_type": "code",
      "source": [
        "df"
      ],
      "metadata": {
        "id": "3SbR403jk7DG"
      },
      "execution_count": null,
      "outputs": []
    },
    {
      "cell_type": "code",
      "source": [
        "df = df.drop(columns = [\"발전기코드\", \"발전기명\", \"설비용량(MW)\", \"풍향(16방위)\"])"
      ],
      "metadata": {
        "id": "iHWYysVak74S"
      },
      "execution_count": null,
      "outputs": []
    },
    {
      "cell_type": "code",
      "source": [
        "df"
      ],
      "metadata": {
        "id": "GLEpCCEjG6Ng"
      },
      "execution_count": null,
      "outputs": []
    },
    {
      "cell_type": "code",
      "source": [
        "import matplotlib.pyplot as plt"
      ],
      "metadata": {
        "id": "XdLngdZCHeOL"
      },
      "execution_count": null,
      "outputs": []
    },
    {
      "cell_type": "code",
      "source": [
        "#matplotlib 라이브러리를 활용하여 발전량을 파악해본다.\n",
        "#파악하기 전, 풍력발전 데이터를 시간이 아닌 일별 평균으로 만들어준다.\n",
        "# 데이터를 묶을 크기 설정\n",
        "chunk_size = 24  # 묶을 크기를 원하는 값으로 변경하세요\n",
        "\n",
        "# 묶은 데이터의 평균 계산\n",
        "df_averge = df.groupby(df.index // chunk_size).mean()\n",
        "\n",
        "# 결과 출력\n",
        "print(df_averge)"
      ],
      "metadata": {
        "id": "k1lscGbgHiiO"
      },
      "execution_count": null,
      "outputs": []
    },
    {
      "cell_type": "code",
      "source": [
        "df_averge\n",
        "#이런식으로 1시간 단위였던 발전량과 풍속, 풍향이 1일 평균으로 되었다. 여기서 시간은 필요없으니 삭제\n",
        "df_averge = df_averge.drop(columns = [\"시간\"])"
      ],
      "metadata": {
        "id": "0dWrlcFiacrD"
      },
      "execution_count": null,
      "outputs": []
    },
    {
      "cell_type": "code",
      "source": [
        "df_averge"
      ],
      "metadata": {
        "id": "5RMmvm_GbgU5"
      },
      "execution_count": null,
      "outputs": []
    },
    {
      "cell_type": "code",
      "source": [
        "#그렇다면 이제 거래일, 발전량, 풍속, 풍향을 비교하여 발전량이 어떻게 변화하는지 알아보겠다.\n",
        "x=df_averge[\"풍속(m/s)\"]\n",
        "y1=df_averge[\"발전량(MWh)\"]\n",
        "\n",
        "# 그래프 그리기\n",
        "plt.scatter(x, y1, label='generate')\n",
        "\n",
        "# 그래프 제목, 축 레이블 설정\n",
        "plt.title('Comparison of power generation according to wind speed')\n",
        "plt.xlabel('X-axis')\n",
        "plt.ylabel('Y-axis')\n",
        "\n",
        "# 범례(legend) 표시\n",
        "plt.legend()\n",
        "\n",
        "# 그래프 보이기\n",
        "plt.xticks(pd.date_range(start=x.min(), end=x.max(), freq='1H'), rotation=45)\n",
        "plt.show()\n",
        "\n",
        "#풍속에 따른 발전량을 비교해보니 풍속이 증가하면 발전량도 증가하는 1차함수 느낌의 그래프가 만들어졌다."
      ],
      "metadata": {
        "id": "dchuX4Kdb5Co"
      },
      "execution_count": null,
      "outputs": []
    },
    {
      "cell_type": "code",
      "source": [
        "x=df_averge[\"풍향\"]\n",
        "y1=df_averge[\"발전량(MWh)\"]\n",
        "\n",
        "# 그래프 그리기\n",
        "plt.scatter(x, y1, label='generate')\n",
        "\n",
        "# 그래프 제목, 축 레이블 설정\n",
        "plt.title('Comparison of power generation according to wind Derection')\n",
        "plt.xlabel('X-axis')\n",
        "plt.ylabel('Y-axis')\n",
        "\n",
        "# 범례(legend) 표시\n",
        "plt.legend()\n",
        "\n",
        "# 그래프 보이기\n",
        "plt.xticks(pd.date_range(start=x.min(), end=x.max(), freq='1H'), rotation=45)\n",
        "plt.show()\n",
        "\n",
        "#그래프가 중구난방인것을 보니 풍향에 따른 발전량은 서로 관련이 없어 보인다."
      ],
      "metadata": {
        "id": "tRzFJWwhcXnA"
      },
      "execution_count": null,
      "outputs": []
    },
    {
      "cell_type": "code",
      "source": [
        "#거래일 정규화\n",
        "df_averge[\"거래일\"] = df_averge[\"거래일\"].astype(float)/abs(df_averge[\"거래일\"].astype(float).max())\n",
        "df_averge[\"거래일\"].head()"
      ],
      "metadata": {
        "id": "T-a-CRszfGdL"
      },
      "execution_count": null,
      "outputs": []
    },
    {
      "cell_type": "code",
      "source": [
        "#발전량 정규화\n",
        "df_averge[\"발전량(MWh)\"] = df_averge[\"발전량(MWh)\"].astype(float)/abs(df_averge[\"발전량(MWh)\"].astype(float).max())\n",
        "df_averge[\"발전량(MWh)\"].head()"
      ],
      "metadata": {
        "id": "6QLKV7-CfVEm"
      },
      "execution_count": null,
      "outputs": []
    },
    {
      "cell_type": "code",
      "source": [
        "#풍속 정규화\n",
        "df_averge[\"풍속(m/s)\"] = df_averge[\"풍속(m/s)\"].astype(float)/abs(df_averge[\"풍속(m/s)\"].astype(float).max())\n",
        "df_averge[\"풍속(m/s)\"].head()"
      ],
      "metadata": {
        "id": "r079qS42f0mW"
      },
      "execution_count": null,
      "outputs": []
    },
    {
      "cell_type": "code",
      "source": [
        "#풍향 정규화\n",
        "df_averge[\"풍향\"] = df_averge[\"풍향\"].astype(float)/abs(df_averge[\"풍향\"].astype(float).max())\n",
        "df_averge[\"풍향\"].head()"
      ],
      "metadata": {
        "id": "PiHNdHiygFL0"
      },
      "execution_count": null,
      "outputs": []
    },
    {
      "cell_type": "code",
      "source": [
        "x=df_averge[\"발전량(MWh)\"]\n",
        "y1=df_averge[\"풍향\"]\n",
        "y2=df_averge[\"풍속(m/s)\"]\n",
        "# 그래프 그리기\n",
        "plt.scatter(x, y1, label='wind direction')\n",
        "plt.scatter(x, y2, label='wind speed')\n",
        "\n",
        "# 그래프 제목, 축 레이블 설정\n",
        "plt.title('Comparison of power generation according to wind speed, wind direction')\n",
        "plt.xlabel('X-axis')\n",
        "plt.ylabel('Y-axis')\n",
        "\n",
        "# 범례(legend) 표시\n",
        "plt.legend()\n",
        "\n",
        "# 그래프 보이기\n",
        "plt.xticks(pd.date_range(start=x.min(), end=x.max(), freq='1H'), rotation=45)\n",
        "plt.show()\n",
        "\n",
        "#거래일과 발전량은 정규화를 시켜주었다."
      ],
      "metadata": {
        "id": "ynlyLwRGehhB"
      },
      "execution_count": null,
      "outputs": []
    },
    {
      "cell_type": "code",
      "source": [
        "#여러번의 비교를 통해 풍속에 따른 발전량을 예측해보는 프로토타입 앱을 제작해보기로 했다.\n",
        "#예측은 MLP의 여러가지의 것들로 사용해보았다.\n",
        "#첫 번째는 가장 많이 사용되는 adam을 사용했다.\n",
        "data = df_averge[\"풍속(m/s)\"]\n",
        "target = df_averge[\"발전량(MWh)\"]"
      ],
      "metadata": {
        "id": "y8kyzJJae9vM"
      },
      "execution_count": null,
      "outputs": []
    },
    {
      "cell_type": "code",
      "source": [
        "df_1 = pd.DataFrame({'data': data, 'target': target})"
      ],
      "metadata": {
        "id": "CNx7kOcqhBXc"
      },
      "execution_count": null,
      "outputs": []
    },
    {
      "cell_type": "code",
      "source": [
        "import numpy as np\n",
        "\n",
        "window_size = 10  # 입력 시퀀스의 길이\n",
        "x = []\n",
        "y = []\n",
        "\n",
        "for i in range(len(df) - window_size):\n",
        "    # 데이터 프레임의 인덱스 범위를 벗어나면 스킵\n",
        "    if i+window_size >= len(df_1):\n",
        "        continue\n",
        "\n",
        "    x.append(df_1['data'].iloc[i:i+window_size].values)\n",
        "    y.append(df_1['target'].iloc[i+window_size])\n",
        "\n",
        "x = np.array(x)\n",
        "y = np.array(y)"
      ],
      "metadata": {
        "id": "AcdzllLkhZbK"
      },
      "execution_count": null,
      "outputs": []
    },
    {
      "cell_type": "code",
      "source": [
        "import numpy as np\n",
        "import pandas as pd\n",
        "import tensorflow as tf\n",
        "from tensorflow import keras\n",
        "train_size = int(len(x) * 0.8)\n",
        "x_train, x_test = x[:train_size], x[train_size:]\n",
        "y_train, y_test = y[:train_size], y[train_size:]\n",
        "\n",
        "# MLP 모델 구축\n",
        "model = keras.Sequential([\n",
        "    keras.layers.Dense(32, activation='relu', input_shape=(window_size,)),\n",
        "    keras.layers.Dense(16, activation='relu'),\n",
        "    keras.layers.Dense(1)\n",
        "])\n",
        "\n",
        "# 모델 컴파일\n",
        "model.compile(optimizer='adam', loss='mean_squared_error')"
      ],
      "metadata": {
        "id": "QDLXEZZFiBWX"
      },
      "execution_count": null,
      "outputs": []
    },
    {
      "cell_type": "code",
      "source": [
        "# 모델 훈련\n",
        "model.fit(x_train, y_train, epochs=150, batch_size=64)\n",
        "\n",
        "# 모델 평가\n",
        "test_loss = model.evaluate(x_test, y_test)\n",
        "print('Test loss:', test_loss)\n",
        "\n",
        "# 다음 값을 예측\n",
        "last_window = df_1['data'].iloc[-window_size:].values\n",
        "next_value = model.predict(np.expand_dims(last_window, axis=0))\n",
        "print('Next value prediction:', next_value)"
      ],
      "metadata": {
        "id": "vPvmOp1XiTTb"
      },
      "execution_count": null,
      "outputs": []
    },
    {
      "cell_type": "code",
      "source": [
        "#Test loss: 0.03709577023983002\n",
        "#1/1 [==============================] - 0s 159ms/step\n",
        "#Next value prediction: [[0.42929763]]"
      ],
      "metadata": {
        "id": "V2JTFLTBiYPi"
      },
      "execution_count": null,
      "outputs": []
    },
    {
      "cell_type": "code",
      "source": [
        "data = df_averge[\"풍속(m/s)\"]\n",
        "target = df_averge[\"발전량(MWh)\"]"
      ],
      "metadata": {
        "id": "tBOeCUSRihWL"
      },
      "execution_count": null,
      "outputs": []
    },
    {
      "cell_type": "code",
      "source": [
        "df_1 = pd.DataFrame({'data': data, 'target': target})"
      ],
      "metadata": {
        "id": "9tb6qscFihOY"
      },
      "execution_count": null,
      "outputs": []
    },
    {
      "cell_type": "code",
      "source": [
        "import numpy as np\n",
        "\n",
        "window_size = 10  # 입력 시퀀스의 길이\n",
        "x = []\n",
        "y = []\n",
        "\n",
        "for i in range(len(df) - window_size):\n",
        "    # 데이터 프레임의 인덱스 범위를 벗어나면 스킵\n",
        "    if i+window_size >= len(df_1):\n",
        "        continue\n",
        "\n",
        "    x.append(df_1['data'].iloc[i:i+window_size].values)\n",
        "    y.append(df_1['target'].iloc[i+window_size])\n",
        "\n",
        "x = np.array(x)\n",
        "y = np.array(y)"
      ],
      "metadata": {
        "id": "TmlM_-zdinIy"
      },
      "execution_count": null,
      "outputs": []
    },
    {
      "cell_type": "code",
      "source": [
        "import numpy as np\n",
        "import pandas as pd\n",
        "import tensorflow as tf\n",
        "from tensorflow import keras\n",
        "train_size = int(len(x) * 0.8)\n",
        "x_train, x_test = x[:train_size], x[train_size:]\n",
        "y_train, y_test = y[:train_size], y[train_size:]\n",
        "\n",
        "# MLP 모델 구축\n",
        "model = keras.Sequential([\n",
        "    keras.layers.Dense(32, activation='relu', input_shape=(window_size,)),\n",
        "    keras.layers.Dense(16, activation='relu'),\n",
        "    keras.layers.Dense(1)\n",
        "])\n",
        "\n",
        "# 모델 컴파일\n",
        "model.compile(optimizer='RMSProp', loss='mean_squared_error')"
      ],
      "metadata": {
        "id": "LETI_DQjip3j"
      },
      "execution_count": null,
      "outputs": []
    },
    {
      "cell_type": "code",
      "source": [
        "# 모델 훈련\n",
        "model.fit(x_train, y_train, epochs=150, batch_size=64)\n",
        "\n",
        "# 모델 평가\n",
        "test_loss = model.evaluate(x_test, y_test)\n",
        "print('Test loss:', test_loss)\n",
        "\n",
        "# 다음 값을 예측\n",
        "last_window = df_1['data'].iloc[-window_size:].values\n",
        "next_value = model.predict(np.expand_dims(last_window, axis=0))\n",
        "print('Next value prediction:', next_value)"
      ],
      "metadata": {
        "id": "y_qMTUXgi0tQ"
      },
      "execution_count": null,
      "outputs": []
    },
    {
      "cell_type": "code",
      "source": [
        "#Test loss: 0.03861237317323685\n",
        "#1/1 [==============================] - 0s 103ms/step\n",
        "#Next value prediction: [[0.38661167]]"
      ],
      "metadata": {
        "id": "uzHPICr4i4iV"
      },
      "execution_count": null,
      "outputs": []
    },
    {
      "cell_type": "code",
      "source": [
        "data = df_averge[\"풍속(m/s)\"]\n",
        "target = df_averge[\"발전량(MWh)\"]"
      ],
      "metadata": {
        "id": "wNrAkDDUjISF"
      },
      "execution_count": null,
      "outputs": []
    },
    {
      "cell_type": "code",
      "source": [
        "df_1 = pd.DataFrame({'data': data, 'target': target})"
      ],
      "metadata": {
        "id": "_iSP-xB3jKwo"
      },
      "execution_count": null,
      "outputs": []
    },
    {
      "cell_type": "code",
      "source": [
        "import numpy as np\n",
        "\n",
        "window_size = 10  # 입력 시퀀스의 길이\n",
        "x = []\n",
        "y = []\n",
        "\n",
        "for i in range(len(df) - window_size):\n",
        "    # 데이터 프레임의 인덱스 범위를 벗어나면 스킵\n",
        "    if i+window_size >= len(df_1):\n",
        "        continue\n",
        "\n",
        "    x.append(df_1['data'].iloc[i:i+window_size].values)\n",
        "    y.append(df_1['target'].iloc[i+window_size])\n",
        "\n",
        "x = np.array(x)\n",
        "y = np.array(y)"
      ],
      "metadata": {
        "id": "0344qIebjNqM"
      },
      "execution_count": null,
      "outputs": []
    },
    {
      "cell_type": "code",
      "source": [
        "import numpy as np\n",
        "import pandas as pd\n",
        "import tensorflow as tf\n",
        "from tensorflow import keras\n",
        "train_size = int(len(x) * 0.8)\n",
        "x_train, x_test = x[:train_size], x[train_size:]\n",
        "y_train, y_test = y[:train_size], y[train_size:]\n",
        "\n",
        "# MLP 모델 구축\n",
        "model = keras.Sequential([\n",
        "    keras.layers.Dense(32, activation='relu', input_shape=(window_size,)),\n",
        "    keras.layers.Dense(16, activation='relu'),\n",
        "    keras.layers.Dense(1)\n",
        "])\n",
        "\n",
        "# 모델 컴파일\n",
        "model.compile(optimizer='Adagrad', loss='mean_squared_error')"
      ],
      "metadata": {
        "id": "liTisrFUjQiP"
      },
      "execution_count": null,
      "outputs": []
    },
    {
      "cell_type": "code",
      "source": [
        "# 모델 훈련\n",
        "model.fit(x_train, y_train, epochs=150, batch_size=64)\n",
        "\n",
        "# 모델 평가\n",
        "test_loss = model.evaluate(x_test, y_test)\n",
        "print('Test loss:', test_loss)\n",
        "\n",
        "# 다음 값을 예측\n",
        "last_window = df_1['data'].iloc[-window_size:].values\n",
        "next_value = model.predict(np.expand_dims(last_window, axis=0))\n",
        "print('Next value prediction:', next_value)"
      ],
      "metadata": {
        "id": "F8BxSeJkjWCV"
      },
      "execution_count": null,
      "outputs": []
    },
    {
      "cell_type": "code",
      "source": [
        "#Adagrad\n",
        "#Test loss: 0.03483494371175766\n",
        "#1/1 [==============================] - 0s 65ms/step\n",
        "#Next value prediction: [[0.2286938]]"
      ],
      "metadata": {
        "id": "76x1mXUvjZTi"
      },
      "execution_count": null,
      "outputs": []
    },
    {
      "cell_type": "code",
      "source": [
        "data = df_averge[\"풍속(m/s)\"]\n",
        "target = df_averge[\"발전량(MWh)\"]"
      ],
      "metadata": {
        "id": "IdsDUplyjjSX"
      },
      "execution_count": null,
      "outputs": []
    },
    {
      "cell_type": "code",
      "source": [
        "df_1 = pd.DataFrame({'data': data, 'target': target})"
      ],
      "metadata": {
        "id": "I4i_oa5ejlpg"
      },
      "execution_count": null,
      "outputs": []
    },
    {
      "cell_type": "code",
      "source": [
        "import numpy as np\n",
        "\n",
        "window_size = 10  # 입력 시퀀스의 길이\n",
        "x = []\n",
        "y = []\n",
        "\n",
        "for i in range(len(df) - window_size):\n",
        "    # 데이터 프레임의 인덱스 범위를 벗어나면 스킵\n",
        "    if i+window_size >= len(df_1):\n",
        "        continue\n",
        "\n",
        "    x.append(df_1['data'].iloc[i:i+window_size].values)\n",
        "    y.append(df_1['target'].iloc[i+window_size])\n",
        "\n",
        "x = np.array(x)\n",
        "y = np.array(y)"
      ],
      "metadata": {
        "id": "9Z4ilBL3joqf"
      },
      "execution_count": null,
      "outputs": []
    },
    {
      "cell_type": "code",
      "source": [
        "import numpy as np\n",
        "import pandas as pd\n",
        "import tensorflow as tf\n",
        "from tensorflow import keras\n",
        "train_size = int(len(x) * 0.8)\n",
        "x_train, x_test = x[:train_size], x[train_size:]\n",
        "y_train, y_test = y[:train_size], y[train_size:]\n",
        "\n",
        "# MLP 모델 구축\n",
        "model = keras.Sequential([\n",
        "    keras.layers.Dense(32, activation='relu', input_shape=(window_size,)),\n",
        "    keras.layers.Dense(16, activation='relu'),\n",
        "    keras.layers.Dense(1)\n",
        "])\n",
        "\n",
        "# 모델 컴파일\n",
        "model.compile(optimizer='AdaDelta', loss='mean_squared_error')"
      ],
      "metadata": {
        "id": "ExpqZif4jrfJ"
      },
      "execution_count": null,
      "outputs": []
    },
    {
      "cell_type": "code",
      "source": [
        "# 모델 훈련\n",
        "model.fit(x_train, y_train, epochs=150, batch_size=64)\n",
        "\n",
        "# 모델 평가\n",
        "test_loss = model.evaluate(x_test, y_test)\n",
        "print('Test loss:', test_loss)\n",
        "\n",
        "# 다음 값을 예측\n",
        "last_window = df_1['data'].iloc[-window_size:].values\n",
        "next_value = model.predict(np.expand_dims(last_window, axis=0))\n",
        "print('Next value prediction:', next_value)"
      ],
      "metadata": {
        "id": "5kk5NJ5ojwgR"
      },
      "execution_count": null,
      "outputs": []
    },
    {
      "cell_type": "code",
      "source": [
        "#Adadelta\n",
        "#Test loss: 0.05127893388271332\n",
        "#1/1 [==============================] - 0s 86ms/step\n",
        "#Next value prediction: [[0.23875901]]"
      ],
      "metadata": {
        "id": "13hQcUpDjy0I"
      },
      "execution_count": null,
      "outputs": []
    },
    {
      "cell_type": "code",
      "source": [
        "data = df_averge[\"풍속(m/s)\"]\n",
        "target = df_averge[\"발전량(MWh)\"]"
      ],
      "metadata": {
        "id": "DWLdT-okj5-i"
      },
      "execution_count": null,
      "outputs": []
    },
    {
      "cell_type": "code",
      "source": [
        "df_1 = pd.DataFrame({'data': data, 'target': target})"
      ],
      "metadata": {
        "id": "_mWpzGyVj_Gl"
      },
      "execution_count": null,
      "outputs": []
    },
    {
      "cell_type": "code",
      "source": [
        "import numpy as np\n",
        "\n",
        "window_size = 10  # 입력 시퀀스의 길이\n",
        "x = []\n",
        "y = []\n",
        "\n",
        "for i in range(len(df) - window_size):\n",
        "    # 데이터 프레임의 인덱스 범위를 벗어나면 스킵\n",
        "    if i+window_size >= len(df_1):\n",
        "        continue\n",
        "\n",
        "    x.append(df_1['data'].iloc[i:i+window_size].values)\n",
        "    y.append(df_1['target'].iloc[i+window_size])\n",
        "\n",
        "x = np.array(x)\n",
        "y = np.array(y)"
      ],
      "metadata": {
        "id": "Lpz8HRiMkBZJ"
      },
      "execution_count": null,
      "outputs": []
    },
    {
      "cell_type": "code",
      "source": [
        "import numpy as np\n",
        "import pandas as pd\n",
        "import tensorflow as tf\n",
        "from tensorflow import keras\n",
        "train_size = int(len(x) * 0.8)\n",
        "x_train, x_test = x[:train_size], x[train_size:]\n",
        "y_train, y_test = y[:train_size], y[train_size:]\n",
        "\n",
        "# MLP 모델 구축\n",
        "model = keras.Sequential([\n",
        "    keras.layers.Dense(32, activation='relu', input_shape=(window_size,)),\n",
        "    keras.layers.Dense(16, activation='relu'),\n",
        "    keras.layers.Dense(1)\n",
        "])\n",
        "\n",
        "# 모델 컴파일\n",
        "model.compile(optimizer='Nadam', loss='mean_squared_error')"
      ],
      "metadata": {
        "id": "5BOQJXK9kD5f"
      },
      "execution_count": null,
      "outputs": []
    },
    {
      "cell_type": "code",
      "source": [
        "# 모델 훈련\n",
        "model.fit(x_train, y_train, epochs=150, batch_size=64)\n",
        "\n",
        "# 모델 평가\n",
        "test_loss = model.evaluate(x_test, y_test)\n",
        "print('Test loss:', test_loss)\n",
        "\n",
        "# 다음 값을 예측\n",
        "last_window = df_1['data'].iloc[-window_size:].values\n",
        "next_value = model.predict(np.expand_dims(last_window, axis=0))\n",
        "print('Next value prediction:', next_value)"
      ],
      "metadata": {
        "id": "BpQYuWAykJxE"
      },
      "execution_count": null,
      "outputs": []
    },
    {
      "cell_type": "code",
      "source": [
        "#Nadam\n",
        "#Test loss: 0.04514951631426811\n",
        "#1/1 [==============================] - 0s 62ms/step\n",
        "#Next value prediction: [[0.27894822]]"
      ],
      "metadata": {
        "id": "_K38lL2tkM-R"
      },
      "execution_count": null,
      "outputs": []
    },
    {
      "cell_type": "code",
      "source": [
        "data = df_averge[\"풍속(m/s)\"]\n",
        "target = df_averge[\"발전량(MWh)\"]"
      ],
      "metadata": {
        "id": "pKFo-7vikXIi"
      },
      "execution_count": null,
      "outputs": []
    },
    {
      "cell_type": "code",
      "source": [
        "df_1 = pd.DataFrame({'data': data, 'target': target})"
      ],
      "metadata": {
        "id": "hoM19eCYkZvR"
      },
      "execution_count": null,
      "outputs": []
    },
    {
      "cell_type": "code",
      "source": [
        "import numpy as np\n",
        "\n",
        "window_size = 10  # 입력 시퀀스의 길이\n",
        "x = []\n",
        "y = []\n",
        "\n",
        "for i in range(len(df) - window_size):\n",
        "    # 데이터 프레임의 인덱스 범위를 벗어나면 스킵\n",
        "    if i+window_size >= len(df_1):\n",
        "        continue\n",
        "\n",
        "    x.append(df_1['data'].iloc[i:i+window_size].values)\n",
        "    y.append(df_1['target'].iloc[i+window_size])\n",
        "\n",
        "x = np.array(x)\n",
        "y = np.array(y)"
      ],
      "metadata": {
        "id": "Nd8GeWSqkbzz"
      },
      "execution_count": null,
      "outputs": []
    },
    {
      "cell_type": "code",
      "source": [
        "import numpy as np\n",
        "import pandas as pd\n",
        "import tensorflow as tf\n",
        "from tensorflow import keras\n",
        "train_size = int(len(x) * 0.8)\n",
        "x_train, x_test = x[:train_size], x[train_size:]\n",
        "y_train, y_test = y[:train_size], y[train_size:]\n",
        "\n",
        "# MLP 모델 구축\n",
        "model = keras.Sequential([\n",
        "    keras.layers.Dense(32, activation='relu', input_shape=(window_size,)),\n",
        "    keras.layers.Dense(16, activation='relu'),\n",
        "    keras.layers.Dense(1)\n",
        "])\n",
        "\n",
        "# 모델 컴파일\n",
        "model.compile(optimizer='SGD', loss='mean_squared_error')"
      ],
      "metadata": {
        "id": "5YZZ30cJkeLU"
      },
      "execution_count": null,
      "outputs": []
    },
    {
      "cell_type": "code",
      "source": [
        "# 모델 훈련\n",
        "model.fit(x_train, y_train, epochs=150, batch_size=64)\n",
        "\n",
        "# 모델 평가\n",
        "test_loss = model.evaluate(x_test, y_test)\n",
        "print('Test loss:', test_loss)\n",
        "\n",
        "# 다음 값을 예측\n",
        "last_window = df_1['data'].iloc[-window_size:].values\n",
        "next_value = model.predict(np.expand_dims(last_window, axis=0))\n",
        "print('Next value prediction:', next_value)"
      ],
      "metadata": {
        "id": "KoaV1WTakh-h"
      },
      "execution_count": null,
      "outputs": []
    },
    {
      "cell_type": "code",
      "source": [
        "#SGD\n",
        "#Test loss: 0.03544986620545387\n",
        "#WARNING:tensorflow:6 out of the last 6 calls to <function Model.make_predict_function.<locals>.predict_function at 0x7f95d7118280> triggered tf.function retracing. Tracing is expensive and the excessive number of tracings could be due to (1) creating @tf.function repeatedly in a loop, (2) passing tensors with different shapes, (3) passing Python objects instead of tensors. For (1), please define your @tf.function outside of the loop. For (2), @tf.function has reduce_retracing=True option that can avoid unnecessary retracing. For (3), please refer to https://www.tensorflow.org/guide/function#controlling_retracing and https://www.tensorflow.org/api_docs/python/tf/function for  more details.\n",
        "#1/1 [==============================] - 0s 63ms/step\n",
        "#Next value prediction: [[0.313902]]"
      ],
      "metadata": {
        "id": "U_Ayd1pXkkRk"
      },
      "execution_count": null,
      "outputs": []
    },
    {
      "cell_type": "code",
      "source": [
        "data = df_averge[\"풍속(m/s)\"]\n",
        "target = df_averge[\"발전량(MWh)\"]"
      ],
      "metadata": {
        "id": "7tknPHzVlpM5"
      },
      "execution_count": null,
      "outputs": []
    },
    {
      "cell_type": "code",
      "source": [
        "df_1 = pd.DataFrame({'data': data, 'target': target})"
      ],
      "metadata": {
        "id": "m0Rp7yfClsjL"
      },
      "execution_count": null,
      "outputs": []
    },
    {
      "cell_type": "code",
      "source": [
        "import numpy as np\n",
        "\n",
        "window_size = 10  # 입력 시퀀스의 길이\n",
        "x = []\n",
        "y = []\n",
        "\n",
        "for i in range(len(df) - window_size):\n",
        "    # 데이터 프레임의 인덱스 범위를 벗어나면 스킵\n",
        "    if i+window_size >= len(df_1):\n",
        "        continue\n",
        "\n",
        "    x.append(df_1['data'].iloc[i:i+window_size].values)\n",
        "    y.append(df_1['target'].iloc[i+window_size])\n",
        "\n",
        "x = np.array(x)\n",
        "y = np.array(y)"
      ],
      "metadata": {
        "id": "nzpoLROVlvZm"
      },
      "execution_count": null,
      "outputs": []
    },
    {
      "cell_type": "code",
      "source": [
        "import numpy as np\n",
        "import pandas as pd\n",
        "import tensorflow as tf\n",
        "from tensorflow import keras\n",
        "train_size = int(len(x) * 0.8)\n",
        "x_train, x_test = x[:train_size], x[train_size:]\n",
        "y_train, y_test = y[:train_size], y[train_size:]\n",
        "\n",
        "# MLP 모델 구축\n",
        "model = keras.Sequential([\n",
        "    keras.layers.Dense(32, activation='relu', input_shape=(window_size,)),\n",
        "    keras.layers.Dense(16, activation='relu'),\n",
        "    keras.layers.Dense(1)\n",
        "])\n",
        "\n",
        "# 모델 컴파일\n",
        "model.compile(optimizer='Adamax', loss='mean_squared_error')"
      ],
      "metadata": {
        "id": "9xKYsVH1lyV_"
      },
      "execution_count": null,
      "outputs": []
    },
    {
      "cell_type": "code",
      "source": [
        "# 모델 훈련\n",
        "model.fit(x_train, y_train, epochs=150, batch_size=64)\n",
        "\n",
        "# 모델 평가\n",
        "test_loss = model.evaluate(x_test, y_test)\n",
        "print('Test loss:', test_loss)\n",
        "\n",
        "# 다음 값을 예측\n",
        "last_window = df_1['data'].iloc[-window_size:].values\n",
        "next_value = model.predict(np.expand_dims(last_window, axis=0))\n",
        "print('Next value prediction:', next_value)"
      ],
      "metadata": {
        "id": "R_wVieOyl9OK"
      },
      "execution_count": null,
      "outputs": []
    },
    {
      "cell_type": "code",
      "source": [
        "#표로 만들어 가장 오차가 적은 것을 분석해보았다.\n",
        "#분석내용 표로 도출\n",
        "data = {\n",
        "    'Optimizer': ['adam', 'SGD', 'RMSprop', 'Adagrad', 'Adadelta', 'Adamax', 'Nadam'],\n",
        "    '오차': [0.03709577023983002, 0.03544986620545387, 0.03861237317323685, 0.03483494371175766, 0.05127893388271332, 0.034454286098480225, 0.04514951631426811],\n",
        "    'Epoch': [150, 150, 150, 150, 150, 150, 150],\n",
        "    'Next value prediction': [0.23875901, 0.313902, 0.38661167, 0.2286938, 0.23875901, 0.35163516, 0.27894822, ]\n",
        "}\n",
        "\n",
        "df_7 = pd.DataFrame(data, dtype=float)"
      ],
      "metadata": {
        "id": "JCMjAraAk4UL"
      },
      "execution_count": null,
      "outputs": []
    },
    {
      "cell_type": "code",
      "source": [
        "df_7"
      ],
      "metadata": {
        "id": "g58locIHm6Yv"
      },
      "execution_count": null,
      "outputs": []
    },
    {
      "cell_type": "code",
      "source": [
        "#이것을 그래프로 시각화 해보겠다.\n",
        "x=df_7[\"Optimizer\"]\n",
        "y1=df_7[\"오차\"]\n",
        "\n",
        "# 그래프 그리기\n",
        "plt.plot(x, y1, label='error')\n",
        "\n",
        "# 그래프 제목, 축 레이블 설정\n",
        "plt.title('What would be the most appropriate?')\n",
        "plt.xlabel('X-axis')\n",
        "plt.ylabel('Y-axis')\n",
        "\n",
        "# 범례(legend) 표시\n",
        "plt.legend()\n",
        "\n",
        "# 그래프 보이기\n",
        "plt.show()\n",
        "\n",
        "#오차를 살펴보니, adadelta가 가장 오차가 높았고, Adamax가 가장 오차가 적었다.\n",
        "#Adamax를 통해 Epoch등 비교를 해보기로 했다."
      ],
      "metadata": {
        "id": "FM8PYNOanlt1"
      },
      "execution_count": null,
      "outputs": []
    },
    {
      "cell_type": "code",
      "source": [
        "data = df_averge[\"풍속(m/s)\"]\n",
        "target = df_averge[\"발전량(MWh)\"]"
      ],
      "metadata": {
        "id": "85TwradOoASb"
      },
      "execution_count": null,
      "outputs": []
    },
    {
      "cell_type": "code",
      "source": [
        "df_1 = pd.DataFrame({'data': data, 'target': target})"
      ],
      "metadata": {
        "id": "c6C6ccSMof-E"
      },
      "execution_count": null,
      "outputs": []
    },
    {
      "cell_type": "code",
      "source": [
        "import numpy as np\n",
        "\n",
        "window_size = 10  # 입력 시퀀스의 길이\n",
        "x = []\n",
        "y = []\n",
        "\n",
        "for i in range(len(df) - window_size):\n",
        "    # 데이터 프레임의 인덱스 범위를 벗어나면 스킵\n",
        "    if i+window_size >= len(df_1):\n",
        "        continue\n",
        "\n",
        "    x.append(df_1['data'].iloc[i:i+window_size].values)\n",
        "    y.append(df_1['target'].iloc[i+window_size])\n",
        "\n",
        "x = np.array(x)\n",
        "y = np.array(y)"
      ],
      "metadata": {
        "id": "lUhMBQOGoi5o"
      },
      "execution_count": null,
      "outputs": []
    },
    {
      "cell_type": "code",
      "source": [
        "import numpy as np\n",
        "import pandas as pd\n",
        "import tensorflow as tf\n",
        "from tensorflow import keras\n",
        "train_size = int(len(x) * 0.8)\n",
        "x_train, x_test = x[:train_size], x[train_size:]\n",
        "y_train, y_test = y[:train_size], y[train_size:]\n",
        "\n",
        "# MLP 모델 구축\n",
        "model = keras.Sequential([\n",
        "    keras.layers.Dense(48, activation='relu', input_shape=(window_size,)),\n",
        "    keras.layers.Dense(24, activation='relu'),\n",
        "    keras.layers.Dense(1)\n",
        "])\n",
        "\n",
        "# 모델 컴파일\n",
        "model.compile(optimizer='Adamax', loss='mean_squared_error')"
      ],
      "metadata": {
        "id": "yfSSBTWMooY_"
      },
      "execution_count": null,
      "outputs": []
    },
    {
      "cell_type": "code",
      "source": [
        "# 모델 훈련\n",
        "model.fit(x_train, y_train, epochs=200, batch_size=32)\n",
        "\n",
        "# 모델 평가\n",
        "test_loss = model.evaluate(x_test, y_test)\n",
        "print('Test loss:', test_loss)\n",
        "\n",
        "# 다음 값을 예측\n",
        "last_window = df_1['data'].iloc[-window_size:].values\n",
        "next_value = model.predict(np.expand_dims(last_window, axis=0))\n",
        "print('Next value prediction:', next_value)"
      ],
      "metadata": {
        "id": "l45e0T9Hoqve"
      },
      "execution_count": null,
      "outputs": []
    },
    {
      "cell_type": "code",
      "source": [
        "model.save('mlp_model.h5')"
      ],
      "metadata": {
        "id": "krSab1XXxVzc"
      },
      "execution_count": null,
      "outputs": []
    },
    {
      "cell_type": "code",
      "source": [
        "#epochs=200, batch_size=32, keras.layers.Dense(48, activation='relu', input_shape=(window_size,)),\n",
        "    #keras.layers.Dense(24\n",
        "#Test loss: 0.037048276513814926\n",
        "#1/1 [==============================] - 0s 64ms/step\n",
        "#Next value prediction: [[0.50455594]]"
      ],
      "metadata": {
        "id": "k_0aI7qOoxq-"
      },
      "execution_count": null,
      "outputs": []
    },
    {
      "cell_type": "code",
      "source": [
        "data = df_averge[\"풍속(m/s)\"]\n",
        "target = df_averge[\"발전량(MWh)\"]"
      ],
      "metadata": {
        "id": "UKvK0hdfpKG6"
      },
      "execution_count": null,
      "outputs": []
    },
    {
      "cell_type": "code",
      "source": [
        "df_1 = pd.DataFrame({'data': data, 'target': target})"
      ],
      "metadata": {
        "id": "tblTvlVKpMlP"
      },
      "execution_count": null,
      "outputs": []
    },
    {
      "cell_type": "code",
      "source": [
        "import numpy as np\n",
        "\n",
        "window_size = 10  # 입력 시퀀스의 길이\n",
        "x = []\n",
        "y = []\n",
        "\n",
        "for i in range(len(df) - window_size):\n",
        "    # 데이터 프레임의 인덱스 범위를 벗어나면 스킵\n",
        "    if i+window_size >= len(df_1):\n",
        "        continue\n",
        "\n",
        "    x.append(df_1['data'].iloc[i:i+window_size].values)\n",
        "    y.append(df_1['target'].iloc[i+window_size])\n",
        "\n",
        "x = np.array(x)\n",
        "y = np.array(y)"
      ],
      "metadata": {
        "id": "0x3CvKWgpO7X"
      },
      "execution_count": null,
      "outputs": []
    },
    {
      "cell_type": "code",
      "source": [
        "import numpy as np\n",
        "import pandas as pd\n",
        "import tensorflow as tf\n",
        "from tensorflow import keras\n",
        "train_size = int(len(x) * 0.8)\n",
        "x_train, x_test = x[:train_size], x[train_size:]\n",
        "y_train, y_test = y[:train_size], y[train_size:]\n",
        "\n",
        "# MLP 모델 구축\n",
        "model = keras.Sequential([\n",
        "    keras.layers.Dense(96, activation='relu', input_shape=(window_size,)),\n",
        "    keras.layers.Dense(48, activation='relu'),\n",
        "    keras.layers.Dense(1)\n",
        "])\n",
        "\n",
        "# 모델 컴파일\n",
        "model.compile(optimizer='Adamax', loss='mean_squared_error')"
      ],
      "metadata": {
        "id": "MqZbRkLdpR-1"
      },
      "execution_count": null,
      "outputs": []
    },
    {
      "cell_type": "code",
      "source": [
        "# 모델 훈련\n",
        "model.fit(x_train, y_train, epochs=200, batch_size=32)\n",
        "\n",
        "# 모델 평가\n",
        "test_loss = model.evaluate(x_test, y_test)\n",
        "print('Test loss:', test_loss)\n",
        "\n",
        "# 다음 값을 예측\n",
        "last_window = df_1['data'].iloc[-window_size:].values\n",
        "next_value = model.predict(np.expand_dims(last_window, axis=0))\n",
        "print('Next value prediction:', next_value)"
      ],
      "metadata": {
        "id": "VMzwmiqRpWd3"
      },
      "execution_count": null,
      "outputs": []
    },
    {
      "cell_type": "code",
      "source": [
        "#keras.layers.Dense(96, activation='relu', input_shape=(window_size,)),\n",
        "    #keras.layers.Dense(48, activation='relu'),\n",
        "#epochs=200, batch_size=32\n",
        "#Test loss: 0.042381808161735535\n",
        "#1/1 [==============================] - 0s 59ms/step\n",
        "#Next value prediction: [[0.48523682]]"
      ],
      "metadata": {
        "id": "uy036i5Tpahv"
      },
      "execution_count": null,
      "outputs": []
    },
    {
      "cell_type": "code",
      "source": [
        "data = df_averge[\"풍속(m/s)\"]\n",
        "target = df_averge[\"발전량(MWh)\"]"
      ],
      "metadata": {
        "id": "lFu7J5zBppsX"
      },
      "execution_count": null,
      "outputs": []
    },
    {
      "cell_type": "code",
      "source": [
        "df_1 = pd.DataFrame({'data': data, 'target': target})"
      ],
      "metadata": {
        "id": "xG9ze41GpxJ2"
      },
      "execution_count": null,
      "outputs": []
    },
    {
      "cell_type": "code",
      "source": [
        "import numpy as np\n",
        "\n",
        "window_size = 10  # 입력 시퀀스의 길이\n",
        "x = []\n",
        "y = []\n",
        "\n",
        "for i in range(len(df) - window_size):\n",
        "    # 데이터 프레임의 인덱스 범위를 벗어나면 스킵\n",
        "    if i+window_size >= len(df_1):\n",
        "        continue\n",
        "\n",
        "    x.append(df_1['data'].iloc[i:i+window_size].values)\n",
        "    y.append(df_1['target'].iloc[i+window_size])\n",
        "\n",
        "x = np.array(x)\n",
        "y = np.array(y)"
      ],
      "metadata": {
        "id": "SHxSkaGGpzZy"
      },
      "execution_count": null,
      "outputs": []
    },
    {
      "cell_type": "code",
      "source": [
        "import numpy as np\n",
        "import pandas as pd\n",
        "import tensorflow as tf\n",
        "from tensorflow import keras\n",
        "train_size = int(len(x) * 0.8)\n",
        "x_train, x_test = x[:train_size], x[train_size:]\n",
        "y_train, y_test = y[:train_size], y[train_size:]\n",
        "\n",
        "# MLP 모델 구축\n",
        "model = keras.Sequential([\n",
        "    keras.layers.Dense(96, activation='relu', input_shape=(window_size,)),\n",
        "    keras.layers.Dense(48, activation='relu'),\n",
        "    keras.layers.Dense(1)\n",
        "])\n",
        "\n",
        "# 모델 컴파일\n",
        "model.compile(optimizer='Adamax', loss='mean_squared_error')"
      ],
      "metadata": {
        "id": "9DwtYBQjp1qh"
      },
      "execution_count": null,
      "outputs": []
    },
    {
      "cell_type": "code",
      "source": [
        "# 모델 훈련\n",
        "model.fit(x_train, y_train, epochs=500, batch_size=64)\n",
        "\n",
        "# 모델 평가\n",
        "test_loss = model.evaluate(x_test, y_test)\n",
        "print('Test loss:', test_loss)\n",
        "\n",
        "# 다음 값을 예측\n",
        "last_window = df_1['data'].iloc[-window_size:].values\n",
        "next_value = model.predict(np.expand_dims(last_window, axis=0))\n",
        "print('Next value prediction:', next_value)"
      ],
      "metadata": {
        "id": "8ynl45njp4tM"
      },
      "execution_count": null,
      "outputs": []
    },
    {
      "cell_type": "code",
      "source": [
        "#keras.layers.Dense(96, activation='relu', input_shape=(window_size,)),\n",
        "    #keras.layers.Dense(48,\n",
        "#epochs=500, batch_size=64\n",
        "#Test loss: 0.04714444652199745\n",
        "#1/1 [==============================] - 0s 70ms/step\n",
        "#Next value prediction: [[0.42497924]]"
      ],
      "metadata": {
        "id": "BEFiMEgWp-Xy"
      },
      "execution_count": null,
      "outputs": []
    },
    {
      "cell_type": "code",
      "source": [
        "data = df_averge[\"풍속(m/s)\"]\n",
        "target = df_averge[\"발전량(MWh)\"]"
      ],
      "metadata": {
        "id": "sB5SphybqVvA"
      },
      "execution_count": null,
      "outputs": []
    },
    {
      "cell_type": "code",
      "source": [
        "df_1 = pd.DataFrame({'data': data, 'target': target})"
      ],
      "metadata": {
        "id": "iiwoZL8TqYdB"
      },
      "execution_count": null,
      "outputs": []
    },
    {
      "cell_type": "code",
      "source": [
        "import numpy as np\n",
        "\n",
        "window_size = 10  # 입력 시퀀스의 길이\n",
        "x = []\n",
        "y = []\n",
        "\n",
        "for i in range(len(df) - window_size):\n",
        "    # 데이터 프레임의 인덱스 범위를 벗어나면 스킵\n",
        "    if i+window_size >= len(df_1):\n",
        "        continue\n",
        "\n",
        "    x.append(df_1['data'].iloc[i:i+window_size].values)\n",
        "    y.append(df_1['target'].iloc[i+window_size])\n",
        "\n",
        "x = np.array(x)\n",
        "y = np.array(y)"
      ],
      "metadata": {
        "id": "u8mfsfP0qa_L"
      },
      "execution_count": null,
      "outputs": []
    },
    {
      "cell_type": "code",
      "source": [
        "import numpy as np\n",
        "import pandas as pd\n",
        "import tensorflow as tf\n",
        "from tensorflow import keras\n",
        "train_size = int(len(x) * 0.8)\n",
        "x_train, x_test = x[:train_size], x[train_size:]\n",
        "y_train, y_test = y[:train_size], y[train_size:]\n",
        "\n",
        "# MLP 모델 구축\n",
        "model = keras.Sequential([\n",
        "    keras.layers.Dense(48, activation='relu', input_shape=(window_size,)),\n",
        "    keras.layers.Dense(24, activation='relu'),\n",
        "    keras.layers.Dense(1)\n",
        "])\n",
        "\n",
        "# 모델 컴파일\n",
        "model.compile(optimizer='Adamax', loss='mean_squared_error')"
      ],
      "metadata": {
        "id": "9OCC7ftWqdrJ"
      },
      "execution_count": null,
      "outputs": []
    },
    {
      "cell_type": "code",
      "source": [
        "# 모델 훈련\n",
        "model.fit(x_train, y_train, epochs=500, batch_size=64)\n",
        "\n",
        "# 모델 평가\n",
        "test_loss = model.evaluate(x_test, y_test)\n",
        "print('Test loss:', test_loss)\n",
        "\n",
        "# 다음 값을 예측\n",
        "last_window = df_1['data'].iloc[-window_size:].values\n",
        "next_value = model.predict(np.expand_dims(last_window, axis=0))\n",
        "print('Next value prediction:', next_value)"
      ],
      "metadata": {
        "id": "FyDhZtikqhnC"
      },
      "execution_count": null,
      "outputs": []
    },
    {
      "cell_type": "code",
      "source": [
        " #keras.layers.Dense(48, activation='relu', input_shape=(window_size,)),\n",
        "    #keras.layers.Dense(24,\n",
        "#epochs=500, batch_size=64)\n",
        "#Test loss: 0.04599790275096893\n",
        "#1/1 [==============================] - 0s 58ms/step\n",
        "#Next value prediction: [[0.54427695]]"
      ],
      "metadata": {
        "id": "mMXYjEmpqkEK"
      },
      "execution_count": null,
      "outputs": []
    },
    {
      "cell_type": "code",
      "source": [
        "data = df_averge[\"풍속(m/s)\"]\n",
        "target = df_averge[\"발전량(MWh)\"]"
      ],
      "metadata": {
        "id": "ifAvpDfNqzcP"
      },
      "execution_count": null,
      "outputs": []
    },
    {
      "cell_type": "code",
      "source": [
        "df_1 = pd.DataFrame({'data': data, 'target': target})"
      ],
      "metadata": {
        "id": "04zj9ZjUq-F9"
      },
      "execution_count": null,
      "outputs": []
    },
    {
      "cell_type": "code",
      "source": [
        "import numpy as np\n",
        "\n",
        "window_size = 10  # 입력 시퀀스의 길이\n",
        "x = []\n",
        "y = []\n",
        "\n",
        "for i in range(len(df) - window_size):\n",
        "    # 데이터 프레임의 인덱스 범위를 벗어나면 스킵\n",
        "    if i+window_size >= len(df_1):\n",
        "        continue\n",
        "\n",
        "    x.append(df_1['data'].iloc[i:i+window_size].values)\n",
        "    y.append(df_1['target'].iloc[i+window_size])\n",
        "\n",
        "x = np.array(x)\n",
        "y = np.array(y)"
      ],
      "metadata": {
        "id": "fHh8atgvrBwu"
      },
      "execution_count": null,
      "outputs": []
    },
    {
      "cell_type": "code",
      "source": [
        "import numpy as np\n",
        "import pandas as pd\n",
        "import tensorflow as tf\n",
        "from tensorflow import keras\n",
        "train_size = int(len(x) * 0.8)\n",
        "x_train, x_test = x[:train_size], x[train_size:]\n",
        "y_train, y_test = y[:train_size], y[train_size:]\n",
        "\n",
        "# MLP 모델 구축\n",
        "model = keras.Sequential([\n",
        "    keras.layers.Dense(96, activation='relu', input_shape=(window_size,)),\n",
        "    keras.layers.Dense(48, activation='relu'),\n",
        "    keras.layers.Dense(1)\n",
        "])\n",
        "\n",
        "# 모델 컴파일\n",
        "model.compile(optimizer='Adamax', loss='mean_squared_error')"
      ],
      "metadata": {
        "id": "xDm75cNhrE15"
      },
      "execution_count": null,
      "outputs": []
    },
    {
      "cell_type": "code",
      "source": [
        "# 모델 훈련\n",
        "model.fit(x_train, y_train, epochs=1000, batch_size=32)\n",
        "\n",
        "# 모델 평가\n",
        "test_loss = model.evaluate(x_test, y_test)\n",
        "print('Test loss:', test_loss)\n",
        "\n",
        "# 다음 값을 예측\n",
        "last_window = df_1['data'].iloc[-window_size:].values\n",
        "next_value = model.predict(np.expand_dims(last_window, axis=0))\n",
        "print('Next value prediction:', next_value)"
      ],
      "metadata": {
        "id": "iu847MkcrIkZ"
      },
      "execution_count": null,
      "outputs": []
    },
    {
      "cell_type": "code",
      "source": [
        " # keras.layers.Dense(96, activation='relu', input_shape=(window_size,)),\n",
        "  #  keras.layers.Dense(48, activation='relu'),\n",
        "  #epochs=1000, batch_size=32)\n",
        "#Test loss: 0.08605163544416428\n",
        "#1/1 [==============================] - 0s 86ms/step\n",
        "#Next value prediction: [[0.2904066]]"
      ],
      "metadata": {
        "id": "PjRuoyGOrNiF"
      },
      "execution_count": null,
      "outputs": []
    },
    {
      "cell_type": "code",
      "source": [
        "data = df_averge[\"풍속(m/s)\"]\n",
        "target = df_averge[\"발전량(MWh)\"]"
      ],
      "metadata": {
        "id": "IhR0Q9KgrqVt"
      },
      "execution_count": null,
      "outputs": []
    },
    {
      "cell_type": "code",
      "source": [
        "df_1 = pd.DataFrame({'data': data, 'target': target})"
      ],
      "metadata": {
        "id": "X8l_kJaxrsd8"
      },
      "execution_count": null,
      "outputs": []
    },
    {
      "cell_type": "code",
      "source": [
        "import numpy as np\n",
        "\n",
        "window_size = 10  # 입력 시퀀스의 길이\n",
        "x = []\n",
        "y = []\n",
        "\n",
        "for i in range(len(df) - window_size):\n",
        "    # 데이터 프레임의 인덱스 범위를 벗어나면 스킵\n",
        "    if i+window_size >= len(df_1):\n",
        "        continue\n",
        "\n",
        "    x.append(df_1['data'].iloc[i:i+window_size].values)\n",
        "    y.append(df_1['target'].iloc[i+window_size])\n",
        "\n",
        "x = np.array(x)\n",
        "y = np.array(y)"
      ],
      "metadata": {
        "id": "Fz7Zvr7krvI4"
      },
      "execution_count": null,
      "outputs": []
    },
    {
      "cell_type": "code",
      "source": [
        "import numpy as np\n",
        "import pandas as pd\n",
        "import tensorflow as tf\n",
        "from tensorflow import keras\n",
        "train_size = int(len(x) * 0.8)\n",
        "x_train, x_test = x[:train_size], x[train_size:]\n",
        "y_train, y_test = y[:train_size], y[train_size:]\n",
        "\n",
        "# MLP 모델 구축\n",
        "model = keras.Sequential([\n",
        "    keras.layers.Dense(48, activation='relu', input_shape=(window_size,)),\n",
        "    keras.layers.Dense(24, activation='relu'),\n",
        "    keras.layers.Dense(1)\n",
        "])\n",
        "\n",
        "# 모델 컴파일\n",
        "model.compile(optimizer='Adamax', loss='mean_squared_error')"
      ],
      "metadata": {
        "id": "pycoPLgSrxzQ"
      },
      "execution_count": null,
      "outputs": []
    },
    {
      "cell_type": "code",
      "source": [
        "# 모델 훈련\n",
        "model.fit(x_train, y_train, epochs=1000, batch_size=64)\n",
        "\n",
        "# 모델 평가\n",
        "test_loss = model.evaluate(x_test, y_test)\n",
        "print('Test loss:', test_loss)\n",
        "\n",
        "# 다음 값을 예측\n",
        "last_window = df_1['data'].iloc[-window_size:].values\n",
        "next_value = model.predict(np.expand_dims(last_window, axis=0))\n",
        "print('Next value prediction:', next_value)"
      ],
      "metadata": {
        "id": "uLmBKhTJr0fQ"
      },
      "execution_count": null,
      "outputs": []
    },
    {
      "cell_type": "code",
      "source": [
        "#keras.layers.Dense(48, activation='relu', input_shape=(window_size,)),\n",
        "    #keras.layers.Dense(24,\n",
        "#epochs=1000, batch_size=64\n",
        "#Test loss: 0.059407636523246765\n",
        "#1/1 [==============================] - 0s 95ms/step\n",
        "#Next value prediction: [[0.41624594]]"
      ],
      "metadata": {
        "id": "Zhx-BFb7r7Ru"
      },
      "execution_count": null,
      "outputs": []
    },
    {
      "cell_type": "code",
      "source": [
        "#표로 정리\n",
        "data = {\n",
        "    '번호': [1, 2, 3, 4, 5, 6],\n",
        "    'Keras의 Dense 층': ['48/24', '96/48', '96/48', '48/24', '96/48', '48/24'],\n",
        "    '오차': [0.037048276513814926, 0.042381808161735535, 0.04714444652199745, 0.04599790275096893, 0.08605163544416428, 0.059407636523246765],\n",
        "    'Epoch': [200, 200, 500, 500, 1000, 1000],\n",
        "    'Next value prediction': [0.50455594, 0.48523682, 0.42497924, 0.54427695, 0.2904066, 0.41624594],\n",
        "    'Batch_size': [32, 32, 64, 64, 32, 64]\n",
        "}\n",
        "\n",
        "df_8 = pd.DataFrame(data, dtype=float)"
      ],
      "metadata": {
        "id": "MZ1pEYIBsP3n"
      },
      "execution_count": null,
      "outputs": []
    },
    {
      "cell_type": "code",
      "source": [
        "df_8"
      ],
      "metadata": {
        "id": "JwBpKnpruMm2"
      },
      "execution_count": null,
      "outputs": []
    },
    {
      "cell_type": "code",
      "source": [
        "import numpy as np\n",
        "import matplotlib.pyplot as plt\n",
        "x = df_8[\"번호\"]\n",
        "y1 = df_8[\"오차\"]\n",
        "\n",
        "# 그래프 그리기\n",
        "plt.plot(x, y1, label='error')\n",
        "\n",
        "# 그래프 제목, 축 레이블 설정\n",
        "plt.title('What would be the most appropriate?')\n",
        "plt.ylabel('Y-axis')\n",
        "\n",
        "# 그래프 보이기\n",
        "plt.show()\n",
        "\n",
        "# 가장 오차가 적음 : 48/24\t0.037048\t200.0\t0.504556\t32.0"
      ],
      "metadata": {
        "id": "gHE0_mChuPN4"
      },
      "execution_count": null,
      "outputs": []
    },
    {
      "cell_type": "code",
      "source": [
        "pip install streamlit"
      ],
      "metadata": {
        "id": "r6fVvM9zx6OG"
      },
      "execution_count": null,
      "outputs": []
    },
    {
      "cell_type": "code",
      "source": [
        "#이것으로 streamlit으로 구축해보겠다.\n",
        "import streamlit as st\n",
        "import tensorflow as tf\n",
        "from tensorflow import keras\n",
        "\n",
        "# MLP 모델 불러오기\n",
        "model = keras.models.load_model('mlp_model.h5')\n",
        "\n",
        "# Streamlit 앱 설정\n",
        "st.title(\"풍력 발전량 예측\")\n",
        "\n",
        "# 풍속 입력 필드\n",
        "speed = st.number_input(\"풍속(m/s)\", min_value=0.0)\n",
        "\n",
        "# 예측 함수\n",
        "def predict_power(speed):\n",
        "    power = model.predict([[speed]])[0][0]\n",
        "    return power\n",
        "\n",
        "# 예측 버튼\n",
        "if st.button(\"예측\"):\n",
        "    result = predict_power(speed)\n",
        "    st.write(f\"풍력 발전량 예측: {result:.2f} MWh\")"
      ],
      "metadata": {
        "id": "AU-OqW6wvCUs"
      },
      "execution_count": null,
      "outputs": []
    },
    {
      "cell_type": "code",
      "source": [
        "pip install pyngrok"
      ],
      "metadata": {
        "id": "gc0UXSXPyhep"
      },
      "execution_count": null,
      "outputs": []
    },
    {
      "cell_type": "code",
      "source": [
        "#ngrok으로 url표현\n",
        "from pyngrok import ngrok\n",
        "\n",
        "# ngrok 실행\n",
        "ngrok_tunnel = ngrok.connect(8501)\n",
        "\n",
        "# 할당된 URL 확인\n",
        "public_url = ngrok_tunnel.public_url\n",
        "print(f\"ngrok URL: {public_url}\")\n",
        "\n",
        "# 앱 실행 후 종료 시 ngrok 연결 해제\n",
        "# ...\n",
        "\n",
        "# ngrok 연결 해제\n",
        "ngrok.kill()"
      ],
      "metadata": {
        "id": "TuA7lfbjxzgU"
      },
      "execution_count": null,
      "outputs": []
    },
    {
      "cell_type": "code",
      "source": [
        "!nohup streamlit run app.py --server port 80 &"
      ],
      "metadata": {
        "id": "YNBx9tfCHR3R"
      },
      "execution_count": null,
      "outputs": []
    },
    {
      "cell_type": "code",
      "source": [],
      "metadata": {
        "id": "1d3qfM24HgrU"
      },
      "execution_count": null,
      "outputs": []
    }
  ]
}