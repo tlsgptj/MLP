{
  "nbformat": 4,
  "nbformat_minor": 0,
  "metadata": {
    "colab": {
      "private_outputs": true,
      "provenance": [],
      "authorship_tag": "ABX9TyNS6TLiJ1OUksrtwqV48CbZ",
      "include_colab_link": true
    },
    "kernelspec": {
      "name": "python3",
      "display_name": "Python 3"
    },
    "language_info": {
      "name": "python"
    }
  },
  "cells": [
    {
      "cell_type": "markdown",
      "metadata": {
        "id": "view-in-github",
        "colab_type": "text"
      },
      "source": [
        "<a href=\"https://colab.research.google.com/github/tlsgptj/MLP/blob/MLP2/%EC%A0%84%EB%A0%A5%EB%9F%89(MLP).ipynb\" target=\"_parent\"><img src=\"https://colab.research.google.com/assets/colab-badge.svg\" alt=\"Open In Colab\"/></a>"
      ]
    },
    {
      "cell_type": "code",
      "execution_count": null,
      "metadata": {
        "id": "jWkE4f_I903i"
      },
      "outputs": [],
      "source": [
        "import pandas as pd"
      ]
    },
    {
      "cell_type": "code",
      "source": [
        "df = pd.read_csv(\"전력 revenge2.csv\", encoding=\"cp949\")"
      ],
      "metadata": {
        "id": "D5_JObyvuGu5"
      },
      "execution_count": null,
      "outputs": []
    },
    {
      "cell_type": "code",
      "source": [
        "df"
      ],
      "metadata": {
        "id": "BT6gubvauVe_"
      },
      "execution_count": null,
      "outputs": []
    },
    {
      "cell_type": "code",
      "source": [
        "df = df.drop(columns = [\"Unnamed: 8\", \"Unnamed: 9\"])\n",
        "#NaN 데이터는 제거해주자"
      ],
      "metadata": {
        "id": "Xr4ji4UtuWNq"
      },
      "execution_count": null,
      "outputs": []
    },
    {
      "cell_type": "code",
      "source": [
        "df"
      ],
      "metadata": {
        "id": "zIF6GoXhu6lS"
      },
      "execution_count": null,
      "outputs": []
    },
    {
      "cell_type": "code",
      "source": [
        "df.head(20)"
      ],
      "metadata": {
        "id": "skrSESYOu7RI"
      },
      "execution_count": null,
      "outputs": []
    },
    {
      "cell_type": "code",
      "source": [
        "df.tail(20)"
      ],
      "metadata": {
        "id": "zAvL-n6Ku-_e"
      },
      "execution_count": null,
      "outputs": []
    },
    {
      "cell_type": "code",
      "source": [
        "import matplotlib.pyplot as plt\n",
        "import seaborn as sns"
      ],
      "metadata": {
        "id": "dX3H0GM6vFUb"
      },
      "execution_count": null,
      "outputs": []
    },
    {
      "cell_type": "code",
      "source": [
        "df.info()\n",
        "#문자형 데이터가 없어서 다행인듯"
      ],
      "metadata": {
        "id": "BidGTLL5vBus"
      },
      "execution_count": null,
      "outputs": []
    },
    {
      "cell_type": "code",
      "source": [
        "#전력량 정규화가 필요\n",
        "df[\"month_normalization\"] = df[\"monty\"].astype(float)/abs(df[\"monty\"].astype(float).max())\n",
        "df[[\"monty\", \"month_normalization\"]].head()"
      ],
      "metadata": {
        "id": "n8YK7F3HwPoD"
      },
      "execution_count": null,
      "outputs": []
    },
    {
      "cell_type": "code",
      "source": [
        "df[\"MWh*1000\"] = df[\"MWh*1000\"].astype(float)/abs(df[\"MWh*1000\"].astype(float).max())\n",
        "df[\"MWh*1000\"].head()"
      ],
      "metadata": {
        "id": "aw0HWT2twtNp"
      },
      "execution_count": null,
      "outputs": []
    },
    {
      "cell_type": "code",
      "source": [
        "from sklearn.preprocessing import PolynomialFeatures\n",
        "from sklearn.model_selection import train_test_split\n",
        "from sklearn.linear_model import LinearRegression\n",
        "from sklearn.metrics import mean_squared_error"
      ],
      "metadata": {
        "id": "kaW8ChpcxC9W"
      },
      "execution_count": null,
      "outputs": []
    },
    {
      "cell_type": "code",
      "source": [
        "plt.scatter(df[\"bs_high temp\"], df[\"MWh_normalization\"])\n",
        "plt.xlabel(\"bs_high temp\")\n",
        "plt.ylabel(\"MWh_normalization\")\n",
        "plt.title(\"부산 기온에 따른 전력사용량\")\n",
        "plt.show()"
      ],
      "metadata": {
        "id": "VQbjN_0Dxpja"
      },
      "execution_count": null,
      "outputs": []
    },
    {
      "cell_type": "code",
      "source": [
        "plt.scatter(df[\"gj_high temp\"], df[\"MWh_normalization\"])\n",
        "plt.xlabel(\"gj_high temp\")\n",
        "plt.ylabel(\"MWh_normalization\")\n",
        "plt.title(\"광주 기온에 따른 전력사용량\")\n",
        "plt.show()"
      ],
      "metadata": {
        "id": "D5fJy-ppysEP"
      },
      "execution_count": null,
      "outputs": []
    },
    {
      "cell_type": "code",
      "source": [
        "plt.scatter(df[\"s_high temp\"], df[\"MWh_normalization\"])\n",
        "plt.xlabel(\"s_high temp\")\n",
        "plt.ylabel(\"MWh_normalization\")\n",
        "plt.title(\"서울 기온에 따른 전력사용량\")\n",
        "plt.show()\n",
        "#서울은 윗지방인지 전력사용량이 기온이 -10일때까지 분포하고 있었음"
      ],
      "metadata": {
        "id": "eTCSEjEr2rsN"
      },
      "execution_count": null,
      "outputs": []
    },
    {
      "cell_type": "code",
      "source": [
        "df[\"bs_high temp\"] = df[\"bs_high temp\"].astype(float)/abs(df[\"bs_high temp\"].astype(float).max())\n",
        "df[[\"bs_high temp\", \"bs_high temp\"]].head()"
      ],
      "metadata": {
        "id": "8NWDFK-v5flP"
      },
      "execution_count": null,
      "outputs": []
    },
    {
      "cell_type": "code",
      "source": [
        "df[\"s_high temp\"] = df[\"s_high temp\"].astype(float)/abs(df[\"s_high temp\"].astype(float).max())\n",
        "df[[\"s_high temp\", \"s_high temp\"]].head()"
      ],
      "metadata": {
        "id": "lFMKeHXU6tsV"
      },
      "execution_count": null,
      "outputs": []
    },
    {
      "cell_type": "code",
      "source": [
        "df[\"year\"] = df[\"year\"].astype(float)/abs(df[\"year\"].astype(float).max())\n",
        "df[\"year\"].head()"
      ],
      "metadata": {
        "id": "nrq7iFoQ62hg"
      },
      "execution_count": null,
      "outputs": []
    },
    {
      "cell_type": "code",
      "source": [
        "#MLP를 이용하여 부산의 전력량 예측해보기, 1차원데이터이므로 MLP 옵티마이저 아담을 사용하여 분석해본다\n",
        "data = df[\"bs_high temp\"]\n",
        "target = df[\"MWh_normalization\"]"
      ],
      "metadata": {
        "id": "HCn72Puw7wef"
      },
      "execution_count": null,
      "outputs": []
    },
    {
      "cell_type": "code",
      "source": [
        "df_1 = pd.DataFrame({'data': data, 'target': target})"
      ],
      "metadata": {
        "id": "Vl-ZZNi698sF"
      },
      "execution_count": null,
      "outputs": []
    },
    {
      "cell_type": "code",
      "source": [
        "# 데이터 전처리\n",
        "import numpy as np\n",
        "window_size = 10  # 입력 시퀀스의 길이\n",
        "x = []\n",
        "y = []\n",
        "for i in range(len(df) - window_size):\n",
        "    x.append(df_1['data'].iloc[i:i+window_size].values)\n",
        "    y.append(df_1['target'].iloc[i+window_size])\n",
        "x = np.array(x)\n",
        "y = np.array(y)"
      ],
      "metadata": {
        "id": "MWfBrRbJ-C0G"
      },
      "execution_count": null,
      "outputs": []
    },
    {
      "cell_type": "code",
      "source": [
        "import numpy as np\n",
        "import pandas as pd\n",
        "import tensorflow as tf\n",
        "from tensorflow import keras\n",
        "train_size = int(len(x) * 0.8)\n",
        "x_train, x_test = x[:train_size], x[train_size:]\n",
        "y_train, y_test = y[:train_size], y[train_size:]\n",
        "\n",
        "# MLP 모델 구축\n",
        "model = keras.Sequential([\n",
        "    keras.layers.Dense(32, activation='relu', input_shape=(window_size,)),\n",
        "    keras.layers.Dense(16, activation='relu'),\n",
        "    keras.layers.Dense(1)\n",
        "])\n",
        "\n",
        "# 모델 컴파일\n",
        "model.compile(optimizer='adam', loss='mean_squared_error')"
      ],
      "metadata": {
        "id": "GcerPXbv-FMO"
      },
      "execution_count": null,
      "outputs": []
    },
    {
      "cell_type": "code",
      "source": [
        "# 모델 훈련\n",
        "model.fit(x_train, y_train, epochs=150, batch_size=64)\n",
        "\n",
        "# 모델 평가\n",
        "test_loss = model.evaluate(x_test, y_test)\n",
        "print('Test loss:', test_loss)\n",
        "\n",
        "# 다음 값을 예측\n",
        "last_window = df_1['data'].iloc[-window_size:].values\n",
        "next_value = model.predict(np.expand_dims(last_window, axis=0))\n",
        "print('Next value prediction:', next_value)"
      ],
      "metadata": {
        "id": "dt53DWbI-O_R"
      },
      "execution_count": null,
      "outputs": []
    },
    {
      "cell_type": "code",
      "source": [
        "#Test loss: 0.009828583337366581\n",
        "#1/1 [==============================] - 0s 92ms/step\n",
        "#Next value prediction: [[0.82345855]]"
      ],
      "metadata": {
        "id": "BdzNJ6V6-Y81"
      },
      "execution_count": null,
      "outputs": []
    },
    {
      "cell_type": "code",
      "source": [
        "#이번에는 광주의 기온과 전력량을 예측해본다.\n",
        "data = df[\"gj_high temp\"]\n",
        "target = df[\"MWh_normalization\"]"
      ],
      "metadata": {
        "id": "l5gOdTmR-ssM"
      },
      "execution_count": null,
      "outputs": []
    },
    {
      "cell_type": "code",
      "source": [
        "df_2 = pd.DataFrame({'data': data, 'target': target})"
      ],
      "metadata": {
        "id": "hCNUP2Lt_uns"
      },
      "execution_count": null,
      "outputs": []
    },
    {
      "cell_type": "code",
      "source": [
        "df_2"
      ],
      "metadata": {
        "id": "qVHxdP71_1iO"
      },
      "execution_count": null,
      "outputs": []
    },
    {
      "cell_type": "code",
      "source": [
        "window_size = 10  # 입력 시퀀스의 길이\n",
        "x = []\n",
        "y = []\n",
        "for i in range(len(df) - window_size):\n",
        "    x.append(df_1['data'].iloc[i:i+window_size].values)\n",
        "    y.append(df_1['target'].iloc[i+window_size])\n",
        "x = np.array(x)\n",
        "y = np.array(y)"
      ],
      "metadata": {
        "id": "-1FlHA63_25s"
      },
      "execution_count": null,
      "outputs": []
    },
    {
      "cell_type": "code",
      "source": [
        "train_size = int(len(x) * 0.8)\n",
        "x_train, x_test = x[:train_size], x[train_size:]\n",
        "y_train, y_test = y[:train_size], y[train_size:]\n",
        "\n",
        "# MLP 모델 구축\n",
        "model = keras.Sequential([\n",
        "    keras.layers.Dense(32, activation='relu', input_shape=(window_size,)),\n",
        "    keras.layers.Dense(16, activation='relu'),\n",
        "    keras.layers.Dense(1)\n",
        "])\n",
        "\n",
        "# 모델 컴파일\n",
        "model.compile(optimizer='SGD', loss='mean_squared_error')"
      ],
      "metadata": {
        "id": "BfL5ytKb_8Kc"
      },
      "execution_count": null,
      "outputs": []
    },
    {
      "cell_type": "code",
      "source": [
        "# 모델 훈련\n",
        "model.fit(x_train, y_train, epochs=150, batch_size=64)\n",
        "\n",
        "# 모델 평가\n",
        "test_loss = model.evaluate(x_test, y_test)\n",
        "print('Test loss:', test_loss)\n",
        "\n",
        "# 다음 값을 예측\n",
        "last_window = df_1['data'].iloc[-window_size:].values\n",
        "next_value = model.predict(np.expand_dims(last_window, axis=0))\n",
        "print('Next value prediction:', next_value)"
      ],
      "metadata": {
        "id": "csXVEvjKANJq"
      },
      "execution_count": null,
      "outputs": []
    },
    {
      "cell_type": "code",
      "source": [
        "#adam\n",
        "#Test loss: 0.00728259515017271\n",
        "#1/1 [==============================] - 0s 56ms/step\n",
        "#Next value prediction: [[0.86865175]]\n",
        "\n",
        "#SGD\n",
        "#Test loss: 0.010611072182655334\n",
        "#1/1 [==============================] - 0s 56ms/step\n",
        "#Next value prediction: [[0.78998226]]"
      ],
      "metadata": {
        "id": "mr-iFN6NASOD"
      },
      "execution_count": null,
      "outputs": []
    },
    {
      "cell_type": "code",
      "source": [
        "#서울의 기온에 따른 전력량을 에측해보자\n",
        "data = df[\"s_high temp\"]\n",
        "target = df[\"MWh*1000\"]"
      ],
      "metadata": {
        "id": "RlHn4kewBOcl"
      },
      "execution_count": null,
      "outputs": []
    },
    {
      "cell_type": "code",
      "source": [
        "df_3 = pd.DataFrame({'data': data, 'target': target})"
      ],
      "metadata": {
        "id": "zHtpeIjfBbLJ"
      },
      "execution_count": null,
      "outputs": []
    },
    {
      "cell_type": "code",
      "source": [
        "df_3"
      ],
      "metadata": {
        "id": "6QCBLGv-Bgf8"
      },
      "execution_count": null,
      "outputs": []
    },
    {
      "cell_type": "code",
      "source": [
        "window_size = 10  # 입력 시퀀스의 길이\n",
        "x = []\n",
        "y = []\n",
        "for i in range(len(df) - window_size):\n",
        "    x.append(df_1['data'].iloc[i:i+window_size].values)\n",
        "    y.append(df_1['target'].iloc[i+window_size])\n",
        "x = np.array(x)\n",
        "y = np.array(y)"
      ],
      "metadata": {
        "id": "GxCfWvRxBkhx"
      },
      "execution_count": null,
      "outputs": []
    },
    {
      "cell_type": "code",
      "source": [
        "train_size = int(len(x) * 0.8)\n",
        "x_train, x_test = x[:train_size], x[train_size:]\n",
        "y_train, y_test = y[:train_size], y[train_size:]\n",
        "\n",
        "# MLP 모델 구축\n",
        "model = keras.Sequential([\n",
        "    keras.layers.Dense(32, activation='relu', input_shape=(window_size,)),\n",
        "    keras.layers.Dense(16, activation='relu'),\n",
        "    keras.layers.Dense(1)\n",
        "])\n",
        "\n",
        "# 모델 컴파일\n",
        "model.compile(optimizer='RMSprop', loss='mean_squared_error')"
      ],
      "metadata": {
        "id": "9_9h0mabBlkt"
      },
      "execution_count": null,
      "outputs": []
    },
    {
      "cell_type": "code",
      "source": [
        "# 모델 훈련\n",
        "model.fit(x_train, y_train, epochs=150, batch_size=64)\n",
        "\n",
        "# 모델 평가\n",
        "test_loss = model.evaluate(x_test, y_test)\n",
        "print('Test loss:', test_loss)\n",
        "\n",
        "# 다음 값을 예측\n",
        "last_window = df_1['data'].iloc[-window_size:].values\n",
        "next_value = model.predict(np.expand_dims(last_window, axis=0))\n",
        "print('Next value prediction:', next_value)"
      ],
      "metadata": {
        "id": "O6c2vYrSBw99"
      },
      "execution_count": null,
      "outputs": []
    },
    {
      "cell_type": "code",
      "source": [
        "#RMSprop\n",
        "#Test loss: 0.005654627922922373\n",
        "#1/1 [==============================] - 0s 84ms/step\n",
        "#Next value prediction: [[0.8333498]]"
      ],
      "metadata": {
        "id": "x2mokXqYBzep"
      },
      "execution_count": null,
      "outputs": []
    },
    {
      "cell_type": "code",
      "source": [
        "#광주 일별 광주 기온 예측을 해보겠다.\n",
        "data = df[\"day\"]\n",
        "target = df[\"gj_high temp\"]"
      ],
      "metadata": {
        "id": "rY0dX2u4B9vX"
      },
      "execution_count": null,
      "outputs": []
    },
    {
      "cell_type": "code",
      "source": [
        "df_4 = pd.DataFrame({'data': data, 'target': target})"
      ],
      "metadata": {
        "id": "OJz0yqmeB9pD"
      },
      "execution_count": null,
      "outputs": []
    },
    {
      "cell_type": "code",
      "source": [
        "df_4"
      ],
      "metadata": {
        "id": "LJtk5ws4CrnT"
      },
      "execution_count": null,
      "outputs": []
    },
    {
      "cell_type": "code",
      "source": [
        "window_size = 10  # 입력 시퀀스의 길이\n",
        "x = []\n",
        "y = []\n",
        "for i in range(len(df) - window_size):\n",
        "    x.append(df_1['data'].iloc[i:i+window_size].values)\n",
        "    y.append(df_1['target'].iloc[i+window_size])\n",
        "x = np.array(x)\n",
        "y = np.array(y)"
      ],
      "metadata": {
        "id": "27iKgqoaCsci"
      },
      "execution_count": null,
      "outputs": []
    },
    {
      "cell_type": "code",
      "source": [
        "train_size = int(len(x) * 0.8)\n",
        "x_train, x_test = x[:train_size], x[train_size:]\n",
        "y_train, y_test = y[:train_size], y[train_size:]\n",
        "\n",
        "# MLP 모델 구축\n",
        "model = keras.Sequential([\n",
        "    keras.layers.Dense(32, activation='relu', input_shape=(window_size,)),\n",
        "    keras.layers.Dense(16, activation='relu'),\n",
        "    keras.layers.Dense(1)\n",
        "])\n",
        "\n",
        "# 모델 컴파일\n",
        "model.compile(optimizer='Adagrad', loss='mean_squared_error')"
      ],
      "metadata": {
        "id": "g-bKWdvWCwOe"
      },
      "execution_count": null,
      "outputs": []
    },
    {
      "cell_type": "code",
      "source": [
        "# 모델 훈련\n",
        "model.fit(x_train, y_train, epochs=150, batch_size=64)\n",
        "\n",
        "# 모델 평가\n",
        "test_loss = model.evaluate(x_test, y_test)\n",
        "print('Test loss:', test_loss)\n",
        "\n",
        "# 다음 값을 예측\n",
        "last_window = df_1['data'].iloc[-window_size:].values\n",
        "next_value = model.predict(np.expand_dims(last_window, axis=0))\n",
        "print('Next value prediction:', next_value)"
      ],
      "metadata": {
        "id": "QPLs2swXC6U1"
      },
      "execution_count": null,
      "outputs": []
    },
    {
      "cell_type": "code",
      "source": [
        "#Adagrad\n",
        "#Test loss: 0.033506181091070175\n",
        "#1/1 [==============================] - 0s 55ms/step\n",
        "#Next value prediction: [[0.51760966]]"
      ],
      "metadata": {
        "id": "kExDrJm8C9kC"
      },
      "execution_count": null,
      "outputs": []
    },
    {
      "cell_type": "code",
      "source": [
        "#서울시의 기온 예측\n",
        "data = df[\"day\"]\n",
        "target = df[\"s_high temp\"]"
      ],
      "metadata": {
        "id": "ZjXbiKy5DXVQ"
      },
      "execution_count": null,
      "outputs": []
    },
    {
      "cell_type": "code",
      "source": [
        "df_5 = pd.DataFrame({'data': data, 'target': target})"
      ],
      "metadata": {
        "id": "iqdjCpWZDzhB"
      },
      "execution_count": null,
      "outputs": []
    },
    {
      "cell_type": "code",
      "source": [
        "df_5"
      ],
      "metadata": {
        "id": "mWePjSNlD3l-"
      },
      "execution_count": null,
      "outputs": []
    },
    {
      "cell_type": "code",
      "source": [
        "window_size = 10  # 입력 시퀀스의 길이\n",
        "x = []\n",
        "y = []\n",
        "for i in range(len(df) - window_size):\n",
        "    x.append(df_1['data'].iloc[i:i+window_size].values)\n",
        "    y.append(df_1['target'].iloc[i+window_size])\n",
        "x = np.array(x)\n",
        "y = np.array(y)"
      ],
      "metadata": {
        "id": "UEoVzfTWD4fZ"
      },
      "execution_count": null,
      "outputs": []
    },
    {
      "cell_type": "code",
      "source": [
        "train_size = int(len(x) * 0.8)\n",
        "x_train, x_test = x[:train_size], x[train_size:]\n",
        "y_train, y_test = y[:train_size], y[train_size:]\n",
        "\n",
        "# MLP 모델 구축\n",
        "model = keras.Sequential([\n",
        "    keras.layers.Dense(32, activation='relu', input_shape=(window_size,)),\n",
        "    keras.layers.Dense(16, activation='relu'),\n",
        "    keras.layers.Dense(1)\n",
        "])\n",
        "\n",
        "# 모델 컴파일\n",
        "model.compile(optimizer='Adadelta', loss='mean_squared_error')"
      ],
      "metadata": {
        "id": "be7VS7c5D7EY"
      },
      "execution_count": null,
      "outputs": []
    },
    {
      "cell_type": "code",
      "source": [
        "# 모델 훈련\n",
        "model.fit(x_train, y_train, epochs=150, batch_size=64)\n",
        "\n",
        "# 모델 평가\n",
        "test_loss = model.evaluate(x_test, y_test)\n",
        "print('Test loss:', test_loss)\n",
        "\n",
        "# 다음 값을 예측\n",
        "last_window = df_1['data'].iloc[-window_size:].values\n",
        "next_value = model.predict(np.expand_dims(last_window, axis=0))\n",
        "print('Next value prediction:', next_value)"
      ],
      "metadata": {
        "id": "wNXvFiZdD-Uv"
      },
      "execution_count": null,
      "outputs": []
    },
    {
      "cell_type": "code",
      "source": [
        "#Adadelta\n",
        "#Test loss: 0.30417826771736145\n",
        "#1/1 [==============================] - 0s 62ms/step\n",
        "#Next value prediction: [[0.17683095]]"
      ],
      "metadata": {
        "id": "bEgT3Az-EEZX"
      },
      "execution_count": null,
      "outputs": []
    },
    {
      "cell_type": "code",
      "source": [
        "#부산광역시의 기온예측\n",
        "data = df[\"day\"]\n",
        "target = df[\"bs_high temp\"]"
      ],
      "metadata": {
        "id": "VmpmydFBEOi1"
      },
      "execution_count": null,
      "outputs": []
    },
    {
      "cell_type": "code",
      "source": [
        "df_6 = pd.DataFrame({'data': data, 'target': target})"
      ],
      "metadata": {
        "id": "aNEqiM1XEc8u"
      },
      "execution_count": null,
      "outputs": []
    },
    {
      "cell_type": "code",
      "source": [
        "df_6"
      ],
      "metadata": {
        "id": "eZdaa5OWEhcl"
      },
      "execution_count": null,
      "outputs": []
    },
    {
      "cell_type": "code",
      "source": [
        "window_size = 10  # 입력 시퀀스의 길이\n",
        "x = []\n",
        "y = []\n",
        "for i in range(len(df) - window_size):\n",
        "    x.append(df_1['data'].iloc[i:i+window_size].values)\n",
        "    y.append(df_1['target'].iloc[i+window_size])\n",
        "x = np.array(x)\n",
        "y = np.array(y)"
      ],
      "metadata": {
        "id": "3N8lgFGbEjLa"
      },
      "execution_count": null,
      "outputs": []
    },
    {
      "cell_type": "code",
      "source": [
        "train_size = int(len(x) * 0.8)\n",
        "x_train, x_test = x[:train_size], x[train_size:]\n",
        "y_train, y_test = y[:train_size], y[train_size:]\n",
        "\n",
        "# MLP 모델 구축\n",
        "model = keras.Sequential([\n",
        "    keras.layers.Dense(32, activation='relu', input_shape=(window_size,)),\n",
        "    keras.layers.Dense(16, activation='relu'),\n",
        "    keras.layers.Dense(1)\n",
        "])\n",
        "\n",
        "# 모델 컴파일\n",
        "model.compile(optimizer='Adamax', loss='mean_squared_error')"
      ],
      "metadata": {
        "id": "Y_ZUbEUfEmF-"
      },
      "execution_count": null,
      "outputs": []
    },
    {
      "cell_type": "code",
      "source": [
        "# 모델 훈련\n",
        "model.fit(x_train, y_train, epochs=150, batch_size=64)\n",
        "\n",
        "# 모델 평가\n",
        "test_loss = model.evaluate(x_test, y_test)\n",
        "print('Test loss:', test_loss)\n",
        "\n",
        "# 다음 값을 예측\n",
        "last_window = df_1['data'].iloc[-window_size:].values\n",
        "next_value = model.predict(np.expand_dims(last_window, axis=0))\n",
        "print('Next value prediction:', next_value)"
      ],
      "metadata": {
        "id": "WoAjqrgMErO_"
      },
      "execution_count": null,
      "outputs": []
    },
    {
      "cell_type": "code",
      "source": [
        "#Adamax\n",
        "#Test loss: 0.007760117296129465\n",
        "#1/1 [==============================] - 0s 59ms/step\n",
        "#Next value prediction: [[0.82375294]]"
      ],
      "metadata": {
        "id": "6SNPckDiEt0_"
      },
      "execution_count": null,
      "outputs": []
    },
    {
      "cell_type": "code",
      "source": [
        "#분석내용 표로 도출\n",
        "data = {\n",
        "    '무엇을 예측했는지': ['부산기온/전력', '기온/광주전력', '기온/서울전력', '일별/광주기온', '일별/서울기온', '일별/부산기온'],\n",
        "    'target-data': ['MWh*1000', 'MWh*1000', 'MWh*1000', 'gj_high temp', 's_high temp', 'bs_high temp'],\n",
        "    'Optimizer': ['adam', 'SGD', 'RMSprop', 'Adagrad', 'Adadelta', 'Adamax'],\n",
        "    '오차': [0.009828583337366581, 0.010611072182655334, 0.005654627922922373, 0.033506181091070175, 0.30417826771736145, 0.007760117296129465],\n",
        "    'Epoch': [150, 150, 150, 150, 150, 150],\n",
        "    'Next value prediction': [0.82345855, 0.78998226, 0.8333498, 0.51760966, 0.17683095, 0.82375294]\n",
        "}\n",
        "\n",
        "df_7 = pd.DataFrame(data)"
      ],
      "metadata": {
        "id": "EQqggyWhE2ao"
      },
      "execution_count": null,
      "outputs": []
    },
    {
      "cell_type": "code",
      "source": [
        "df_7"
      ],
      "metadata": {
        "id": "3Zle35V1MbeD"
      },
      "execution_count": null,
      "outputs": []
    },
    {
      "cell_type": "code",
      "source": [
        "#각각의 옵티마이저를 사용했을 때 가장 오차가 적은 것을 찾아 이번엔 Epoch와 batch_size 등 각각의 것들을 비교해 오차가 작은 것을 선별할 예정이다.\n",
        "import numpy as np\n",
        "import matplotlib.pyplot as plt\n",
        "x = df_7[\"Optimizer\"]\n",
        "y1 = df_7[\"오차\"]\n",
        "\n",
        "# 그래프 그리기\n",
        "plt.plot(x, y1, label='error')\n",
        "\n",
        "# 그래프 제목, 축 레이블 설정\n",
        "plt.title('What would be the most appropriate?')\n",
        "plt.ylabel('Y-axis')\n",
        "\n",
        "# 그래프 보이기\n",
        "plt.show()"
      ],
      "metadata": {
        "id": "MGoTNC0yzHCX"
      },
      "execution_count": null,
      "outputs": []
    },
    {
      "cell_type": "code",
      "source": [
        "#전력량 MLP 데이터를 활용하여 다양한 MLP를 이용해 오차가 최소인 것을 결과로 도출해보았다.\n",
        "#오차는 RMSprop 옵티마이저를 사용했을 때 가장 작았고, Adadelta를 사용했을 시 최대였다.\n",
        "#예측값은 정규화된 값으로 보여짐"
      ],
      "metadata": {
        "id": "TVUgMCjOMd6o"
      },
      "execution_count": null,
      "outputs": []
    },
    {
      "cell_type": "code",
      "source": [
        "#RMSprop를 이용하여 더 정교하게 오차가 최소화되는 조건을 찾아봄"
      ],
      "metadata": {
        "id": "M3UcBsy1zvRB"
      },
      "execution_count": null,
      "outputs": []
    },
    {
      "cell_type": "code",
      "source": [
        "data = df[\"s_high temp\"]\n",
        "target = df[\"MWh*1000\"]"
      ],
      "metadata": {
        "id": "FzftIPWS0AMR"
      },
      "execution_count": null,
      "outputs": []
    },
    {
      "cell_type": "code",
      "source": [
        "df_3 = pd.DataFrame({'data': data, 'target': target})"
      ],
      "metadata": {
        "id": "9-F5R7YT00PD"
      },
      "execution_count": null,
      "outputs": []
    },
    {
      "cell_type": "code",
      "source": [
        "window_size = 10  # 입력 시퀀스의 길이\n",
        "x = []\n",
        "y = []\n",
        "for i in range(len(df) - window_size):\n",
        "    x.append(df_1['data'].iloc[i:i+window_size].values)\n",
        "    y.append(df_1['target'].iloc[i+window_size])\n",
        "x = np.array(x)\n",
        "y = np.array(y)"
      ],
      "metadata": {
        "id": "l-eapi5v04ie"
      },
      "execution_count": null,
      "outputs": []
    },
    {
      "cell_type": "code",
      "source": [
        "train_size = int(len(x) * 0.8)\n",
        "x_train, x_test = x[:train_size], x[train_size:]\n",
        "y_train, y_test = y[:train_size], y[train_size:]\n",
        "\n",
        "# MLP 모델 구축\n",
        "model = keras.Sequential([\n",
        "    keras.layers.Dense(48, activation='relu', input_shape=(window_size,)),\n",
        "    keras.layers.Dense(24, activation='relu'),\n",
        "    keras.layers.Dense(1)\n",
        "])\n",
        "\n",
        "# 모델 컴파일\n",
        "model.compile(optimizer='RMSprop', loss='mean_squared_error')"
      ],
      "metadata": {
        "id": "ljlU8Xl-08Eu"
      },
      "execution_count": null,
      "outputs": []
    },
    {
      "cell_type": "code",
      "source": [
        "# 모델 훈련\n",
        "model.fit(x_train, y_train, epochs=200, batch_size=64)\n",
        "\n",
        "# 모델 평가\n",
        "test_loss = model.evaluate(x_test, y_test)\n",
        "print('Test loss:', test_loss)\n",
        "\n",
        "# 다음 값을 예측\n",
        "last_window = df_1['data'].iloc[-window_size:].values\n",
        "next_value = model.predict(np.expand_dims(last_window, axis=0))\n",
        "print('Next value prediction:', next_value)"
      ],
      "metadata": {
        "id": "ZreRyIj31CQg"
      },
      "execution_count": null,
      "outputs": []
    },
    {
      "cell_type": "code",
      "source": [
        "data = df[\"s_high temp\"]\n",
        "target = df[\"MWh*1000\"]"
      ],
      "metadata": {
        "id": "G9BxXSE_1HS7"
      },
      "execution_count": null,
      "outputs": []
    },
    {
      "cell_type": "code",
      "source": [
        "df_3 = pd.DataFrame({'data': data, 'target': target})"
      ],
      "metadata": {
        "id": "doOqm5hx1bTE"
      },
      "execution_count": null,
      "outputs": []
    },
    {
      "cell_type": "code",
      "source": [
        "window_size = 10  # 입력 시퀀스의 길이\n",
        "x = []\n",
        "y = []\n",
        "for i in range(len(df) - window_size):\n",
        "    x.append(df_1['data'].iloc[i:i+window_size].values)\n",
        "    y.append(df_1['target'].iloc[i+window_size])\n",
        "x = np.array(x)\n",
        "y = np.array(y)"
      ],
      "metadata": {
        "id": "CPrcCkXu1dxH"
      },
      "execution_count": null,
      "outputs": []
    },
    {
      "cell_type": "code",
      "source": [
        "train_size = int(len(x) * 0.8)\n",
        "x_train, x_test = x[:train_size], x[train_size:]\n",
        "y_train, y_test = y[:train_size], y[train_size:]\n",
        "\n",
        "# MLP 모델 구축\n",
        "model = keras.Sequential([\n",
        "    keras.layers.Dense(96, activation='relu', input_shape=(window_size,)),\n",
        "    keras.layers.Dense(48, activation='relu'),\n",
        "    keras.layers.Dense(1)\n",
        "])\n",
        "\n",
        "# 모델 컴파일\n",
        "model.compile(optimizer='RMSprop', loss='mean_squared_error')"
      ],
      "metadata": {
        "id": "P-DteFuP1gDK"
      },
      "execution_count": null,
      "outputs": []
    },
    {
      "cell_type": "code",
      "source": [
        "# 모델 훈련\n",
        "model.fit(x_train, y_train, epochs=200, batch_size=64)\n",
        "\n",
        "# 모델 평가\n",
        "test_loss = model.evaluate(x_test, y_test)\n",
        "print('Test loss:', test_loss)\n",
        "\n",
        "# 다음 값을 예측\n",
        "last_window = df_1['data'].iloc[-window_size:].values\n",
        "next_value = model.predict(np.expand_dims(last_window, axis=0))\n",
        "print('Next value prediction:', next_value)"
      ],
      "metadata": {
        "id": "4ZbBpSgp1jjf"
      },
      "execution_count": null,
      "outputs": []
    },
    {
      "cell_type": "code",
      "source": [
        "   # keras.layers.Dense(96, activation='relu', input_shape=(window_size,)),\n",
        "    #keras.layers.Dense(48, activation='relu'),\n",
        "#Test loss: 0.007946128025650978\n",
        "#1/1 [==============================] - 0s 68ms/step\n",
        "#Next value prediction: [[0.8650393]]"
      ],
      "metadata": {
        "id": "HIYAXq6J1mHr"
      },
      "execution_count": null,
      "outputs": []
    },
    {
      "cell_type": "code",
      "source": [
        "data = df[\"s_high temp\"]\n",
        "target = df[\"MWh*1000\"]"
      ],
      "metadata": {
        "id": "kS9vuQPd5XqD"
      },
      "execution_count": null,
      "outputs": []
    },
    {
      "cell_type": "code",
      "source": [
        "df_3 = pd.DataFrame({'data': data, 'target': target})"
      ],
      "metadata": {
        "id": "TVluI91T5ZoW"
      },
      "execution_count": null,
      "outputs": []
    },
    {
      "cell_type": "code",
      "source": [
        "window_size = 10  # 입력 시퀀스의 길이\n",
        "x = []\n",
        "y = []\n",
        "for i in range(len(df) - window_size):\n",
        "    x.append(df_1['data'].iloc[i:i+window_size].values)\n",
        "    y.append(df_1['target'].iloc[i+window_size])\n",
        "x = np.array(x)\n",
        "y = np.array(y)"
      ],
      "metadata": {
        "id": "CvYjNCIh5bKN"
      },
      "execution_count": null,
      "outputs": []
    },
    {
      "cell_type": "code",
      "source": [
        "train_size = int(len(x) * 0.8)\n",
        "x_train, x_test = x[:train_size], x[train_size:]\n",
        "y_train, y_test = y[:train_size], y[train_size:]\n",
        "\n",
        "# MLP 모델 구축\n",
        "model = keras.Sequential([\n",
        "    keras.layers.Dense(48, activation='relu', input_shape=(window_size,)),\n",
        "    keras.layers.Dense(24, activation='relu'),\n",
        "    keras.layers.Dense(1)\n",
        "])\n",
        "\n",
        "# 모델 컴파일\n",
        "model.compile(optimizer='RMSprop', loss='mean_squared_error')"
      ],
      "metadata": {
        "id": "cogpmmeX5fFk"
      },
      "execution_count": null,
      "outputs": []
    },
    {
      "cell_type": "code",
      "source": [
        "# 모델 훈련\n",
        "model.fit(x_train, y_train, epochs=200, batch_size=32)\n",
        "\n",
        "# 모델 평가\n",
        "test_loss = model.evaluate(x_test, y_test)\n",
        "print('Test loss:', test_loss)\n",
        "\n",
        "# 다음 값을 예측\n",
        "last_window = df_1['data'].iloc[-window_size:].values\n",
        "next_value = model.predict(np.expand_dims(last_window, axis=0))\n",
        "print('Next value prediction:', next_value)"
      ],
      "metadata": {
        "id": "FRNhDceU5gE6"
      },
      "execution_count": null,
      "outputs": []
    },
    {
      "cell_type": "code",
      "source": [
        "#Test loss: 0.009651596657931805\n",
        "#1/1 [==============================] - 0s 61ms/step\n",
        "#Next value prediction: [[0.8439958]]"
      ],
      "metadata": {
        "id": "YqohwnAv52CP"
      },
      "execution_count": null,
      "outputs": []
    },
    {
      "cell_type": "code",
      "source": [
        "data = df[\"s_high temp\"]\n",
        "target = df[\"MWh*1000\"]"
      ],
      "metadata": {
        "id": "OsKz-TWd2KjT"
      },
      "execution_count": null,
      "outputs": []
    },
    {
      "cell_type": "code",
      "source": [
        "df_3 = pd.DataFrame({'data': data, 'target': target})"
      ],
      "metadata": {
        "id": "KkFtg3Mm2LEA"
      },
      "execution_count": null,
      "outputs": []
    },
    {
      "cell_type": "code",
      "source": [
        "window_size = 10  # 입력 시퀀스의 길이\n",
        "x = []\n",
        "y = []\n",
        "for i in range(len(df) - window_size):\n",
        "    x.append(df_3['data'].iloc[i:i+window_size].values)\n",
        "    y.append(df_3['target'].iloc[i+window_size])\n",
        "x = np.array(x)\n",
        "y = np.array(y)"
      ],
      "metadata": {
        "id": "CJntxVyD2NRy"
      },
      "execution_count": null,
      "outputs": []
    },
    {
      "cell_type": "code",
      "source": [
        "train_size = int(len(x) * 0.8)\n",
        "x_train, x_test = x[:train_size], x[train_size:]\n",
        "y_train, y_test = y[:train_size], y[train_size:]\n",
        "\n",
        "# MLP 모델 구축\n",
        "model = keras.Sequential([\n",
        "    keras.layers.Dense(48, activation='relu', input_shape=(window_size,)),\n",
        "    keras.layers.Dense(24, activation='relu'),\n",
        "    keras.layers.Dense(1)\n",
        "])\n",
        "\n",
        "# 모델 컴파일\n",
        "model.compile(optimizer='RMSprop', loss='mean_squared_error')"
      ],
      "metadata": {
        "id": "JsYXkCO22Pdg"
      },
      "execution_count": null,
      "outputs": []
    },
    {
      "cell_type": "code",
      "source": [
        "# 모델 훈련\n",
        "model.fit(x_train, y_train, epochs=500, batch_size=64)\n",
        "\n",
        "# 모델 평가\n",
        "test_loss = model.evaluate(x_test, y_test)\n",
        "print('Test loss:', test_loss)\n",
        "\n",
        "# 다음 값을 예측\n",
        "last_window = df_3['data'].iloc[-window_size:].values\n",
        "next_value = model.predict(np.expand_dims(last_window, axis=0))\n",
        "print('Next value prediction:', next_value)"
      ],
      "metadata": {
        "id": "Pi8SGelt2Tq4"
      },
      "execution_count": null,
      "outputs": []
    },
    {
      "cell_type": "code",
      "source": [
        "model.save('mlp_model.h5')"
      ],
      "metadata": {
        "id": "C5klpzx_E5nN"
      },
      "execution_count": null,
      "outputs": []
    },
    {
      "cell_type": "code",
      "source": [
        "#keras.layers.Dense(48, activation='relu', input_shape=(window_size,)),\n",
        " #   keras.layers.Dense(24,\n",
        "#epochs=500, batch_size=64)\n",
        "#Test loss: 0.007640763185918331\n",
        "#1/1 [==============================] - 0s 60ms/step\n",
        "#Next value prediction: [[0.878584]]"
      ],
      "metadata": {
        "id": "wFDxFgtw2XZY"
      },
      "execution_count": null,
      "outputs": []
    },
    {
      "cell_type": "code",
      "source": [
        "data = df[\"s_high temp\"]\n",
        "target = df[\"MWh*1000\"]"
      ],
      "metadata": {
        "id": "3xqZrWsJ2uFt"
      },
      "execution_count": null,
      "outputs": []
    },
    {
      "cell_type": "code",
      "source": [
        "df_3 = pd.DataFrame({'data': data, 'target': target})"
      ],
      "metadata": {
        "id": "VXbS5GGY2xfV"
      },
      "execution_count": null,
      "outputs": []
    },
    {
      "cell_type": "code",
      "source": [
        "window_size = 10  # 입력 시퀀스의 길이\n",
        "x = []\n",
        "y = []\n",
        "for i in range(len(df) - window_size):\n",
        "    x.append(df_1['data'].iloc[i:i+window_size].values)\n",
        "    y.append(df_1['target'].iloc[i+window_size])\n",
        "x = np.array(x)\n",
        "y = np.array(y)"
      ],
      "metadata": {
        "id": "mUdXfTjq20ry"
      },
      "execution_count": null,
      "outputs": []
    },
    {
      "cell_type": "code",
      "source": [
        "train_size = int(len(x) * 0.8)\n",
        "x_train, x_test = x[:train_size], x[train_size:]\n",
        "y_train, y_test = y[:train_size], y[train_size:]\n",
        "\n",
        "# MLP 모델 구축\n",
        "model = keras.Sequential([\n",
        "    keras.layers.Dense(96, activation='relu', input_shape=(window_size,)),\n",
        "    keras.layers.Dense(48, activation='relu'),\n",
        "    keras.layers.Dense(1)\n",
        "])\n",
        "\n",
        "# 모델 컴파일\n",
        "model.compile(optimizer='RMSprop', loss='mean_squared_error')"
      ],
      "metadata": {
        "id": "YukRBi3F23H0"
      },
      "execution_count": null,
      "outputs": []
    },
    {
      "cell_type": "code",
      "source": [
        "# 모델 훈련\n",
        "model.fit(x_train, y_train, epochs=500, batch_size=32)\n",
        "\n",
        "# 모델 평가\n",
        "test_loss = model.evaluate(x_test, y_test)\n",
        "print('Test loss:', test_loss)\n",
        "\n",
        "# 다음 값을 예측\n",
        "last_window = df_1['data'].iloc[-window_size:].values\n",
        "next_value = model.predict(np.expand_dims(last_window, axis=0))\n",
        "print('Next value prediction:', next_value)"
      ],
      "metadata": {
        "id": "rmIBzYaV27AZ"
      },
      "execution_count": null,
      "outputs": []
    },
    {
      "cell_type": "code",
      "source": [
        " #keras.layers.Dense(96, activation='relu', input_shape=(window_size,)),\n",
        "  #  keras.layers.Dense(48, activation='relu')\n",
        "#epochs=500, batch_size=32)\n",
        "#Test loss: 0.013502337038516998\n",
        "#1/1 [==============================] - 0s 89ms/step\n",
        "#Next value prediction: [[0.8500004]]"
      ],
      "metadata": {
        "id": "7C5pun412-xF"
      },
      "execution_count": null,
      "outputs": []
    },
    {
      "cell_type": "code",
      "source": [
        "data = df[\"s_high temp\"]\n",
        "target = df[\"MWh*1000\"]"
      ],
      "metadata": {
        "id": "d3v0_if73YSC"
      },
      "execution_count": null,
      "outputs": []
    },
    {
      "cell_type": "code",
      "source": [
        "df_3 = pd.DataFrame({'data': data, 'target': target})"
      ],
      "metadata": {
        "id": "ZKW0mCUe3e_7"
      },
      "execution_count": null,
      "outputs": []
    },
    {
      "cell_type": "code",
      "source": [
        "window_size = 10  # 입력 시퀀스의 길이\n",
        "x = []\n",
        "y = []\n",
        "for i in range(len(df) - window_size):\n",
        "    x.append(df_1['data'].iloc[i:i+window_size].values)\n",
        "    y.append(df_1['target'].iloc[i+window_size])\n",
        "x = np.array(x)\n",
        "y = np.array(y)"
      ],
      "metadata": {
        "id": "8J_o0XtV3hcW"
      },
      "execution_count": null,
      "outputs": []
    },
    {
      "cell_type": "code",
      "source": [
        "train_size = int(len(x) * 0.8)\n",
        "x_train, x_test = x[:train_size], x[train_size:]\n",
        "y_train, y_test = y[:train_size], y[train_size:]\n",
        "\n",
        "# MLP 모델 구축\n",
        "model = keras.Sequential([\n",
        "    keras.layers.Dense(48, activation='relu', input_shape=(window_size,)),\n",
        "    keras.layers.Dense(24, activation='relu'),\n",
        "    keras.layers.Dense(1)\n",
        "])\n",
        "\n",
        "# 모델 컴파일\n",
        "model.compile(optimizer='RMSprop', loss='mean_squared_error')"
      ],
      "metadata": {
        "id": "KLDHOyq33jc5"
      },
      "execution_count": null,
      "outputs": []
    },
    {
      "cell_type": "code",
      "source": [
        "# 모델 훈련\n",
        "model.fit(x_train, y_train, epochs=1000, batch_size=64)\n",
        "\n",
        "# 모델 평가\n",
        "test_loss = model.evaluate(x_test, y_test)\n",
        "print('Test loss:', test_loss)\n",
        "\n",
        "# 다음 값을 예측\n",
        "last_window = df_1['data'].iloc[-window_size:].values\n",
        "next_value = model.predict(np.expand_dims(last_window, axis=0))\n",
        "print('Next value prediction:', next_value)"
      ],
      "metadata": {
        "id": "qAABLDrF3nMC"
      },
      "execution_count": null,
      "outputs": []
    },
    {
      "cell_type": "code",
      "source": [
        "#keras.layers.Dense(48, activation='relu', input_shape=(window_size,)),\n",
        " #   keras.layers.Dense(24,\n",
        "#epochs=1000, batch_size=64)\n",
        "#Test loss: 0.008411530405282974\n",
        "#1/1 [==============================] - 0s 63ms/step\n",
        "#Next value prediction: [[0.8621399]]"
      ],
      "metadata": {
        "id": "VYvV4mNP3vHh"
      },
      "execution_count": null,
      "outputs": []
    },
    {
      "cell_type": "code",
      "source": [
        "data = df[\"s_high temp\"]\n",
        "target = df[\"MWh*1000\"]"
      ],
      "metadata": {
        "id": "kNmjpsb34N7y"
      },
      "execution_count": null,
      "outputs": []
    },
    {
      "cell_type": "code",
      "source": [
        "df_3 = pd.DataFrame({'data': data, 'target': target})"
      ],
      "metadata": {
        "id": "_-14ttTe4Qco"
      },
      "execution_count": null,
      "outputs": []
    },
    {
      "cell_type": "code",
      "source": [
        "window_size = 10  # 입력 시퀀스의 길이\n",
        "x = []\n",
        "y = []\n",
        "for i in range(len(df) - window_size):\n",
        "    x.append(df_1['data'].iloc[i:i+window_size].values)\n",
        "    y.append(df_1['target'].iloc[i+window_size])\n",
        "x = np.array(x)\n",
        "y = np.array(y)"
      ],
      "metadata": {
        "id": "fo50Wl9g4T0B"
      },
      "execution_count": null,
      "outputs": []
    },
    {
      "cell_type": "code",
      "source": [
        "train_size = int(len(x) * 0.8)\n",
        "x_train, x_test = x[:train_size], x[train_size:]\n",
        "y_train, y_test = y[:train_size], y[train_size:]\n",
        "\n",
        "# MLP 모델 구축\n",
        "model = keras.Sequential([\n",
        "    keras.layers.Dense(96, activation='relu', input_shape=(window_size,)),\n",
        "    keras.layers.Dense(48, activation='relu'),\n",
        "    keras.layers.Dense(1)\n",
        "])\n",
        "\n",
        "# 모델 컴파일\n",
        "model.compile(optimizer='RMSprop', loss='mean_squared_error')"
      ],
      "metadata": {
        "id": "--519HYd4WBu"
      },
      "execution_count": null,
      "outputs": []
    },
    {
      "cell_type": "code",
      "source": [
        "# 모델 훈련\n",
        "model.fit(x_train, y_train, epochs=1000, batch_size=32)\n",
        "\n",
        "# 모델 평가\n",
        "test_loss = model.evaluate(x_test, y_test)\n",
        "print('Test loss:', test_loss)\n",
        "\n",
        "# 다음 값을 예측\n",
        "last_window = df_1['data'].iloc[-window_size:].values\n",
        "next_value = model.predict(np.expand_dims(last_window, axis=0))\n",
        "print('Next value prediction:', next_value)"
      ],
      "metadata": {
        "id": "piKupz0W4ZfL"
      },
      "execution_count": null,
      "outputs": []
    },
    {
      "cell_type": "code",
      "source": [
        "#(96, activation='relu', input_shape=(window_size,)),\n",
        " #   keras.layers.Dense(48,\n",
        "#epochs=1000, batch_size=32)\n",
        "#Test loss: 0.01408625952899456\n",
        "#1/1 [==============================] - 0s 57ms/step\n",
        "#Next value prediction: [[0.75207967]]"
      ],
      "metadata": {
        "id": "_zyd2dyo4cS2"
      },
      "execution_count": null,
      "outputs": []
    },
    {
      "cell_type": "code",
      "source": [
        "#표로 정리\n",
        "data = {\n",
        "    \"번호\": [1, 2, 3, 4, 5, 6],\n",
        "    'Keras의 Dense 층': ['48/24', '48/24', '96/48', '48/24', '96/48', '96/48'],\n",
        "    '오차': [0.008262787945568562, 0.009651596657931805, 0.007946128025650978, 0.007640763185918331, 0.013502337038516998, 0.01408625952899456],\n",
        "    'Epoch': [200, 200, 500, 500, 1000, 1000],\n",
        "    'Next value prediction': [0.84887606, 0.8439958, 0.8650393, 0.878584, 0.8500004, 0.75207967],\n",
        "    'Batch_size': [64, 32, 64, 64, 32, 32]\n",
        "}\n",
        "\n",
        "df_8 = pd.DataFrame(data, dtype=float)"
      ],
      "metadata": {
        "id": "4jNHifqc5L6R"
      },
      "execution_count": null,
      "outputs": []
    },
    {
      "cell_type": "code",
      "source": [
        "df_8"
      ],
      "metadata": {
        "id": "JGOLEFPX7KhO"
      },
      "execution_count": null,
      "outputs": []
    },
    {
      "cell_type": "code",
      "source": [
        "#가장 오차가 작은 것을 알아보기 위해 그래프로 나타내보았다.\n",
        "import numpy as np\n",
        "import matplotlib.pyplot as plt\n",
        "x = df_8[\"번호\"]\n",
        "y1 = df_8[\"오차\"]\n",
        "\n",
        "# 그래프 그리기\n",
        "plt.plot(x, y1, label='error')\n",
        "\n",
        "# 그래프 제목, 축 레이블 설정\n",
        "plt.title('What would be the most appropriate?')\n",
        "plt.ylabel('Y-axis')\n",
        "\n",
        "# 그래프 보이기\n",
        "plt.show()\n",
        "\n",
        "#3\t48/24\t0.007641\t500.0\t0.878584\t64.0\n",
        "#이 모델이 가장 오차가 작게 나왔다.\n",
        "\n",
        "#더 많은 비교를 해보고 싶었지만 대표적으로 많이 쓰는 48/24, 32/16, 96/48일 때의 조건을 기준으로 비교해보았다."
      ],
      "metadata": {
        "id": "fKlkE6Gm7Lrq"
      },
      "execution_count": null,
      "outputs": []
    },
    {
      "cell_type": "code",
      "source": [
        "pip install streamlit"
      ],
      "metadata": {
        "id": "VhC3A5Q8FNcx"
      },
      "execution_count": null,
      "outputs": []
    },
    {
      "cell_type": "code",
      "source": [
        "#모델의 결과를 가지고 streamlit을 활용하여 전력량을 예측해주는 프로토타입을 만들었다.\n",
        "#이것으로 streamlit으로 구축해보겠다.\n",
        "import streamlit as st\n",
        "import tensorflow as tf\n",
        "from tensorflow import keras\n",
        "\n",
        "# MLP 모델 불러오기\n",
        "model = keras.models.load_model('mlp_model.h5')\n",
        "\n",
        "# Streamlit 앱 설정\n",
        "st.title(\"서울시의 전력을 예측해보자!\")\n",
        "\n",
        "# 풍속 입력 필드\n",
        "speed = st.number_input(\"MWh*1000\", min_value=0.0)\n",
        "\n",
        "# 예측 함수\n",
        "def predict_power(electricity):\n",
        "    power = model.predict([[electricity]])[0][0]\n",
        "    return power\n",
        "\n",
        "# 예측 버튼\n",
        "if st.button(\"예측\"):\n",
        "    result = predict_power(speed)\n",
        "    st.write(f\"서울시 전기 소비량 예측: {result:.2f} MWh\")"
      ],
      "metadata": {
        "id": "funl_cp8_6d9"
      },
      "execution_count": null,
      "outputs": []
    },
    {
      "cell_type": "code",
      "source": [
        "pip install pyngrok"
      ],
      "metadata": {
        "id": "9q26qmOZFt54"
      },
      "execution_count": null,
      "outputs": []
    },
    {
      "cell_type": "code",
      "source": [
        "!nohup streamlit run app.py --server url &"
      ],
      "metadata": {
        "id": "OB-Zw91BHle0"
      },
      "execution_count": null,
      "outputs": []
    },
    {
      "cell_type": "code",
      "source": [
        "url = ngrok.connect(port='80')\n",
        "url"
      ],
      "metadata": {
        "id": "njKIEInFHtuj"
      },
      "execution_count": null,
      "outputs": []
    },
    {
      "cell_type": "code",
      "source": [],
      "metadata": {
        "id": "glBoVc02H8DI"
      },
      "execution_count": null,
      "outputs": []
    }
  ]
}